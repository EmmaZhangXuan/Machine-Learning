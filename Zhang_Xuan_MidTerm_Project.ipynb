{
 "cells": [
  {
   "cell_type": "markdown",
   "metadata": {},
   "source": [
    "# Midterm project\n",
    "\n",
    "We are giving you a dataset and asking you to create a model to make predictions.\n",
    "This assignment is less structured than the previous ones.  It is intended to be similar to what a potential\n",
    "employer would give you to evaluate your skills.\n",
    "\n",
    "So: time to show off ! Use the knowledge you have acquired in the first 7 weeks of the course to create a Jupyter notebook that presents your work (and you) in the best light.\n",
    "\n",
    "As usual, a \"correct answer\" (e.g., highly predictive model) is only part of the goal.\n",
    "Your entire research methodology should be evident, as per the \"Recipe for ML\" we have discussed in class.\n"
   ]
  },
  {
   "cell_type": "markdown",
   "metadata": {},
   "source": [
    "# The problem\n",
    "\n",
    "You are given a dataset of customers who have applied for credit.\n",
    "Each customer is associated with some number of attributes, and a rating of being a Good/Bad credit risk.\n",
    "\n",
    "## The dataset\n",
    "\n",
    "- The dataset is given in the file \"credit_data.csv\".\n",
    "- Each row corresponds to one customer.\n",
    "- There are 20 attributes, some numeric and some categorical.\n",
    "- The last column \"Credit Risk\" encodes whether the customer was judged to be a Good/Bad credit risk\n",
    "    - 1: Good credit risk\n",
    "    - 2: Bad credit risk\n",
    "\n",
    "You will use this data to come up with a model that predicts \"Credit Risk\" for a customer from the customer's attributes.\n",
    "\n",
    "### Attributes\n",
    "\n",
    "A description of the attributes is given in the plain text file \"credit_data_attributes.txt\".\n",
    "\n",
    "You will notice that the values for many attributes are encoded as strings.\n",
    "For example, attribute 7 is the customer's Employment Status, having possible values\n",
    "A71, A72, .., A75.  Per the file, \"A71\" means the customer is unemployed.\n",
    "\n",
    "#### Currency\n",
    "\n",
    "The currency units are \"DM\" (old German currency: the Deutsche Mark).\n",
    "\n",
    "As you might guess: this data is not recent; you may find anachronisms other than the currency."
   ]
  },
  {
   "cell_type": "markdown",
   "metadata": {},
   "source": [
    "# Your submission\n",
    "\n",
    "There are some ground rules, mainly to make grading easier for the GA and instructor.\n",
    "\n",
    "Your `sklearn` model should be stored in the variable `credit_model`; this will allow the GA to apply `sklearn` methods to this variable to evaluate your predictions, e.g.\n",
    ">`credit_model.predict( ... )`\n",
    "\n",
    "Your submission must contain a Jupyter notebook in a file named\n",
    ">LastName_FirstName_MidTerm_Project.ipynb\n",
    "\n",
    "where `LastName` and `FirstName` should be replaced with your name (as it appears on the class roster).\n",
    "\n",
    "**IF** your submission consists of files in addition to this one notebook, you can submit a *single* zip file.  This file **must** conform to the following rules:\n",
    "- The notebook must execute, unchanged, when unzipped into *an arbitrary directory*\n",
    "    - This means that all paths, e.g., to data files or modules, must be *relative* and not absolute.\n",
    "    "
   ]
  },
  {
   "cell_type": "markdown",
   "metadata": {},
   "source": [
    "## Take a look at features. There are twenty features."
   ]
  },
  {
   "cell_type": "code",
   "execution_count": 129,
   "metadata": {},
   "outputs": [
    {
     "data": {
      "text/html": [
       "<div>\n",
       "<style scoped>\n",
       "    .dataframe tbody tr th:only-of-type {\n",
       "        vertical-align: middle;\n",
       "    }\n",
       "\n",
       "    .dataframe tbody tr th {\n",
       "        vertical-align: top;\n",
       "    }\n",
       "\n",
       "    .dataframe thead th {\n",
       "        text-align: right;\n",
       "    }\n",
       "</style>\n",
       "<table border=\"1\" class=\"dataframe\">\n",
       "  <thead>\n",
       "    <tr style=\"text-align: right;\">\n",
       "      <th></th>\n",
       "      <th>Attribute 1</th>\n",
       "      <th>Attribute 2</th>\n",
       "      <th>Attribute 3</th>\n",
       "      <th>Attribute 4</th>\n",
       "      <th>Attribute 5</th>\n",
       "      <th>Attribute 6</th>\n",
       "      <th>Attribute 7</th>\n",
       "      <th>Attribute 8</th>\n",
       "      <th>Attribute 9</th>\n",
       "      <th>Attribute 10</th>\n",
       "      <th>...</th>\n",
       "      <th>Attribute 12</th>\n",
       "      <th>Attribute 13</th>\n",
       "      <th>Attribute 14</th>\n",
       "      <th>Attribute 15</th>\n",
       "      <th>Attribute 16</th>\n",
       "      <th>Attribute 17</th>\n",
       "      <th>Attribute 18</th>\n",
       "      <th>Attribute 19</th>\n",
       "      <th>Attribute 20</th>\n",
       "      <th>Credit Risk</th>\n",
       "    </tr>\n",
       "  </thead>\n",
       "  <tbody>\n",
       "    <tr>\n",
       "      <th>0</th>\n",
       "      <td>A11</td>\n",
       "      <td>6</td>\n",
       "      <td>A34</td>\n",
       "      <td>A43</td>\n",
       "      <td>1169</td>\n",
       "      <td>A65</td>\n",
       "      <td>A75</td>\n",
       "      <td>4</td>\n",
       "      <td>A93</td>\n",
       "      <td>A101</td>\n",
       "      <td>...</td>\n",
       "      <td>A121</td>\n",
       "      <td>67</td>\n",
       "      <td>A143</td>\n",
       "      <td>A152</td>\n",
       "      <td>2</td>\n",
       "      <td>A173</td>\n",
       "      <td>1</td>\n",
       "      <td>A192</td>\n",
       "      <td>A201</td>\n",
       "      <td>1</td>\n",
       "    </tr>\n",
       "    <tr>\n",
       "      <th>1</th>\n",
       "      <td>A12</td>\n",
       "      <td>48</td>\n",
       "      <td>A32</td>\n",
       "      <td>A43</td>\n",
       "      <td>5951</td>\n",
       "      <td>A61</td>\n",
       "      <td>A73</td>\n",
       "      <td>2</td>\n",
       "      <td>A92</td>\n",
       "      <td>A101</td>\n",
       "      <td>...</td>\n",
       "      <td>A121</td>\n",
       "      <td>22</td>\n",
       "      <td>A143</td>\n",
       "      <td>A152</td>\n",
       "      <td>1</td>\n",
       "      <td>A173</td>\n",
       "      <td>1</td>\n",
       "      <td>A191</td>\n",
       "      <td>A201</td>\n",
       "      <td>2</td>\n",
       "    </tr>\n",
       "    <tr>\n",
       "      <th>2</th>\n",
       "      <td>A14</td>\n",
       "      <td>12</td>\n",
       "      <td>A34</td>\n",
       "      <td>A46</td>\n",
       "      <td>2096</td>\n",
       "      <td>A61</td>\n",
       "      <td>A74</td>\n",
       "      <td>2</td>\n",
       "      <td>A93</td>\n",
       "      <td>A101</td>\n",
       "      <td>...</td>\n",
       "      <td>A121</td>\n",
       "      <td>49</td>\n",
       "      <td>A143</td>\n",
       "      <td>A152</td>\n",
       "      <td>1</td>\n",
       "      <td>A172</td>\n",
       "      <td>2</td>\n",
       "      <td>A191</td>\n",
       "      <td>A201</td>\n",
       "      <td>1</td>\n",
       "    </tr>\n",
       "    <tr>\n",
       "      <th>3</th>\n",
       "      <td>A11</td>\n",
       "      <td>42</td>\n",
       "      <td>A32</td>\n",
       "      <td>A42</td>\n",
       "      <td>7882</td>\n",
       "      <td>A61</td>\n",
       "      <td>A74</td>\n",
       "      <td>2</td>\n",
       "      <td>A93</td>\n",
       "      <td>A103</td>\n",
       "      <td>...</td>\n",
       "      <td>A122</td>\n",
       "      <td>45</td>\n",
       "      <td>A143</td>\n",
       "      <td>A153</td>\n",
       "      <td>1</td>\n",
       "      <td>A173</td>\n",
       "      <td>2</td>\n",
       "      <td>A191</td>\n",
       "      <td>A201</td>\n",
       "      <td>1</td>\n",
       "    </tr>\n",
       "    <tr>\n",
       "      <th>4</th>\n",
       "      <td>A11</td>\n",
       "      <td>24</td>\n",
       "      <td>A33</td>\n",
       "      <td>A40</td>\n",
       "      <td>4870</td>\n",
       "      <td>A61</td>\n",
       "      <td>A73</td>\n",
       "      <td>3</td>\n",
       "      <td>A93</td>\n",
       "      <td>A101</td>\n",
       "      <td>...</td>\n",
       "      <td>A124</td>\n",
       "      <td>53</td>\n",
       "      <td>A143</td>\n",
       "      <td>A153</td>\n",
       "      <td>2</td>\n",
       "      <td>A173</td>\n",
       "      <td>2</td>\n",
       "      <td>A191</td>\n",
       "      <td>A201</td>\n",
       "      <td>2</td>\n",
       "    </tr>\n",
       "  </tbody>\n",
       "</table>\n",
       "<p>5 rows × 21 columns</p>\n",
       "</div>"
      ],
      "text/plain": [
       "  Attribute 1  Attribute 2 Attribute 3 Attribute 4  Attribute 5 Attribute 6  \\\n",
       "0         A11            6         A34         A43         1169         A65   \n",
       "1         A12           48         A32         A43         5951         A61   \n",
       "2         A14           12         A34         A46         2096         A61   \n",
       "3         A11           42         A32         A42         7882         A61   \n",
       "4         A11           24         A33         A40         4870         A61   \n",
       "\n",
       "  Attribute 7  Attribute 8 Attribute 9 Attribute 10     ...      Attribute 12  \\\n",
       "0         A75            4         A93         A101     ...              A121   \n",
       "1         A73            2         A92         A101     ...              A121   \n",
       "2         A74            2         A93         A101     ...              A121   \n",
       "3         A74            2         A93         A103     ...              A122   \n",
       "4         A73            3         A93         A101     ...              A124   \n",
       "\n",
       "  Attribute 13  Attribute 14 Attribute 15 Attribute 16  Attribute 17  \\\n",
       "0           67          A143         A152            2          A173   \n",
       "1           22          A143         A152            1          A173   \n",
       "2           49          A143         A152            1          A172   \n",
       "3           45          A143         A153            1          A173   \n",
       "4           53          A143         A153            2          A173   \n",
       "\n",
       "  Attribute 18  Attribute 19 Attribute 20 Credit Risk  \n",
       "0            1          A192         A201           1  \n",
       "1            1          A191         A201           2  \n",
       "2            2          A191         A201           1  \n",
       "3            2          A191         A201           1  \n",
       "4            2          A191         A201           2  \n",
       "\n",
       "[5 rows x 21 columns]"
      ]
     },
     "execution_count": 129,
     "metadata": {},
     "output_type": "execute_result"
    }
   ],
   "source": [
    "import pandas as pd\n",
    "import numpy as np\n",
    "import os\n",
    "\n",
    "train_data=pd.read_csv(\"data/credit_data.csv\")\n",
    "train_data.head()"
   ]
  },
  {
   "cell_type": "markdown",
   "metadata": {},
   "source": [
    "## To be clearer, I change the features's name to their real meanings."
   ]
  },
  {
   "cell_type": "code",
   "execution_count": 130,
   "metadata": {},
   "outputs": [
    {
     "data": {
      "text/html": [
       "<div>\n",
       "<style scoped>\n",
       "    .dataframe tbody tr th:only-of-type {\n",
       "        vertical-align: middle;\n",
       "    }\n",
       "\n",
       "    .dataframe tbody tr th {\n",
       "        vertical-align: top;\n",
       "    }\n",
       "\n",
       "    .dataframe thead th {\n",
       "        text-align: right;\n",
       "    }\n",
       "</style>\n",
       "<table border=\"1\" class=\"dataframe\">\n",
       "  <thead>\n",
       "    <tr style=\"text-align: right;\">\n",
       "      <th></th>\n",
       "      <th>Checking account</th>\n",
       "      <th>Duration month</th>\n",
       "      <th>Credit history</th>\n",
       "      <th>Purpose</th>\n",
       "      <th>Credit amount</th>\n",
       "      <th>Savings</th>\n",
       "      <th>Present employment</th>\n",
       "      <th>Installment rate</th>\n",
       "      <th>Status and sex</th>\n",
       "      <th>Other debtors / guarantors</th>\n",
       "      <th>...</th>\n",
       "      <th>Property</th>\n",
       "      <th>Age</th>\n",
       "      <th>Other installment plans</th>\n",
       "      <th>Housing</th>\n",
       "      <th>Existing credits</th>\n",
       "      <th>Job</th>\n",
       "      <th>Number of people being liable</th>\n",
       "      <th>Telephone</th>\n",
       "      <th>Foreign worker</th>\n",
       "      <th>Credit Risk</th>\n",
       "    </tr>\n",
       "  </thead>\n",
       "  <tbody>\n",
       "    <tr>\n",
       "      <th>0</th>\n",
       "      <td>A11</td>\n",
       "      <td>6</td>\n",
       "      <td>A34</td>\n",
       "      <td>A43</td>\n",
       "      <td>1169</td>\n",
       "      <td>A65</td>\n",
       "      <td>A75</td>\n",
       "      <td>4</td>\n",
       "      <td>A93</td>\n",
       "      <td>A101</td>\n",
       "      <td>...</td>\n",
       "      <td>A121</td>\n",
       "      <td>67</td>\n",
       "      <td>A143</td>\n",
       "      <td>A152</td>\n",
       "      <td>2</td>\n",
       "      <td>A173</td>\n",
       "      <td>1</td>\n",
       "      <td>A192</td>\n",
       "      <td>A201</td>\n",
       "      <td>1</td>\n",
       "    </tr>\n",
       "    <tr>\n",
       "      <th>1</th>\n",
       "      <td>A12</td>\n",
       "      <td>48</td>\n",
       "      <td>A32</td>\n",
       "      <td>A43</td>\n",
       "      <td>5951</td>\n",
       "      <td>A61</td>\n",
       "      <td>A73</td>\n",
       "      <td>2</td>\n",
       "      <td>A92</td>\n",
       "      <td>A101</td>\n",
       "      <td>...</td>\n",
       "      <td>A121</td>\n",
       "      <td>22</td>\n",
       "      <td>A143</td>\n",
       "      <td>A152</td>\n",
       "      <td>1</td>\n",
       "      <td>A173</td>\n",
       "      <td>1</td>\n",
       "      <td>A191</td>\n",
       "      <td>A201</td>\n",
       "      <td>2</td>\n",
       "    </tr>\n",
       "    <tr>\n",
       "      <th>2</th>\n",
       "      <td>A14</td>\n",
       "      <td>12</td>\n",
       "      <td>A34</td>\n",
       "      <td>A46</td>\n",
       "      <td>2096</td>\n",
       "      <td>A61</td>\n",
       "      <td>A74</td>\n",
       "      <td>2</td>\n",
       "      <td>A93</td>\n",
       "      <td>A101</td>\n",
       "      <td>...</td>\n",
       "      <td>A121</td>\n",
       "      <td>49</td>\n",
       "      <td>A143</td>\n",
       "      <td>A152</td>\n",
       "      <td>1</td>\n",
       "      <td>A172</td>\n",
       "      <td>2</td>\n",
       "      <td>A191</td>\n",
       "      <td>A201</td>\n",
       "      <td>1</td>\n",
       "    </tr>\n",
       "    <tr>\n",
       "      <th>3</th>\n",
       "      <td>A11</td>\n",
       "      <td>42</td>\n",
       "      <td>A32</td>\n",
       "      <td>A42</td>\n",
       "      <td>7882</td>\n",
       "      <td>A61</td>\n",
       "      <td>A74</td>\n",
       "      <td>2</td>\n",
       "      <td>A93</td>\n",
       "      <td>A103</td>\n",
       "      <td>...</td>\n",
       "      <td>A122</td>\n",
       "      <td>45</td>\n",
       "      <td>A143</td>\n",
       "      <td>A153</td>\n",
       "      <td>1</td>\n",
       "      <td>A173</td>\n",
       "      <td>2</td>\n",
       "      <td>A191</td>\n",
       "      <td>A201</td>\n",
       "      <td>1</td>\n",
       "    </tr>\n",
       "    <tr>\n",
       "      <th>4</th>\n",
       "      <td>A11</td>\n",
       "      <td>24</td>\n",
       "      <td>A33</td>\n",
       "      <td>A40</td>\n",
       "      <td>4870</td>\n",
       "      <td>A61</td>\n",
       "      <td>A73</td>\n",
       "      <td>3</td>\n",
       "      <td>A93</td>\n",
       "      <td>A101</td>\n",
       "      <td>...</td>\n",
       "      <td>A124</td>\n",
       "      <td>53</td>\n",
       "      <td>A143</td>\n",
       "      <td>A153</td>\n",
       "      <td>2</td>\n",
       "      <td>A173</td>\n",
       "      <td>2</td>\n",
       "      <td>A191</td>\n",
       "      <td>A201</td>\n",
       "      <td>2</td>\n",
       "    </tr>\n",
       "  </tbody>\n",
       "</table>\n",
       "<p>5 rows × 21 columns</p>\n",
       "</div>"
      ],
      "text/plain": [
       "  Checking account  Duration month Credit history Purpose  Credit amount  \\\n",
       "0              A11               6            A34     A43           1169   \n",
       "1              A12              48            A32     A43           5951   \n",
       "2              A14              12            A34     A46           2096   \n",
       "3              A11              42            A32     A42           7882   \n",
       "4              A11              24            A33     A40           4870   \n",
       "\n",
       "  Savings Present employment  Installment rate Status and sex  \\\n",
       "0     A65                A75                 4            A93   \n",
       "1     A61                A73                 2            A92   \n",
       "2     A61                A74                 2            A93   \n",
       "3     A61                A74                 2            A93   \n",
       "4     A61                A73                 3            A93   \n",
       "\n",
       "  Other debtors / guarantors     ...      Property Age  \\\n",
       "0                       A101     ...          A121  67   \n",
       "1                       A101     ...          A121  22   \n",
       "2                       A101     ...          A121  49   \n",
       "3                       A103     ...          A122  45   \n",
       "4                       A101     ...          A124  53   \n",
       "\n",
       "   Other installment plans Housing Existing credits   Job  \\\n",
       "0                     A143    A152                2  A173   \n",
       "1                     A143    A152                1  A173   \n",
       "2                     A143    A152                1  A172   \n",
       "3                     A143    A153                1  A173   \n",
       "4                     A143    A153                2  A173   \n",
       "\n",
       "  Number of people being liable  Telephone Foreign worker Credit Risk  \n",
       "0                             1       A192           A201           1  \n",
       "1                             1       A191           A201           2  \n",
       "2                             2       A191           A201           1  \n",
       "3                             2       A191           A201           1  \n",
       "4                             2       A191           A201           2  \n",
       "\n",
       "[5 rows x 21 columns]"
      ]
     },
     "execution_count": 130,
     "metadata": {},
     "output_type": "execute_result"
    }
   ],
   "source": [
    "train_data.rename(columns={'Attribute 1' : 'Checking account','Attribute 2' : 'Duration month','Attribute 3' : 'Credit history',\n",
    "                           'Attribute 4' : 'Purpose','Attribute 5' : 'Credit amount','Attribute 6' : 'Savings', \n",
    "                           'Attribute 7' : 'Present employment','Attribute 8' : 'Installment rate','Attribute 9' : 'Status and sex',\n",
    "                           'Attribute 10' : 'Other debtors / guarantors','Attribute 11' : 'Present residence','Attribute 12' : 'Property',\n",
    "                           'Attribute 13' : 'Age','Attribute 14' : 'Other installment plans','Attribute 15' : 'Housing',\n",
    "                           'Attribute 16' : 'Existing credits','Attribute 17' : 'Job','Attribute 18' : 'Number of people being liable',\n",
    "                           'Attribute 19' : 'Telephone','Attribute 20' : 'Foreign worker'}, inplace = True)\n",
    "train_data.head()"
   ]
  },
  {
   "cell_type": "markdown",
   "metadata": {},
   "source": [
    "## There is the description of data. We can see that there is no missing values."
   ]
  },
  {
   "cell_type": "code",
   "execution_count": 131,
   "metadata": {},
   "outputs": [
    {
     "name": "stdout",
     "output_type": "stream",
     "text": [
      "<class 'pandas.core.frame.DataFrame'>\n",
      "RangeIndex: 1000 entries, 0 to 999\n",
      "Data columns (total 21 columns):\n",
      "Checking account                 1000 non-null object\n",
      "Duration month                   1000 non-null int64\n",
      "Credit history                   1000 non-null object\n",
      "Purpose                          1000 non-null object\n",
      "Credit amount                    1000 non-null int64\n",
      "Savings                          1000 non-null object\n",
      "Present employment               1000 non-null object\n",
      "Installment rate                 1000 non-null int64\n",
      "Status and sex                   1000 non-null object\n",
      "Other debtors / guarantors       1000 non-null object\n",
      "Present residence                1000 non-null int64\n",
      "Property                         1000 non-null object\n",
      "Age                              1000 non-null int64\n",
      "Other installment plans          1000 non-null object\n",
      "Housing                          1000 non-null object\n",
      "Existing credits                 1000 non-null int64\n",
      "Job                              1000 non-null object\n",
      "Number of people being liable    1000 non-null int64\n",
      "Telephone                        1000 non-null object\n",
      "Foreign worker                   1000 non-null object\n",
      "Credit Risk                      1000 non-null int64\n",
      "dtypes: int64(8), object(13)\n",
      "memory usage: 164.1+ KB\n"
     ]
    }
   ],
   "source": [
    "train_data.info()"
   ]
  },
  {
   "cell_type": "code",
   "execution_count": 132,
   "metadata": {},
   "outputs": [],
   "source": [
    "num_features = [\"Duration month\", \"Credit amount\", \"Installment rate\", \n",
    "               \"Present residence\",\"Age\",\"Existing credits\",\"Number of people being liable\"]\n",
    "cal_features=[\"Checking account\",\"Credit history\",\"Purpose\",\"Savings\",\n",
    "              \"Present employment\",\"Status and sex\",\"Other debtors / guarantors\",\n",
    "              \"Property\",\"Other installment plans\",\"Housing\",\"Job\",\"Telephone\",\"Foreign worker\"]"
   ]
  },
  {
   "cell_type": "markdown",
   "metadata": {},
   "source": [
    "## There is the description of all numeric features. To eliminate the effects of scale, I need to rescale them."
   ]
  },
  {
   "cell_type": "code",
   "execution_count": 133,
   "metadata": {},
   "outputs": [
    {
     "data": {
      "text/html": [
       "<div>\n",
       "<style scoped>\n",
       "    .dataframe tbody tr th:only-of-type {\n",
       "        vertical-align: middle;\n",
       "    }\n",
       "\n",
       "    .dataframe tbody tr th {\n",
       "        vertical-align: top;\n",
       "    }\n",
       "\n",
       "    .dataframe thead th {\n",
       "        text-align: right;\n",
       "    }\n",
       "</style>\n",
       "<table border=\"1\" class=\"dataframe\">\n",
       "  <thead>\n",
       "    <tr style=\"text-align: right;\">\n",
       "      <th></th>\n",
       "      <th>Duration month</th>\n",
       "      <th>Credit amount</th>\n",
       "      <th>Installment rate</th>\n",
       "      <th>Present residence</th>\n",
       "      <th>Age</th>\n",
       "      <th>Existing credits</th>\n",
       "      <th>Number of people being liable</th>\n",
       "      <th>Credit Risk</th>\n",
       "    </tr>\n",
       "  </thead>\n",
       "  <tbody>\n",
       "    <tr>\n",
       "      <th>count</th>\n",
       "      <td>1000.000000</td>\n",
       "      <td>1000.000000</td>\n",
       "      <td>1000.000000</td>\n",
       "      <td>1000.000000</td>\n",
       "      <td>1000.000000</td>\n",
       "      <td>1000.000000</td>\n",
       "      <td>1000.000000</td>\n",
       "      <td>1000.000000</td>\n",
       "    </tr>\n",
       "    <tr>\n",
       "      <th>mean</th>\n",
       "      <td>20.903000</td>\n",
       "      <td>3271.258000</td>\n",
       "      <td>2.973000</td>\n",
       "      <td>2.845000</td>\n",
       "      <td>35.546000</td>\n",
       "      <td>1.407000</td>\n",
       "      <td>1.155000</td>\n",
       "      <td>1.300000</td>\n",
       "    </tr>\n",
       "    <tr>\n",
       "      <th>std</th>\n",
       "      <td>12.058814</td>\n",
       "      <td>2822.736876</td>\n",
       "      <td>1.118715</td>\n",
       "      <td>1.103718</td>\n",
       "      <td>11.375469</td>\n",
       "      <td>0.577654</td>\n",
       "      <td>0.362086</td>\n",
       "      <td>0.458487</td>\n",
       "    </tr>\n",
       "    <tr>\n",
       "      <th>min</th>\n",
       "      <td>4.000000</td>\n",
       "      <td>250.000000</td>\n",
       "      <td>1.000000</td>\n",
       "      <td>1.000000</td>\n",
       "      <td>19.000000</td>\n",
       "      <td>1.000000</td>\n",
       "      <td>1.000000</td>\n",
       "      <td>1.000000</td>\n",
       "    </tr>\n",
       "    <tr>\n",
       "      <th>25%</th>\n",
       "      <td>12.000000</td>\n",
       "      <td>1365.500000</td>\n",
       "      <td>2.000000</td>\n",
       "      <td>2.000000</td>\n",
       "      <td>27.000000</td>\n",
       "      <td>1.000000</td>\n",
       "      <td>1.000000</td>\n",
       "      <td>1.000000</td>\n",
       "    </tr>\n",
       "    <tr>\n",
       "      <th>50%</th>\n",
       "      <td>18.000000</td>\n",
       "      <td>2319.500000</td>\n",
       "      <td>3.000000</td>\n",
       "      <td>3.000000</td>\n",
       "      <td>33.000000</td>\n",
       "      <td>1.000000</td>\n",
       "      <td>1.000000</td>\n",
       "      <td>1.000000</td>\n",
       "    </tr>\n",
       "    <tr>\n",
       "      <th>75%</th>\n",
       "      <td>24.000000</td>\n",
       "      <td>3972.250000</td>\n",
       "      <td>4.000000</td>\n",
       "      <td>4.000000</td>\n",
       "      <td>42.000000</td>\n",
       "      <td>2.000000</td>\n",
       "      <td>1.000000</td>\n",
       "      <td>2.000000</td>\n",
       "    </tr>\n",
       "    <tr>\n",
       "      <th>max</th>\n",
       "      <td>72.000000</td>\n",
       "      <td>18424.000000</td>\n",
       "      <td>4.000000</td>\n",
       "      <td>4.000000</td>\n",
       "      <td>75.000000</td>\n",
       "      <td>4.000000</td>\n",
       "      <td>2.000000</td>\n",
       "      <td>2.000000</td>\n",
       "    </tr>\n",
       "  </tbody>\n",
       "</table>\n",
       "</div>"
      ],
      "text/plain": [
       "       Duration month  Credit amount  Installment rate  Present residence  \\\n",
       "count     1000.000000    1000.000000       1000.000000        1000.000000   \n",
       "mean        20.903000    3271.258000          2.973000           2.845000   \n",
       "std         12.058814    2822.736876          1.118715           1.103718   \n",
       "min          4.000000     250.000000          1.000000           1.000000   \n",
       "25%         12.000000    1365.500000          2.000000           2.000000   \n",
       "50%         18.000000    2319.500000          3.000000           3.000000   \n",
       "75%         24.000000    3972.250000          4.000000           4.000000   \n",
       "max         72.000000   18424.000000          4.000000           4.000000   \n",
       "\n",
       "               Age  Existing credits  Number of people being liable  \\\n",
       "count  1000.000000       1000.000000                    1000.000000   \n",
       "mean     35.546000          1.407000                       1.155000   \n",
       "std      11.375469          0.577654                       0.362086   \n",
       "min      19.000000          1.000000                       1.000000   \n",
       "25%      27.000000          1.000000                       1.000000   \n",
       "50%      33.000000          1.000000                       1.000000   \n",
       "75%      42.000000          2.000000                       1.000000   \n",
       "max      75.000000          4.000000                       2.000000   \n",
       "\n",
       "       Credit Risk  \n",
       "count  1000.000000  \n",
       "mean      1.300000  \n",
       "std       0.458487  \n",
       "min       1.000000  \n",
       "25%       1.000000  \n",
       "50%       1.000000  \n",
       "75%       2.000000  \n",
       "max       2.000000  "
      ]
     },
     "execution_count": 133,
     "metadata": {},
     "output_type": "execute_result"
    }
   ],
   "source": [
    "train_data.describe()"
   ]
  },
  {
   "cell_type": "markdown",
   "metadata": {},
   "source": [
    "## To use pipeline, I transfer the string to number in categorical features"
   ]
  },
  {
   "cell_type": "code",
   "execution_count": 134,
   "metadata": {},
   "outputs": [
    {
     "data": {
      "text/html": [
       "<div>\n",
       "<style scoped>\n",
       "    .dataframe tbody tr th:only-of-type {\n",
       "        vertical-align: middle;\n",
       "    }\n",
       "\n",
       "    .dataframe tbody tr th {\n",
       "        vertical-align: top;\n",
       "    }\n",
       "\n",
       "    .dataframe thead th {\n",
       "        text-align: right;\n",
       "    }\n",
       "</style>\n",
       "<table border=\"1\" class=\"dataframe\">\n",
       "  <thead>\n",
       "    <tr style=\"text-align: right;\">\n",
       "      <th></th>\n",
       "      <th>Checking account</th>\n",
       "      <th>Duration month</th>\n",
       "      <th>Credit history</th>\n",
       "      <th>Purpose</th>\n",
       "      <th>Credit amount</th>\n",
       "      <th>Savings</th>\n",
       "      <th>Present employment</th>\n",
       "      <th>Installment rate</th>\n",
       "      <th>Status and sex</th>\n",
       "      <th>Other debtors / guarantors</th>\n",
       "      <th>Present residence</th>\n",
       "      <th>Property</th>\n",
       "      <th>Age</th>\n",
       "      <th>Other installment plans</th>\n",
       "      <th>Housing</th>\n",
       "      <th>Existing credits</th>\n",
       "      <th>Job</th>\n",
       "      <th>Number of people being liable</th>\n",
       "      <th>Telephone</th>\n",
       "      <th>Foreign worker</th>\n",
       "    </tr>\n",
       "  </thead>\n",
       "  <tbody>\n",
       "    <tr>\n",
       "      <th>0</th>\n",
       "      <td>0</td>\n",
       "      <td>6</td>\n",
       "      <td>0</td>\n",
       "      <td>0</td>\n",
       "      <td>1169</td>\n",
       "      <td>0</td>\n",
       "      <td>0</td>\n",
       "      <td>4</td>\n",
       "      <td>0</td>\n",
       "      <td>0</td>\n",
       "      <td>4</td>\n",
       "      <td>0</td>\n",
       "      <td>67</td>\n",
       "      <td>0</td>\n",
       "      <td>0</td>\n",
       "      <td>2</td>\n",
       "      <td>0</td>\n",
       "      <td>1</td>\n",
       "      <td>0</td>\n",
       "      <td>0</td>\n",
       "    </tr>\n",
       "    <tr>\n",
       "      <th>1</th>\n",
       "      <td>1</td>\n",
       "      <td>48</td>\n",
       "      <td>1</td>\n",
       "      <td>0</td>\n",
       "      <td>5951</td>\n",
       "      <td>1</td>\n",
       "      <td>1</td>\n",
       "      <td>2</td>\n",
       "      <td>1</td>\n",
       "      <td>0</td>\n",
       "      <td>2</td>\n",
       "      <td>0</td>\n",
       "      <td>22</td>\n",
       "      <td>0</td>\n",
       "      <td>0</td>\n",
       "      <td>1</td>\n",
       "      <td>0</td>\n",
       "      <td>1</td>\n",
       "      <td>1</td>\n",
       "      <td>0</td>\n",
       "    </tr>\n",
       "    <tr>\n",
       "      <th>2</th>\n",
       "      <td>2</td>\n",
       "      <td>12</td>\n",
       "      <td>0</td>\n",
       "      <td>1</td>\n",
       "      <td>2096</td>\n",
       "      <td>1</td>\n",
       "      <td>2</td>\n",
       "      <td>2</td>\n",
       "      <td>0</td>\n",
       "      <td>0</td>\n",
       "      <td>3</td>\n",
       "      <td>0</td>\n",
       "      <td>49</td>\n",
       "      <td>0</td>\n",
       "      <td>0</td>\n",
       "      <td>1</td>\n",
       "      <td>1</td>\n",
       "      <td>2</td>\n",
       "      <td>1</td>\n",
       "      <td>0</td>\n",
       "    </tr>\n",
       "    <tr>\n",
       "      <th>3</th>\n",
       "      <td>0</td>\n",
       "      <td>42</td>\n",
       "      <td>1</td>\n",
       "      <td>2</td>\n",
       "      <td>7882</td>\n",
       "      <td>1</td>\n",
       "      <td>2</td>\n",
       "      <td>2</td>\n",
       "      <td>0</td>\n",
       "      <td>1</td>\n",
       "      <td>4</td>\n",
       "      <td>1</td>\n",
       "      <td>45</td>\n",
       "      <td>0</td>\n",
       "      <td>1</td>\n",
       "      <td>1</td>\n",
       "      <td>0</td>\n",
       "      <td>2</td>\n",
       "      <td>1</td>\n",
       "      <td>0</td>\n",
       "    </tr>\n",
       "    <tr>\n",
       "      <th>4</th>\n",
       "      <td>0</td>\n",
       "      <td>24</td>\n",
       "      <td>2</td>\n",
       "      <td>3</td>\n",
       "      <td>4870</td>\n",
       "      <td>1</td>\n",
       "      <td>1</td>\n",
       "      <td>3</td>\n",
       "      <td>0</td>\n",
       "      <td>0</td>\n",
       "      <td>4</td>\n",
       "      <td>2</td>\n",
       "      <td>53</td>\n",
       "      <td>0</td>\n",
       "      <td>1</td>\n",
       "      <td>2</td>\n",
       "      <td>0</td>\n",
       "      <td>2</td>\n",
       "      <td>1</td>\n",
       "      <td>0</td>\n",
       "    </tr>\n",
       "  </tbody>\n",
       "</table>\n",
       "</div>"
      ],
      "text/plain": [
       "   Checking account  Duration month  Credit history  Purpose  Credit amount  \\\n",
       "0                 0               6               0        0           1169   \n",
       "1                 1              48               1        0           5951   \n",
       "2                 2              12               0        1           2096   \n",
       "3                 0              42               1        2           7882   \n",
       "4                 0              24               2        3           4870   \n",
       "\n",
       "   Savings  Present employment  Installment rate  Status and sex  \\\n",
       "0        0                   0                 4               0   \n",
       "1        1                   1                 2               1   \n",
       "2        1                   2                 2               0   \n",
       "3        1                   2                 2               0   \n",
       "4        1                   1                 3               0   \n",
       "\n",
       "   Other debtors / guarantors  Present residence  Property  Age  \\\n",
       "0                           0                  4         0   67   \n",
       "1                           0                  2         0   22   \n",
       "2                           0                  3         0   49   \n",
       "3                           1                  4         1   45   \n",
       "4                           0                  4         2   53   \n",
       "\n",
       "   Other installment plans  Housing  Existing credits  Job  \\\n",
       "0                        0        0                 2    0   \n",
       "1                        0        0                 1    0   \n",
       "2                        0        0                 1    1   \n",
       "3                        0        1                 1    0   \n",
       "4                        0        1                 2    0   \n",
       "\n",
       "   Number of people being liable  Telephone  Foreign worker  \n",
       "0                              1          0               0  \n",
       "1                              1          1               0  \n",
       "2                              2          1               0  \n",
       "3                              2          1               0  \n",
       "4                              2          1               0  "
      ]
     },
     "execution_count": 134,
     "metadata": {},
     "output_type": "execute_result"
    }
   ],
   "source": [
    "def caltoint(df,cal_features):\n",
    "    for i in range(0,len(cal_features)):\n",
    "        val=df.loc[:,cal_features[i]].unique()\n",
    "        for j in range(0,len(val)):\n",
    "            df.loc[df[cal_features[i]]==val[j],cal_features[i]]=j\n",
    "    return df\n",
    "X_train=caltoint(train_data.iloc[:,:-1],cal_features)\n",
    "X_train.head()"
   ]
  },
  {
   "cell_type": "markdown",
   "metadata": {},
   "source": [
    "## I use MinMaxScaler to rescale data"
   ]
  },
  {
   "cell_type": "code",
   "execution_count": 135,
   "metadata": {},
   "outputs": [
    {
     "data": {
      "text/html": [
       "<div>\n",
       "<style scoped>\n",
       "    .dataframe tbody tr th:only-of-type {\n",
       "        vertical-align: middle;\n",
       "    }\n",
       "\n",
       "    .dataframe tbody tr th {\n",
       "        vertical-align: top;\n",
       "    }\n",
       "\n",
       "    .dataframe thead th {\n",
       "        text-align: right;\n",
       "    }\n",
       "</style>\n",
       "<table border=\"1\" class=\"dataframe\">\n",
       "  <thead>\n",
       "    <tr style=\"text-align: right;\">\n",
       "      <th></th>\n",
       "      <th>Checking account</th>\n",
       "      <th>Duration month</th>\n",
       "      <th>Credit history</th>\n",
       "      <th>Purpose</th>\n",
       "      <th>Credit amount</th>\n",
       "      <th>Savings</th>\n",
       "      <th>Present employment</th>\n",
       "      <th>Installment rate</th>\n",
       "      <th>Status and sex</th>\n",
       "      <th>Other debtors / guarantors</th>\n",
       "      <th>Present residence</th>\n",
       "      <th>Property</th>\n",
       "      <th>Age</th>\n",
       "      <th>Other installment plans</th>\n",
       "      <th>Housing</th>\n",
       "      <th>Existing credits</th>\n",
       "      <th>Job</th>\n",
       "      <th>Number of people being liable</th>\n",
       "      <th>Telephone</th>\n",
       "      <th>Foreign worker</th>\n",
       "    </tr>\n",
       "  </thead>\n",
       "  <tbody>\n",
       "    <tr>\n",
       "      <th>0</th>\n",
       "      <td>0</td>\n",
       "      <td>0.029412</td>\n",
       "      <td>0</td>\n",
       "      <td>0</td>\n",
       "      <td>0.050567</td>\n",
       "      <td>0</td>\n",
       "      <td>0</td>\n",
       "      <td>1.000000</td>\n",
       "      <td>0</td>\n",
       "      <td>0</td>\n",
       "      <td>1.000000</td>\n",
       "      <td>0</td>\n",
       "      <td>0.857143</td>\n",
       "      <td>0</td>\n",
       "      <td>0</td>\n",
       "      <td>0.333333</td>\n",
       "      <td>0</td>\n",
       "      <td>0.0</td>\n",
       "      <td>0</td>\n",
       "      <td>0</td>\n",
       "    </tr>\n",
       "    <tr>\n",
       "      <th>1</th>\n",
       "      <td>1</td>\n",
       "      <td>0.647059</td>\n",
       "      <td>1</td>\n",
       "      <td>0</td>\n",
       "      <td>0.313690</td>\n",
       "      <td>1</td>\n",
       "      <td>1</td>\n",
       "      <td>0.333333</td>\n",
       "      <td>1</td>\n",
       "      <td>0</td>\n",
       "      <td>0.333333</td>\n",
       "      <td>0</td>\n",
       "      <td>0.053571</td>\n",
       "      <td>0</td>\n",
       "      <td>0</td>\n",
       "      <td>0.000000</td>\n",
       "      <td>0</td>\n",
       "      <td>0.0</td>\n",
       "      <td>1</td>\n",
       "      <td>0</td>\n",
       "    </tr>\n",
       "    <tr>\n",
       "      <th>2</th>\n",
       "      <td>2</td>\n",
       "      <td>0.117647</td>\n",
       "      <td>0</td>\n",
       "      <td>1</td>\n",
       "      <td>0.101574</td>\n",
       "      <td>1</td>\n",
       "      <td>2</td>\n",
       "      <td>0.333333</td>\n",
       "      <td>0</td>\n",
       "      <td>0</td>\n",
       "      <td>0.666667</td>\n",
       "      <td>0</td>\n",
       "      <td>0.535714</td>\n",
       "      <td>0</td>\n",
       "      <td>0</td>\n",
       "      <td>0.000000</td>\n",
       "      <td>1</td>\n",
       "      <td>1.0</td>\n",
       "      <td>1</td>\n",
       "      <td>0</td>\n",
       "    </tr>\n",
       "    <tr>\n",
       "      <th>3</th>\n",
       "      <td>0</td>\n",
       "      <td>0.558824</td>\n",
       "      <td>1</td>\n",
       "      <td>2</td>\n",
       "      <td>0.419941</td>\n",
       "      <td>1</td>\n",
       "      <td>2</td>\n",
       "      <td>0.333333</td>\n",
       "      <td>0</td>\n",
       "      <td>1</td>\n",
       "      <td>1.000000</td>\n",
       "      <td>1</td>\n",
       "      <td>0.464286</td>\n",
       "      <td>0</td>\n",
       "      <td>1</td>\n",
       "      <td>0.000000</td>\n",
       "      <td>0</td>\n",
       "      <td>1.0</td>\n",
       "      <td>1</td>\n",
       "      <td>0</td>\n",
       "    </tr>\n",
       "    <tr>\n",
       "      <th>4</th>\n",
       "      <td>0</td>\n",
       "      <td>0.294118</td>\n",
       "      <td>2</td>\n",
       "      <td>3</td>\n",
       "      <td>0.254209</td>\n",
       "      <td>1</td>\n",
       "      <td>1</td>\n",
       "      <td>0.666667</td>\n",
       "      <td>0</td>\n",
       "      <td>0</td>\n",
       "      <td>1.000000</td>\n",
       "      <td>2</td>\n",
       "      <td>0.607143</td>\n",
       "      <td>0</td>\n",
       "      <td>1</td>\n",
       "      <td>0.333333</td>\n",
       "      <td>0</td>\n",
       "      <td>1.0</td>\n",
       "      <td>1</td>\n",
       "      <td>0</td>\n",
       "    </tr>\n",
       "  </tbody>\n",
       "</table>\n",
       "</div>"
      ],
      "text/plain": [
       "   Checking account  Duration month  Credit history  Purpose  Credit amount  \\\n",
       "0                 0        0.029412               0        0       0.050567   \n",
       "1                 1        0.647059               1        0       0.313690   \n",
       "2                 2        0.117647               0        1       0.101574   \n",
       "3                 0        0.558824               1        2       0.419941   \n",
       "4                 0        0.294118               2        3       0.254209   \n",
       "\n",
       "   Savings  Present employment  Installment rate  Status and sex  \\\n",
       "0        0                   0          1.000000               0   \n",
       "1        1                   1          0.333333               1   \n",
       "2        1                   2          0.333333               0   \n",
       "3        1                   2          0.333333               0   \n",
       "4        1                   1          0.666667               0   \n",
       "\n",
       "   Other debtors / guarantors  Present residence  Property       Age  \\\n",
       "0                           0           1.000000         0  0.857143   \n",
       "1                           0           0.333333         0  0.053571   \n",
       "2                           0           0.666667         0  0.535714   \n",
       "3                           1           1.000000         1  0.464286   \n",
       "4                           0           1.000000         2  0.607143   \n",
       "\n",
       "   Other installment plans  Housing  Existing credits  Job  \\\n",
       "0                        0        0          0.333333    0   \n",
       "1                        0        0          0.000000    0   \n",
       "2                        0        0          0.000000    1   \n",
       "3                        0        1          0.000000    0   \n",
       "4                        0        1          0.333333    0   \n",
       "\n",
       "   Number of people being liable  Telephone  Foreign worker  \n",
       "0                            0.0          0               0  \n",
       "1                            0.0          1               0  \n",
       "2                            1.0          1               0  \n",
       "3                            1.0          1               0  \n",
       "4                            1.0          1               0  "
      ]
     },
     "execution_count": 135,
     "metadata": {},
     "output_type": "execute_result"
    }
   ],
   "source": [
    "from sklearn.preprocessing import MinMaxScaler\n",
    "for item in num_features:\n",
    "    X_train.loc[:,item]=MinMaxScaler().fit_transform(X_train.loc[:,item].astype('float').values.reshape((-1, 1)))\n",
    "X_train.head()"
   ]
  },
  {
   "cell_type": "code",
   "execution_count": 136,
   "metadata": {
    "scrolled": true
   },
   "outputs": [
    {
     "data": {
      "text/plain": [
       "(1000,)"
      ]
     },
     "execution_count": 136,
     "metadata": {},
     "output_type": "execute_result"
    }
   ],
   "source": [
    "y_train=np.array(train_data.loc[:,\"Credit Risk\"])\n",
    "y_train.shape"
   ]
  },
  {
   "cell_type": "markdown",
   "metadata": {},
   "source": [
    "## After rescalor, I need to select important features, since there are so many features.\n",
    "## I used RandomForestClassifier to select important features by their gini scores."
   ]
  },
  {
   "cell_type": "code",
   "execution_count": 137,
   "metadata": {},
   "outputs": [
    {
     "data": {
      "text/plain": [
       "array([ 4,  0, 12,  1,  2,  3,  6,  5, 10, 11,  7,  8, 16, 14, 13, 15, 18,\n",
       "        9, 17, 19], dtype=int64)"
      ]
     },
     "execution_count": 137,
     "metadata": {},
     "output_type": "execute_result"
    }
   ],
   "source": [
    "from sklearn.ensemble import RandomForestClassifier\n",
    "RFC = RandomForestClassifier(n_estimators=100,n_jobs= -1 ,random_state=0)\n",
    "RFC.fit(X_train,y_train)\n",
    "import_level = RFC.feature_importances_\n",
    "index = np.argsort(import_level)[::-1]\n",
    "index"
   ]
  },
  {
   "cell_type": "markdown",
   "metadata": {},
   "source": [
    "## Here are histogram of features importance"
   ]
  },
  {
   "cell_type": "code",
   "execution_count": 138,
   "metadata": {},
   "outputs": [
    {
     "data": {
      "image/png": "[encoded data removed]",
      "text/plain": [
       "<Figure size 720x432 with 1 Axes>"
      ]
     },
     "metadata": {
      "needs_background": "light"
     },
     "output_type": "display_data"
    }
   ],
   "source": [
    "import matplotlib.pyplot as plt\n",
    "x_columns = train_data.columns[:-1]\n",
    "plt.figure(figsize=(10,6))\n",
    "plt.title('Feature Importance',fontsize = 18)\n",
    "plt.ylabel('import level',fontsize = 15,rotation = 90)\n",
    "plt.rcParams['font.sans-serif']=['SimHei']\n",
    "plt.rcParams['axes.unicode_minus']=False\n",
    "for i in range(x_columns.shape[0]):\n",
    "    plt.bar(i,import_level[index[i]],color = 'red',align = 'center')\n",
    "    plt.xticks(np.arange(x_columns.shape[0]),x_columns,rotation = 90,fontsize = 15)\n"
   ]
  },
  {
   "cell_type": "markdown",
   "metadata": {},
   "source": [
    "## Here are the values of features importance"
   ]
  },
  {
   "cell_type": "code",
   "execution_count": 139,
   "metadata": {},
   "outputs": [
    {
     "name": "stdout",
     "output_type": "stream",
     "text": [
      "The important level of\n",
      "Checking account:      0.1400783155226069\n",
      "Duration month:      0.11799221162699004\n",
      "Credit history:      0.10682943185117172\n",
      "Purpose:      0.09545929097057712\n",
      "Credit amount:      0.06100176497095757\n",
      "Savings:      0.05659289840799419\n",
      "Present employment:      0.05230916562428683\n",
      "Installment rate:      0.04548117755457917\n",
      "Status and sex:      0.042633372579666685\n",
      "Other debtors / guarantors:      0.04136319883647085\n",
      "Present residence:      0.03948671747006202\n",
      "Property:      0.0364959264030821\n",
      "Age:      0.03141480226134662\n",
      "Other installment plans:      0.027667540127786258\n",
      "Housing:      0.02747548362501513\n",
      "Existing credits:      0.02230367836984267\n",
      "Job:      0.020353084078643384\n",
      "Number of people being liable:      0.017797811646398657\n",
      "Telephone:      0.013335831492652028\n",
      "Foreign worker:      0.003928296579870168\n"
     ]
    }
   ],
   "source": [
    "print(\"The important level of\")\n",
    "for each in range(X_train.shape[1]):\n",
    "    print(x_columns[each]+ ':      '+ str(import_level[index[each]]))"
   ]
  },
  {
   "cell_type": "markdown",
   "metadata": {},
   "source": [
    "## I use the features whose importance is bigger than the mean imporance"
   ]
  },
  {
   "cell_type": "code",
   "execution_count": 140,
   "metadata": {},
   "outputs": [
    {
     "data": {
      "text/plain": [
       "Index(['Checking account', 'Duration month', 'Credit history', 'Purpose',\n",
       "       'Credit amount', 'Present employment', 'Age'],\n",
       "      dtype='object')"
      ]
     },
     "execution_count": 140,
     "metadata": {},
     "output_type": "execute_result"
    }
   ],
   "source": [
    "featuresel=np.array(import_level>=import_level.mean())\n",
    "realfeatures=X_train.columns[featuresel]\n",
    "realfeatures"
   ]
  },
  {
   "cell_type": "markdown",
   "metadata": {},
   "source": [
    "## I used pipelines to deal with categorical and numerical features. Through pipelines, I transform X_train dataframe to numpy ndarray."
   ]
  },
  {
   "cell_type": "code",
   "execution_count": 141,
   "metadata": {},
   "outputs": [],
   "source": [
    "from sklearn.base import BaseEstimator, TransformerMixin\n",
    "from sklearn.preprocessing import OneHotEncoder# A class to select numerical or categorical columns\n",
    "from sklearn.pipeline import FeatureUnion\n",
    "# since Scikit-Learn doesn't handle DataFrames yet\n",
    "from sklearn.pipeline import Pipeline\n",
    "\n",
    "class DataFrameSelector(BaseEstimator, TransformerMixin):\n",
    "    def __init__(self, attribute_names):\n",
    "        self.attribute_names = attribute_names\n",
    "    def fit(self, X, y=None):\n",
    "        return self\n",
    "    def transform(self, X):\n",
    "        return X[self.attribute_names]\n",
    "    \n",
    "try:\n",
    "    from sklearn.impute import SimpleImputer # Scikit-Learn 0.20+\n",
    "except ImportError:\n",
    "    from sklearn.preprocessing import Imputer as SimpleImputer\n",
    "    \n",
    "num_features = [\"Duration month\", \"Credit amount\", \"Age\"]\n",
    "num_pipeline = Pipeline([(\"select_numeric\", DataFrameSelector( num_features )),(\"imputer\", \n",
    "                                                           SimpleImputer(strategy=\"median\")),])"
   ]
  },
  {
   "cell_type": "code",
   "execution_count": 142,
   "metadata": {},
   "outputs": [],
   "source": [
    "class MostFrequentImputer(BaseEstimator, TransformerMixin):\n",
    "    def fit(self, X, y=None):\n",
    "        self.most_frequent_ = pd.Series([X[c].value_counts().index[0] for c in X],\n",
    "                                        index=X.columns)\n",
    "        return self\n",
    "    def transform(self, X, y=None):\n",
    "        return X.fillna(self.most_frequent_)\n",
    "    \n",
    "cat_features = [\"Checking account\", \"Credit history\", \"Purpose\",\"Present employment\"]\n",
    "cat_pipeline = Pipeline([(\"select_cat\", DataFrameSelector( cat_features )),\n",
    "                         (\"imputer\", MostFrequentImputer()),\n",
    "                         (\"cat_encoder\", OneHotEncoder(sparse=False))])"
   ]
  },
  {
   "cell_type": "code",
   "execution_count": 143,
   "metadata": {},
   "outputs": [
    {
     "name": "stderr",
     "output_type": "stream",
     "text": [
      "D:\\anaconda3\\lib\\site-packages\\sklearn\\preprocessing\\_encoders.py:368: FutureWarning: The handling of integer data will change in version 0.22. Currently, the categories are determined based on the range [0, max(values)], while in the future they will be determined based on the unique values.\n",
      "If you want the future behaviour and silence this warning, you can specify \"categories='auto'\".\n",
      "In case you used a LabelEncoder before this OneHotEncoder to convert the categories to integers, then you can now use the OneHotEncoder directly.\n",
      "  warnings.warn(msg, FutureWarning)\n"
     ]
    }
   ],
   "source": [
    "from sklearn.pipeline import FeatureUnion\n",
    "preprocess_pipeline = FeatureUnion(transformer_list=[(\"num_pipeline\", num_pipeline),(\"cat_pipeline\",\n",
    "                                                                                     cat_pipeline),])\n",
    "X = preprocess_pipeline.fit_transform(X_train)"
   ]
  },
  {
   "cell_type": "markdown",
   "metadata": {},
   "source": [
    "## Therefore, we get our final training data, which is x, and final target data, which is y_train."
   ]
  },
  {
   "cell_type": "markdown",
   "metadata": {},
   "source": [
    "## Before choosing model, I selects the baseline model."
   ]
  },
  {
   "cell_type": "code",
   "execution_count": 144,
   "metadata": {},
   "outputs": [
    {
     "name": "stdout",
     "output_type": "stream",
     "text": [
      "DummyClassifier(constant=None, random_state=None, strategy='stratified')\n",
      "stratified: SCORE_BASELINE = 0.59\n",
      "DummyClassifier(constant=None, random_state=None, strategy='uniform')\n",
      "uniform: SCORE_BASELINE = 0.50\n",
      "DummyClassifier(constant=1, random_state=None, strategy='constant')\n",
      "constant: SCORE_BASELINE = 0.70\n"
     ]
    }
   ],
   "source": [
    "from sklearn.dummy import DummyClassifier\n",
    "from sklearn.model_selection import cross_val_score\n",
    "from sklearn.model_selection import cross_val_predict\n",
    "strats = { \"stratified\": {},\"uniform\": {},\"constant\": {\"constant\": 1}}\n",
    "plt_num = 1\n",
    "# Compute Accuracy for various baseline classifiers\n",
    "for strat, args in strats.items():\n",
    "    dmy_clf = DummyClassifier(strategy=strat, **args)\n",
    "    print(dmy_clf)\n",
    "    acc_scores_dmy = cross_val_score(dmy_clf, X, y_train,scoring=\"accuracy\",cv=5)\n",
    "    SCORE_BASELINE=acc_scores_dmy.mean()\n",
    "    print(\"{s}: SCORE_BASELINE = {a:.2f}\".format(s=strat, a=SCORE_BASELINE))"
   ]
  },
  {
   "cell_type": "markdown",
   "metadata": {},
   "source": [
    "## We can see that when the constant model is the best when it always predicts credit risk 1."
   ]
  },
  {
   "cell_type": "markdown",
   "metadata": {},
   "source": [
    "## Then I use logistic regression to predict at first. We can see that the cross_val_score is 0.739. "
   ]
  },
  {
   "cell_type": "code",
   "execution_count": 145,
   "metadata": {},
   "outputs": [
    {
     "data": {
      "text/plain": [
       "0.739"
      ]
     },
     "execution_count": 145,
     "metadata": {},
     "output_type": "execute_result"
    }
   ],
   "source": [
    "from sklearn.linear_model import LogisticRegression\n",
    "from sklearn.model_selection import cross_val_score\n",
    "from sklearn.model_selection import cross_val_predict\n",
    "clf = LogisticRegression(C=200. / len(X),solver='saga', tol=0.0001)\n",
    "SCORE_1 = cross_val_score(clf, X, y_train,scoring=\"accuracy\",cv=5).mean()\n",
    "SCORE_1"
   ]
  },
  {
   "cell_type": "markdown",
   "metadata": {},
   "source": [
    "## Then I calculate confusion matrix and make a picture."
   ]
  },
  {
   "cell_type": "code",
   "execution_count": 146,
   "metadata": {},
   "outputs": [
    {
     "name": "stdout",
     "output_type": "stream",
     "text": [
      "[[635  65]\n",
      " [196 104]]\n"
     ]
    }
   ],
   "source": [
    "import matplotlib.pyplot as plt\n",
    "import itertools\n",
    "def plot_confusion_matrix(cm, classes,normalize=False,title='Confusion matrix',cmap=plt.cm.Blues):\n",
    "    \"\"\"This function prints and plots the confusion matrix.\n",
    "    Normalization can be applied by setting `normalize=True`.\n",
    "    \"\"\"\n",
    "    if normalize:\n",
    "    # Normalize by row sums\n",
    "        cm_pct = cm.astype('float') / cm.sum(axis=1)[:, np.newaxis]\n",
    "        cm = np.around( 100 * cm_pct, decimals=0).astype(int)\n",
    "        print(\"Normalized confusion matrix\") \n",
    "    else:\n",
    "        print('Confusion matrix, without normalization')\n",
    "    plt.imshow(cm, interpolation='nearest', cmap=cmap)\n",
    "    plt.title(title)\n",
    "    plt.colorbar()\n",
    "    tick_marks = np.arange(len(classes))\n",
    "    plt.xticks(tick_marks, classes, rotation=45)\n",
    "    plt.yticks(tick_marks, classes)\n",
    "    fmt = '.2f' if normalize else 'd'\n",
    "    fmt = 'd'\n",
    "    thresh = cm.max() / 2.\n",
    "    for i, j in itertools.product(range(cm.shape[0]), range(cm.shape[1])):\n",
    "        # Plot coordinate system has origin in upper left corner\n",
    "        # - coordinates are (horizontal offset, vertical offset)\n",
    "        # - so cm[i,j] should appear in plot coordinate (j,i)\n",
    "        plt.text(j, i, format(cm[i, j], fmt),horizontalalignment=\"center\",\n",
    "                 color=\"white\" if cm[i, j] > thresh else \"black\")\n",
    "    plt.ylabel('True label')\n",
    "    plt.xlabel('Predicted label')\n",
    "    plt.tight_layout()\n",
    "\n",
    "from sklearn.metrics import confusion_matrix\n",
    "y_pred=cross_val_predict(clf, X, y_train,cv=5)\n",
    "conf_mx=confusion_matrix(y_train,y_pred)\n",
    "print(conf_mx)"
   ]
  },
  {
   "cell_type": "code",
   "execution_count": 147,
   "metadata": {},
   "outputs": [
    {
     "name": "stdout",
     "output_type": "stream",
     "text": [
      "Confusion matrix, without normalization\n"
     ]
    },
    {
     "data": {
      "image/png": "[encoded data removed]",
      "text/plain": [
       "<Figure size 432x288 with 2 Axes>"
      ]
     },
     "metadata": {
      "needs_background": "light"
     },
     "output_type": "display_data"
    }
   ],
   "source": [
    "plot_confusion_matrix(conf_mx, range(2))"
   ]
  },
  {
   "cell_type": "code",
   "execution_count": 148,
   "metadata": {},
   "outputs": [
    {
     "name": "stdout",
     "output_type": "stream",
     "text": [
      "Normalized confusion matrix\n"
     ]
    },
    {
     "data": {
      "image/png": "[encoded data removed]",
      "text/plain": [
       "<Figure size 432x288 with 2 Axes>"
      ]
     },
     "metadata": {
      "needs_background": "light"
     },
     "output_type": "display_data"
    }
   ],
   "source": [
    "plot_confusion_matrix(conf_mx, range(2),normalize=True)"
   ]
  },
  {
   "cell_type": "markdown",
   "metadata": {},
   "source": [
    "## We can see that for credit risk 1, our prediction is really good. However, for credit risk 2, our predition performs badly."
   ]
  },
  {
   "cell_type": "markdown",
   "metadata": {},
   "source": [
    "## Maybe I can try another model. I use random forest model to predict. Since this is classificaiton problem, I make the max_features equal to sqrt of total features."
   ]
  },
  {
   "cell_type": "code",
   "execution_count": 149,
   "metadata": {},
   "outputs": [
    {
     "data": {
      "text/plain": [
       "0.755"
      ]
     },
     "execution_count": 149,
     "metadata": {},
     "output_type": "execute_result"
    }
   ],
   "source": [
    "from sklearn.tree import DecisionTreeRegressor  \n",
    "from sklearn.ensemble import RandomForestClassifier  \n",
    "import math\n",
    "\n",
    "from sklearn.datasets import load_iris  \n",
    "rf=RandomForestClassifier(n_estimators=100,max_features=round(math.sqrt(X.shape[1])), max_depth=None,min_samples_split=2, random_state=0)\n",
    "rf.fit(X,y_train)\n",
    "SCORE_2 = cross_val_score(rf, X, y_train,scoring=\"accuracy\",cv=5).mean()\n",
    "SCORE_2"
   ]
  },
  {
   "cell_type": "markdown",
   "metadata": {},
   "source": [
    "## We  can see that final score is 0.755, whichi is better than logistic regression."
   ]
  },
  {
   "cell_type": "code",
   "execution_count": 150,
   "metadata": {},
   "outputs": [
    {
     "name": "stdout",
     "output_type": "stream",
     "text": [
      "[[621  79]\n",
      " [166 134]]\n",
      "Normalized confusion matrix\n"
     ]
    },
    {
     "data": {
      "image/png": "[encoded data removed]",
      "text/plain": [
       "<Figure size 432x288 with 2 Axes>"
      ]
     },
     "metadata": {
      "needs_background": "light"
     },
     "output_type": "display_data"
    }
   ],
   "source": [
    "y_pred=cross_val_predict(rf, X, y_train,cv=5)\n",
    "conf_mx=confusion_matrix(y_train,y_pred)\n",
    "print(conf_mx)\n",
    "plot_confusion_matrix(conf_mx, range(2),normalize=True)"
   ]
  },
  {
   "cell_type": "markdown",
   "metadata": {},
   "source": [
    "## We can see that prediction for credit risk 2 is much better although the prediciton for credit risk 1 is a little worse. There is some trade off between two predictions."
   ]
  },
  {
   "cell_type": "markdown",
   "metadata": {},
   "source": [
    "## For higher accuracy, I choose random forest model.\n",
    "## Below are credit_medel.predict"
   ]
  },
  {
   "cell_type": "code",
   "execution_count": 151,
   "metadata": {},
   "outputs": [],
   "source": [
    "class credit_model(object):\n",
    "    def __init__(self, X_train, y_train): #X_train is dataframe, y_train is ndarray\n",
    "        self.X_train = X_train\n",
    "        self.y_train = y_train\n",
    "    def predict(self):\n",
    "        from sklearn.base import BaseEstimator, TransformerMixin\n",
    "        from sklearn.preprocessing import OneHotEncoder# A class to select numerical or categorical columns\n",
    "        from sklearn.pipeline import FeatureUnion\n",
    "        # since Scikit-Learn doesn't handle DataFrames yet\n",
    "        from sklearn.pipeline import Pipeline\n",
    "        class DataFrameSelector(BaseEstimator, TransformerMixin):\n",
    "            def __init__(self, attribute_names):\n",
    "                self.attribute_names = attribute_names\n",
    "            def fit(self, X, y=None):\n",
    "                return self\n",
    "            def transform(self, X):\n",
    "                return X[self.attribute_names]\n",
    "    \n",
    "        try:\n",
    "            from sklearn.impute import SimpleImputer # Scikit-Learn 0.20+\n",
    "        except ImportError:\n",
    "            from sklearn.preprocessing import Imputer as SimpleImputer\n",
    "    \n",
    "        num_features = [\"Duration month\", \"Credit amount\", \"Age\"]\n",
    "        num_pipeline = Pipeline([(\"select_numeric\", DataFrameSelector( num_features )),(\"imputer\", \n",
    "                                                           SimpleImputer(strategy=\"median\")),])\n",
    "\n",
    "        class MostFrequentImputer(BaseEstimator, TransformerMixin):\n",
    "            def fit(self, X, y=None):\n",
    "                self.most_frequent_ = pd.Series([X[c].value_counts().index[0] for c in X],\n",
    "                                        index=X.columns)\n",
    "                return self\n",
    "            def transform(self, X, y=None):\n",
    "                return X.fillna(self.most_frequent_)\n",
    "    \n",
    "        cat_features = [\"Checking account\", \"Credit history\", \"Purpose\",\"Present employment\"]\n",
    "        cat_pipeline = Pipeline([(\"select_cat\", DataFrameSelector( cat_features )),\n",
    "                         (\"imputer\", MostFrequentImputer()),\n",
    "                         (\"cat_encoder\", OneHotEncoder(sparse=False))])\n",
    "        from sklearn.pipeline import FeatureUnion\n",
    "        preprocess_pipeline = FeatureUnion(transformer_list=[(\"num_pipeline\", num_pipeline),(\"cat_pipeline\",\n",
    "                                                                                     cat_pipeline),])\n",
    "        X = preprocess_pipeline.fit_transform(self.X_train)\n",
    "        from sklearn.tree import DecisionTreeRegressor  \n",
    "        from sklearn.ensemble import RandomForestClassifier  \n",
    "        import math\n",
    "        from sklearn.datasets import load_iris  \n",
    "        rf=RandomForestClassifier(n_estimators=100,max_features=round(math.sqrt(X.shape[1])), max_depth=None,min_samples_split=2, random_state=0)\n",
    "        rf.fit(X,self.y_train)\n",
    "        y_pred=cross_val_predict(rf, X, self.y_train,cv=5)\n",
    "        return y_pred\n",
    "    "
   ]
  },
  {
   "cell_type": "markdown",
   "metadata": {},
   "source": [
    "## Here is our prediction array."
   ]
  },
  {
   "cell_type": "code",
   "execution_count": 152,
   "metadata": {},
   "outputs": [
    {
     "name": "stderr",
     "output_type": "stream",
     "text": [
      "D:\\anaconda3\\lib\\site-packages\\sklearn\\preprocessing\\_encoders.py:368: FutureWarning: The handling of integer data will change in version 0.22. Currently, the categories are determined based on the range [0, max(values)], while in the future they will be determined based on the unique values.\n",
      "If you want the future behaviour and silence this warning, you can specify \"categories='auto'\".\n",
      "In case you used a LabelEncoder before this OneHotEncoder to convert the categories to integers, then you can now use the OneHotEncoder directly.\n",
      "  warnings.warn(msg, FutureWarning)\n"
     ]
    },
    {
     "data": {
      "text/plain": [
       "array([1, 2, 1, 2, 1, 1, 1, 1, 1, 2, 2, 2, 2, 1, 2, 2, 1, 2, 2, 2, 1, 1,\n",
       "       1, 1, 1, 1, 1, 2, 1, 2, 1, 1, 1, 1, 1, 2, 1, 1, 1, 1, 1, 1, 1, 1,\n",
       "       2, 1, 1, 1, 1, 1, 1, 1, 1, 1, 1, 1, 1, 1, 1, 2, 1, 1, 2, 2, 1, 1,\n",
       "       1, 1, 1, 1, 1, 1, 1, 1, 2, 1, 2, 1, 1, 1, 1, 1, 1, 1, 1, 1, 2, 2,\n",
       "       2, 2, 1, 1, 1, 1, 2, 2, 1, 1, 1, 1, 1, 1, 1, 1, 1, 2, 1, 1, 2, 1,\n",
       "       1, 2, 2, 1, 1, 1, 2, 1, 1, 1, 2, 1, 1, 1, 1, 1, 2, 1, 1, 1, 2, 1,\n",
       "       1, 1, 1, 1, 1, 1, 1, 1, 1, 1, 1, 1, 1, 2, 1, 1, 1, 1, 1, 1, 1, 1,\n",
       "       1, 1, 1, 2, 1, 1, 1, 1, 1, 1, 1, 1, 2, 1, 1, 1, 2, 1, 1, 1, 2, 1,\n",
       "       1, 1, 1, 1, 2, 1, 2, 1, 2, 1, 1, 1, 1, 2, 1, 1, 1, 1, 2, 1, 1, 1,\n",
       "       1, 1, 1, 2, 1, 1, 1, 1, 1, 1, 2, 1, 1, 1, 1, 1, 1, 1, 2, 1, 2, 1,\n",
       "       1, 2, 1, 1, 1, 1, 1, 2, 1, 2, 1, 1, 1, 1, 1, 2, 1, 1, 1, 1, 2, 1,\n",
       "       2, 1, 1, 1, 1, 1, 1, 1, 1, 1, 2, 1, 1, 1, 1, 1, 1, 1, 1, 1, 2, 1,\n",
       "       1, 1, 1, 1, 2, 1, 1, 1, 2, 1, 2, 1, 1, 1, 1, 1, 1, 1, 1, 1, 2, 2,\n",
       "       2, 1, 1, 2, 1, 2, 1, 1, 1, 2, 1, 1, 1, 1, 1, 1, 1, 1, 1, 1, 1, 1,\n",
       "       1, 1, 2, 1, 1, 2, 1, 2, 1, 2, 1, 1, 2, 2, 1, 2, 1, 1, 1, 1, 1, 1,\n",
       "       1, 1, 2, 1, 1, 1, 2, 2, 1, 1, 2, 1, 1, 1, 1, 1, 1, 1, 1, 2, 1, 2,\n",
       "       1, 1, 1, 2, 1, 1, 1, 2, 1, 1, 1, 1, 2, 1, 1, 1, 2, 1, 1, 1, 1, 1,\n",
       "       2, 2, 1, 1, 2, 1, 1, 2, 1, 1, 1, 1, 1, 1, 1, 1, 1, 1, 2, 1, 1, 1,\n",
       "       1, 2, 1, 1, 1, 1, 2, 1, 1, 2, 1, 2, 1, 1, 1, 1, 1, 1, 2, 1, 1, 2,\n",
       "       1, 1, 1, 1, 1, 1, 1, 1, 1, 1, 1, 1, 1, 2, 1, 1, 1, 1, 1, 1, 2, 1,\n",
       "       1, 1, 1, 1, 1, 1, 2, 1, 1, 1, 1, 1, 1, 1, 2, 1, 1, 1, 1, 1, 2, 2,\n",
       "       1, 2, 1, 1, 2, 1, 1, 1, 2, 1, 1, 1, 1, 1, 1, 1, 1, 1, 1, 2, 2, 1,\n",
       "       1, 1, 1, 1, 1, 1, 1, 1, 1, 1, 1, 1, 2, 1, 1, 1, 2, 2, 1, 1, 2, 1,\n",
       "       1, 1, 1, 1, 2, 1, 1, 1, 1, 1, 1, 1, 1, 1, 1, 1, 2, 1, 1, 1, 1, 1,\n",
       "       2, 1, 1, 1, 1, 1, 1, 1, 1, 1, 2, 1, 1, 1, 2, 1, 1, 2, 1, 1, 1, 1,\n",
       "       1, 1, 2, 1, 1, 1, 2, 1, 1, 1, 1, 1, 1, 2, 1, 1, 1, 1, 2, 2, 1, 1,\n",
       "       1, 1, 1, 1, 1, 1, 1, 1, 2, 1, 1, 1, 1, 2, 1, 2, 2, 1, 1, 1, 1, 2,\n",
       "       1, 2, 1, 1, 1, 1, 1, 2, 1, 1, 1, 2, 1, 1, 1, 1, 2, 1, 1, 2, 1, 2,\n",
       "       1, 1, 1, 1, 1, 1, 1, 1, 1, 1, 1, 2, 1, 1, 1, 2, 2, 1, 2, 1, 1, 1,\n",
       "       1, 2, 2, 1, 1, 1, 1, 2, 2, 1, 1, 1, 2, 1, 2, 1, 1, 2, 2, 1, 2, 1,\n",
       "       1, 1, 1, 2, 1, 1, 2, 1, 1, 1, 1, 1, 1, 1, 1, 1, 1, 2, 1, 1, 1, 1,\n",
       "       1, 1, 1, 1, 1, 1, 1, 2, 1, 1, 1, 1, 1, 1, 1, 1, 1, 1, 1, 2, 1, 1,\n",
       "       1, 1, 1, 2, 1, 1, 1, 2, 1, 1, 2, 1, 1, 1, 1, 1, 1, 2, 1, 1, 1, 1,\n",
       "       1, 2, 2, 1, 1, 2, 1, 1, 1, 2, 2, 2, 1, 2, 2, 2, 1, 2, 2, 1, 2, 1,\n",
       "       1, 1, 1, 2, 1, 1, 1, 2, 1, 1, 1, 1, 1, 1, 1, 1, 1, 1, 2, 1, 1, 1,\n",
       "       1, 2, 1, 1, 1, 2, 1, 1, 1, 1, 1, 1, 1, 2, 1, 1, 1, 1, 1, 1, 1, 1,\n",
       "       1, 1, 1, 1, 2, 1, 1, 1, 1, 1, 2, 1, 2, 2, 1, 1, 2, 2, 1, 1, 1, 2,\n",
       "       1, 2, 1, 1, 2, 2, 2, 1, 2, 1, 1, 1, 1, 1, 2, 1, 1, 2, 2, 1, 1, 2,\n",
       "       1, 1, 1, 1, 1, 1, 1, 1, 1, 1, 1, 1, 1, 1, 1, 1, 1, 2, 1, 1, 1, 1,\n",
       "       1, 1, 1, 1, 2, 1, 1, 1, 1, 1, 1, 1, 1, 1, 1, 1, 1, 1, 2, 1, 2, 1,\n",
       "       1, 1, 2, 1, 1, 2, 1, 2, 1, 1, 1, 1, 1, 1, 1, 1, 1, 1, 1, 1, 1, 1,\n",
       "       1, 1, 1, 1, 1, 1, 1, 1, 1, 1, 1, 1, 1, 2, 1, 2, 2, 1, 1, 1, 1, 1,\n",
       "       2, 2, 2, 1, 1, 2, 2, 2, 1, 1, 1, 1, 1, 1, 2, 1, 1, 1, 1, 1, 1, 2,\n",
       "       2, 1, 1, 1, 1, 2, 1, 1, 1, 1, 1, 1, 1, 1, 1, 1, 1, 1, 1, 2, 1, 1,\n",
       "       1, 1, 1, 1, 2, 2, 1, 1, 1, 1, 1, 2, 1, 1, 1, 1, 1, 1, 2, 1, 1, 1,\n",
       "       1, 1, 2, 1, 1, 1, 1, 1, 2, 1], dtype=int64)"
      ]
     },
     "execution_count": 152,
     "metadata": {},
     "output_type": "execute_result"
    }
   ],
   "source": [
    "exp=credit_model(X_train,y_train)\n",
    "exp.predict()"
   ]
  },
  {
   "cell_type": "markdown",
   "metadata": {},
   "source": [
    "## Thanks for you reviewing! \n",
    "## Have a nice day!"
   ]
  }
 ],
 "metadata": {
  "kernelspec": {
   "display_name": "Python 3",
   "language": "python",
   "name": "python3"
  },
  "language_info": {
   "codemirror_mode": {
    "name": "ipython",
    "version": 3
   },
   "file_extension": ".py",
   "mimetype": "text/x-python",
   "name": "python",
   "nbconvert_exporter": "python",
   "pygments_lexer": "ipython3",
   "version": "3.7.1"
  },
  "toc": {
   "base_numbering": 1,
   "nav_menu": {},
   "number_sections": true,
   "sideBar": true,
   "skip_h1_title": false,
   "title_cell": "Table of Contents",
   "title_sidebar": "Contents",
   "toc_cell": false,
   "toc_position": {},
   "toc_section_display": true,
   "toc_window_display": false
  }
 },
 "nbformat": 4,
 "nbformat_minor": 2
}
