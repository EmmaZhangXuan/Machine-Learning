{
 "cells": [
  {
   "cell_type": "markdown",
   "metadata": {},
   "source": [
    "# Final Project\n",
    "\n",
    "Intraday ETF trading based on 10-sec aggregated equity market data."
   ]
  },
  {
   "cell_type": "markdown",
   "metadata": {},
   "source": [
    "#### Name:  Xuan Zhang"
   ]
  },
  {
   "cell_type": "markdown",
   "metadata": {},
   "source": [
    "## Data Set"
   ]
  },
  {
   "cell_type": "markdown",
   "metadata": {},
   "source": [
    "SPY is an Exchange Traded Fund (ETF) that replicates the S&P 500 index, and trades in exchanges like ordinary equity.  \n",
    "SPY is the most liquid (heavily traded) equity asset in the US.  \n",
    "\n",
    "For all trading days in June 2018 we have aggregated in 10-sec intervals the trading activity in SPY across all exchanges.  \n",
    "The dataset is provided in the file `Resources/Data/spy-10sec-201806.csv` at the class site.   \n",
    "Each row corresponds to a specific 10-sec interval for the corresponding trading day.  \n",
    "A row reports trading activity within the time period that *ends* at the corresponding interval.  \n",
    "\n",
    "Regular trading hours in the US are from 09:30 to 16:00.  \n",
    "You will notice that the 09:30 and 16:00 intervals have much larger traded volume relative to neighboring ones.  \n",
    "This is because the market opens at 09:30 with an opening auction and closes at 16:00 with a closing auction.  \n",
    "The consolidated limit order book is the collection of all quotes to buy (bid) and to sell (ask).  \n",
    "Bid and ask prices/sizes are quotes, i.e. proposals to trade a given quantity at a given price.  \n",
    "VWAP is the volume weighted average of prices at which trades actually occurred.  \n",
    "\n",
    "\n",
    "\n",
    "\n",
    "|Column              | Description  |\n",
    "---------------------|--------------|\n",
    "|volume              | Number of shares traded within the interval  ($\\sum_i V_i $,   summing over all trades $i$)          |\n",
    "|vwap                | Volume Weighted Average Price ( $VWAP = \\sum_i V_i P_i / \\sum_i V_i$,   summing over all trades $i$) |\n",
    "|lowPx/highPx        | Lowest and highest trade prices within the interval                               |\n",
    "|lastBidPx/lastAskPx | Last bid and ask price in the interval                         |\n",
    "|lastBidSz/lastAskSz | Last bid and ask sizes (in hundreds of shares) in the interval |\n"
   ]
  },
  {
   "cell_type": "markdown",
   "metadata": {},
   "source": [
    "#### Feature engineering\n",
    "\n",
    "Derived quantities of interest are\n",
    "\n",
    "1. The Close Location Value (CLV) indicator. This is an intraday adaptation of a classic technical indicator. It is defined as  \n",
    "$$\n",
    "CLV_t = \\frac{VWAP_t - (lowPx_t + highPx_t)/2}{(highPx_t - lowPx_t)/2}\n",
    "$$\n",
    "It measures the location of the VWAP within interval $t$, relative to the mid-point price between low and high price.  \n",
    "\n",
    "2. The last *quote imbalance* of interval $t$, defined as \n",
    "$$\n",
    "Imbal_t = \\frac{lastBidSz_t - lastAskSz_t}{lastBidSz_t + lastAskSz_t}\n",
    "$$\n",
    "By construction $-1 \\le Imbal \\le 1$.  \n",
    "When $Imbal \\rightarrow 1$, there is much more interest to buy than to sell. \n",
    "Conversely, when $Imbal \\rightarrow -1$ there is much more interest to sell than to buy.  \n",
    "\n",
    "3. The log-transformed volume defined as $logVolume = log10(Volume)$  \n",
    "When working with volume-like quantities (non-negative) taking logs is a common normalization.  \n",
    "Either base 10 or natural logs can be used, base 10 logs may be easier to interpret.\n",
    "\n",
    "We are also interested in the $N$-period forward return in basis points\n",
    "$$\n",
    "\\mathrm{fwdRetNBps}_t = 10000 * \\left(\\frac{VWAP_{t+N}}{VWAP_t} - 1\\right)\n",
    "$$"
   ]
  },
  {
   "cell_type": "markdown",
   "metadata": {},
   "source": [
    "## Problem"
   ]
  },
  {
   "cell_type": "markdown",
   "metadata": {},
   "source": [
    "#### Objective\n",
    "+ Construct ML models that use features derived from market observables, to predict price direction in future periods\n",
    "+ Assess the models using 10-sec as well as 1-min aggregation periods"
   ]
  },
  {
   "cell_type": "markdown",
   "metadata": {},
   "source": [
    "#### Data Preparation \n",
    "+ Load the SPY 10-sec data\n",
    "+ Calculate the CLV and the last quote imbalance for each interval. If highPx is equal to lowPx for an interval, set the CLV value to 0.\n",
    "+ Calculate the 1-period forward VWAP returns in basis points\n",
    "+ Split the dataset into training sample with the first 16 days, and testing sample with the remaining 4 trading days.\n",
    "+ Use the average VWAP in the training set a reference price. Call this $\\mathrm{RefPx}$.\n",
    "+ Compute a cutoff return in basis points as:  $\\mathrm{cutRetBps} = 10000 * (0.02) / \\mathrm{RefPx}$  \n",
    "  This return corresponds to VWAP movement of twice the typical bid-ask spread (i.e 2 * 0.01)\n",
    "+ Add a new column called pxDir1 (price direction) and label the 1-period forward price movement as follows:  \n",
    "  * If fwdRet1Bps > cutRetBps then pxDir1 = +1  \n",
    "  * If abs(fwdRet1Bps) <= cutRetBps then pxDir1 = 0  \n",
    "  * If fwdRet1Bps < - cutRet1Bps then pxDir1 = -1  \n",
    "  Therefore pxDir is a class variable taking values in the set $\\{-1, 0, 1\\}$.\n",
    "+ Re-aggregate the 10-sec data into 1-min data and store them in a new data frame.\n",
    "+ Repeat the process above (CLV, quote imbalance, forward returns, price direction labeling) with the 1-min data."
   ]
  },
  {
   "cell_type": "markdown",
   "metadata": {},
   "source": [
    "#### Modeling (60 points)\n",
    "\n",
    "+ Exploratory data analysis (EDA) which should contain:   \n",
    "    * univariate distributions of features: logVolume, clv, imbalance  \n",
    "    * univariate distributions of targets: fwdRet1Bps, pxDir1  \n",
    "    * any other distribution that may reveal a relationship between target and features  \n",
    "    * correlation heat map  \n",
    "+ Construction of a *baseline* model, to be used as a reference.  \n",
    "  The baseline model predicts the price direction class $C=\\{-1, 0, 1\\}$ randomly using the class empirical probability of occurence.  \n",
    "$$\n",
    "\\mathbb{P}(C=\\pm 1) = \\frac{N_{train}(C=\\pm 1)}{N_{train}}, \\quad \n",
    "\\mathbb{P}(C=0) = \\frac{N_{train}(C=0)}{N_{train}}\n",
    "$$\n",
    "Estimate the empirical probabilities of the baseline model using the training set.  \n",
    "Make predictions for pxDir1 (simply sample the multinomial distribution) and use the testing set to report  \n",
    "\n",
    "|Model               | Accuracy  | Precision  | Recall | F1wght | F1micro | \n",
    "---------------------|-----------|------------|--------|---------|---------|\n",
    "|Baseline            | ...       | ...        | ...    | ...     | ...     |\n",
    "\n",
    "Precision, Recall and F1wght should be measured \"weighted\" to account for class occurence and potential imbalance.  \n",
    "F1micro is the \"micro\" F1 score, i.e. it first computes total true/false positives/negatives first and then computes the F1 score.\n",
    "\n",
    "+ Construct *two* models, of which one should be neural net based.  \n",
    "  The other could be any of the classic ML models (Logistic, SVM, Forest, AdaBoost, ...)  \n",
    "  Train and tune the models in order to forecast the target variable pxDir1.  \n",
    "  Evaluate the models on the test sample and add their performance metrics to the table above.  \n",
    "  \n",
    "+ Reaggregate the data using 1-min intervals and repeat the model runs \n",
    "\n",
    "+ Present your conclusions about the best model on the 10-sec and 1-min aggregated data"
   ]
  },
  {
   "cell_type": "markdown",
   "metadata": {},
   "source": [
    "#### Extra Improvement\n",
    "\n",
    "Attempt to improve model performance by introducing one extra feature variable, derived from the existing market data.  \n",
    "The extra variable could be either some kind of moving average or an intraday adaptation of a technical indicator.  \n",
    "Measure the performance improvement for the 10-sec and 1-min dataset."
   ]
  },
  {
   "cell_type": "markdown",
   "metadata": {},
   "source": [
    "## Solution"
   ]
  },
  {
   "cell_type": "markdown",
   "metadata": {},
   "source": [
    "## Package"
   ]
  },
  {
   "cell_type": "code",
   "execution_count": 817,
   "metadata": {},
   "outputs": [],
   "source": [
    "import pandas as pd\n",
    "import numpy as np\n",
    "import math \n",
    "import matplotlib.pyplot as plt\n",
    "from scipy import optimize\n",
    "import scipy.stats as stats\n",
    "from sklearn.dummy import DummyClassifier\n",
    "from sklearn.model_selection import cross_val_score\n",
    "from sklearn.model_selection import cross_val_predict\n",
    "\n",
    "from keras.utils import to_categorical\n",
    "from keras.models import Sequential\n",
    "from keras.layers import Dense, Dropout, Activation\n",
    "from keras.initializers import RandomNormal, he_normal\n",
    "from keras.callbacks import EarlyStopping\n",
    "from keras.layers import Conv2D, MaxPooling2D, Flatten, SimpleRNN, LSTM\n",
    "\n",
    "from sklearn.metrics import accuracy_score\n",
    "from sklearn.metrics import precision_score\n",
    "from sklearn.metrics import recall_score\n",
    "from sklearn.metrics import f1_score\n",
    "\n",
    "from sklearn.linear_model import LogisticRegression\n",
    "from sklearn.preprocessing import MinMaxScaler\n",
    "\n",
    "import seaborn as sns\n",
    "\n",
    "from numpy.random import seed\n",
    "\n",
    "np.random.seed(42)"
   ]
  },
  {
   "cell_type": "code",
   "execution_count": 818,
   "metadata": {},
   "outputs": [
    {
     "data": {
      "text/html": [
       "<div>\n",
       "<style scoped>\n",
       "    .dataframe tbody tr th:only-of-type {\n",
       "        vertical-align: middle;\n",
       "    }\n",
       "\n",
       "    .dataframe tbody tr th {\n",
       "        vertical-align: top;\n",
       "    }\n",
       "\n",
       "    .dataframe thead th {\n",
       "        text-align: right;\n",
       "    }\n",
       "</style>\n",
       "<table border=\"1\" class=\"dataframe\">\n",
       "  <thead>\n",
       "    <tr style=\"text-align: right;\">\n",
       "      <th></th>\n",
       "      <th>date</th>\n",
       "      <th>time</th>\n",
       "      <th>sym</th>\n",
       "      <th>volume</th>\n",
       "      <th>vwap</th>\n",
       "      <th>lowPx</th>\n",
       "      <th>highPx</th>\n",
       "      <th>lastBidPx</th>\n",
       "      <th>lastAskPx</th>\n",
       "      <th>lastBidSz</th>\n",
       "      <th>lastAskSz</th>\n",
       "    </tr>\n",
       "  </thead>\n",
       "  <tbody>\n",
       "    <tr>\n",
       "      <th>0</th>\n",
       "      <td>2018-06-01</td>\n",
       "      <td>09:30:00</td>\n",
       "      <td>SPY</td>\n",
       "      <td>395424</td>\n",
       "      <td>272.459140</td>\n",
       "      <td>272.320007</td>\n",
       "      <td>272.489990</td>\n",
       "      <td>272.359985</td>\n",
       "      <td>272.380005</td>\n",
       "      <td>14</td>\n",
       "      <td>100</td>\n",
       "    </tr>\n",
       "    <tr>\n",
       "      <th>1</th>\n",
       "      <td>2018-06-01</td>\n",
       "      <td>09:30:10</td>\n",
       "      <td>SPY</td>\n",
       "      <td>55692</td>\n",
       "      <td>272.395593</td>\n",
       "      <td>272.339996</td>\n",
       "      <td>272.489990</td>\n",
       "      <td>272.399994</td>\n",
       "      <td>272.410004</td>\n",
       "      <td>9</td>\n",
       "      <td>50</td>\n",
       "    </tr>\n",
       "    <tr>\n",
       "      <th>2</th>\n",
       "      <td>2018-06-01</td>\n",
       "      <td>09:30:20</td>\n",
       "      <td>SPY</td>\n",
       "      <td>85164</td>\n",
       "      <td>272.443104</td>\n",
       "      <td>272.390015</td>\n",
       "      <td>272.470001</td>\n",
       "      <td>272.450012</td>\n",
       "      <td>272.459991</td>\n",
       "      <td>18</td>\n",
       "      <td>7</td>\n",
       "    </tr>\n",
       "    <tr>\n",
       "      <th>3</th>\n",
       "      <td>2018-06-01</td>\n",
       "      <td>09:30:30</td>\n",
       "      <td>SPY</td>\n",
       "      <td>26973</td>\n",
       "      <td>272.441112</td>\n",
       "      <td>272.420013</td>\n",
       "      <td>272.459991</td>\n",
       "      <td>272.429993</td>\n",
       "      <td>272.440002</td>\n",
       "      <td>5</td>\n",
       "      <td>20</td>\n",
       "    </tr>\n",
       "    <tr>\n",
       "      <th>4</th>\n",
       "      <td>2018-06-01</td>\n",
       "      <td>09:30:40</td>\n",
       "      <td>SPY</td>\n",
       "      <td>77809</td>\n",
       "      <td>272.440219</td>\n",
       "      <td>272.410004</td>\n",
       "      <td>272.480011</td>\n",
       "      <td>272.420013</td>\n",
       "      <td>272.429993</td>\n",
       "      <td>1</td>\n",
       "      <td>13</td>\n",
       "    </tr>\n",
       "  </tbody>\n",
       "</table>\n",
       "</div>"
      ],
      "text/plain": [
       "         date      time  sym  volume        vwap       lowPx      highPx  \\\n",
       "0  2018-06-01  09:30:00  SPY  395424  272.459140  272.320007  272.489990   \n",
       "1  2018-06-01  09:30:10  SPY   55692  272.395593  272.339996  272.489990   \n",
       "2  2018-06-01  09:30:20  SPY   85164  272.443104  272.390015  272.470001   \n",
       "3  2018-06-01  09:30:30  SPY   26973  272.441112  272.420013  272.459991   \n",
       "4  2018-06-01  09:30:40  SPY   77809  272.440219  272.410004  272.480011   \n",
       "\n",
       "    lastBidPx   lastAskPx  lastBidSz  lastAskSz  \n",
       "0  272.359985  272.380005         14        100  \n",
       "1  272.399994  272.410004          9         50  \n",
       "2  272.450012  272.459991         18          7  \n",
       "3  272.429993  272.440002          5         20  \n",
       "4  272.420013  272.429993          1         13  "
      ]
     },
     "execution_count": 818,
     "metadata": {},
     "output_type": "execute_result"
    }
   ],
   "source": [
    "spy_10sec=pd.read_csv(\"spy-10sec-201806.csv\")\n",
    "spy_10sec.head()"
   ]
  },
  {
   "cell_type": "markdown",
   "metadata": {},
   "source": [
    "# split raw data into train data and test data"
   ]
  },
  {
   "cell_type": "code",
   "execution_count": 819,
   "metadata": {},
   "outputs": [],
   "source": [
    "def get_train_test(rawdata):\n",
    "    #calculate CLV\n",
    "    rawdata[\"CLV\"]=(rawdata[\"vwap\"]-(rawdata[\"lowPx\"]+rawdata[\"highPx\"])/2)/((rawdata[\"highPx\"]-rawdata[\"lowPx\"])/2)\n",
    "    rawdata.loc[rawdata[\"lowPx\"]==rawdata[\"highPx\"],\"CLV\"]=0\n",
    "    \n",
    "    #calculate Imbal\n",
    "    rawdata[\"Imbal\"]=(rawdata[\"lastBidSz\"]-rawdata[\"lastAskSz\"])/(rawdata[\"lastBidSz\"]+rawdata[\"lastAskSz\"])\n",
    "\n",
    "    #calculate logvolume\n",
    "    logvolume=lambda x: math.log(x)/math.log(10)\n",
    "    rawdata[\"logvolume\"]=rawdata[\"volume\"].apply(logvolume)\n",
    "    \n",
    "    #calculate fwdRet1Bps\n",
    "    rawdata[\"fwdRet1Bps\"]=(rawdata[\"vwap\"].shift(periods=-1)/rawdata[\"vwap\"]-1)*10000\n",
    "\n",
    "    #calculate pxDir1\n",
    "    RefPx=rawdata[\"vwap\"].mean()\n",
    "    cutRetBps=10000*(0.02)/RefPx\n",
    "    rawdata[\"pxDir1\"]=0\n",
    "    rawdata.loc[rawdata[\"fwdRet1Bps\"]>cutRetBps,\"pxDir1\"]=1\n",
    "    rawdata.loc[rawdata[\"fwdRet1Bps\"]<-cutRetBps,\"pxDir1\"]=-1\n",
    "    \n",
    "    #get train and test data\n",
    "    getday=lambda x:x.split(\"-\")[2]\n",
    "    day=rawdata[\"date\"].apply(getday)\n",
    "    endtrain=day.unique()[16-1]\n",
    "    num=sum(day<=endtrain)\n",
    "    X_train=rawdata.iloc[0:num,[11,12,13,14,15]]\n",
    "    X_test=rawdata.iloc[num:,[11,12,13,14,15]]\n",
    "    \n",
    "    return X_train,X_test\n",
    "    "
   ]
  },
  {
   "cell_type": "markdown",
   "metadata": {},
   "source": [
    "## Get train and test data"
   ]
  },
  {
   "cell_type": "code",
   "execution_count": 820,
   "metadata": {
    "scrolled": true
   },
   "outputs": [
    {
     "data": {
      "text/html": [
       "<div>\n",
       "<style scoped>\n",
       "    .dataframe tbody tr th:only-of-type {\n",
       "        vertical-align: middle;\n",
       "    }\n",
       "\n",
       "    .dataframe tbody tr th {\n",
       "        vertical-align: top;\n",
       "    }\n",
       "\n",
       "    .dataframe thead th {\n",
       "        text-align: right;\n",
       "    }\n",
       "</style>\n",
       "<table border=\"1\" class=\"dataframe\">\n",
       "  <thead>\n",
       "    <tr style=\"text-align: right;\">\n",
       "      <th></th>\n",
       "      <th>CLV</th>\n",
       "      <th>Imbal</th>\n",
       "      <th>logvolume</th>\n",
       "      <th>fwdRet1Bps</th>\n",
       "      <th>pxDir1</th>\n",
       "    </tr>\n",
       "  </thead>\n",
       "  <tbody>\n",
       "    <tr>\n",
       "      <th>0</th>\n",
       "      <td>0.637020</td>\n",
       "      <td>-0.754386</td>\n",
       "      <td>5.597063</td>\n",
       "      <td>-2.332345</td>\n",
       "      <td>-1</td>\n",
       "    </tr>\n",
       "    <tr>\n",
       "      <th>1</th>\n",
       "      <td>-0.258679</td>\n",
       "      <td>-0.694915</td>\n",
       "      <td>4.745793</td>\n",
       "      <td>1.744181</td>\n",
       "      <td>1</td>\n",
       "    </tr>\n",
       "    <tr>\n",
       "      <th>2</th>\n",
       "      <td>0.327454</td>\n",
       "      <td>0.440000</td>\n",
       "      <td>4.930256</td>\n",
       "      <td>-0.073097</td>\n",
       "      <td>0</td>\n",
       "    </tr>\n",
       "    <tr>\n",
       "      <th>3</th>\n",
       "      <td>0.055529</td>\n",
       "      <td>-0.600000</td>\n",
       "      <td>4.430929</td>\n",
       "      <td>-0.032791</td>\n",
       "      <td>0</td>\n",
       "    </tr>\n",
       "    <tr>\n",
       "      <th>4</th>\n",
       "      <td>-0.136794</td>\n",
       "      <td>-0.857143</td>\n",
       "      <td>4.891030</td>\n",
       "      <td>-0.013157</td>\n",
       "      <td>0</td>\n",
       "    </tr>\n",
       "  </tbody>\n",
       "</table>\n",
       "</div>"
      ],
      "text/plain": [
       "        CLV     Imbal  logvolume  fwdRet1Bps  pxDir1\n",
       "0  0.637020 -0.754386   5.597063   -2.332345      -1\n",
       "1 -0.258679 -0.694915   4.745793    1.744181       1\n",
       "2  0.327454  0.440000   4.930256   -0.073097       0\n",
       "3  0.055529 -0.600000   4.430929   -0.032791       0\n",
       "4 -0.136794 -0.857143   4.891030   -0.013157       0"
      ]
     },
     "execution_count": 820,
     "metadata": {},
     "output_type": "execute_result"
    }
   ],
   "source": [
    "Xsec_train,Xsec_test=get_train_test(spy_10sec)\n",
    "Xsec_train.head()"
   ]
  },
  {
   "cell_type": "code",
   "execution_count": 821,
   "metadata": {},
   "outputs": [
    {
     "data": {
      "text/html": [
       "<div>\n",
       "<style scoped>\n",
       "    .dataframe tbody tr th:only-of-type {\n",
       "        vertical-align: middle;\n",
       "    }\n",
       "\n",
       "    .dataframe tbody tr th {\n",
       "        vertical-align: top;\n",
       "    }\n",
       "\n",
       "    .dataframe thead th {\n",
       "        text-align: right;\n",
       "    }\n",
       "</style>\n",
       "<table border=\"1\" class=\"dataframe\">\n",
       "  <thead>\n",
       "    <tr style=\"text-align: right;\">\n",
       "      <th></th>\n",
       "      <th>CLV</th>\n",
       "      <th>Imbal</th>\n",
       "      <th>logvolume</th>\n",
       "      <th>fwdRet1Bps</th>\n",
       "      <th>pxDir1</th>\n",
       "    </tr>\n",
       "  </thead>\n",
       "  <tbody>\n",
       "    <tr>\n",
       "      <th>37451</th>\n",
       "      <td>0.383014</td>\n",
       "      <td>-0.886792</td>\n",
       "      <td>5.626451</td>\n",
       "      <td>0.168145</td>\n",
       "      <td>0</td>\n",
       "    </tr>\n",
       "    <tr>\n",
       "      <th>37452</th>\n",
       "      <td>0.228932</td>\n",
       "      <td>0.428571</td>\n",
       "      <td>5.011156</td>\n",
       "      <td>-0.803343</td>\n",
       "      <td>-1</td>\n",
       "    </tr>\n",
       "    <tr>\n",
       "      <th>37453</th>\n",
       "      <td>-0.223818</td>\n",
       "      <td>0.941748</td>\n",
       "      <td>4.834650</td>\n",
       "      <td>-1.221293</td>\n",
       "      <td>-1</td>\n",
       "    </tr>\n",
       "    <tr>\n",
       "      <th>37454</th>\n",
       "      <td>-0.607448</td>\n",
       "      <td>0.980198</td>\n",
       "      <td>4.527075</td>\n",
       "      <td>1.846138</td>\n",
       "      <td>1</td>\n",
       "    </tr>\n",
       "    <tr>\n",
       "      <th>37455</th>\n",
       "      <td>0.445840</td>\n",
       "      <td>-0.428571</td>\n",
       "      <td>4.564654</td>\n",
       "      <td>-0.488553</td>\n",
       "      <td>0</td>\n",
       "    </tr>\n",
       "  </tbody>\n",
       "</table>\n",
       "</div>"
      ],
      "text/plain": [
       "            CLV     Imbal  logvolume  fwdRet1Bps  pxDir1\n",
       "37451  0.383014 -0.886792   5.626451    0.168145       0\n",
       "37452  0.228932  0.428571   5.011156   -0.803343      -1\n",
       "37453 -0.223818  0.941748   4.834650   -1.221293      -1\n",
       "37454 -0.607448  0.980198   4.527075    1.846138       1\n",
       "37455  0.445840 -0.428571   4.564654   -0.488553       0"
      ]
     },
     "execution_count": 821,
     "metadata": {},
     "output_type": "execute_result"
    }
   ],
   "source": [
    "Xsec_test.head()"
   ]
  },
  {
   "cell_type": "markdown",
   "metadata": {},
   "source": [
    "## univariate distributions of features: logVolume, clv, imbalance"
   ]
  },
  {
   "cell_type": "markdown",
   "metadata": {},
   "source": [
    "### The correlation among CLV, Imbal, logvolume, fwdRet1Bps, pxDir1. We can see that they don't have strong correlation.  The correlation between fwdRet1Bps and pxDir1 is the strongest."
   ]
  },
  {
   "cell_type": "code",
   "execution_count": 822,
   "metadata": {
    "scrolled": false
   },
   "outputs": [
    {
     "data": {
      "text/plain": [
       "(array([0.5, 1.5, 2.5, 3.5, 4.5]), <a list of 5 Text yticklabel objects>)"
      ]
     },
     "execution_count": 822,
     "metadata": {},
     "output_type": "execute_result"
    },
    {
     "data": {
      "image/png": "[encoded data removed]",
      "text/plain": [
       "<Figure size 960x800 with 2 Axes>"
      ]
     },
     "metadata": {
      "needs_background": "light"
     },
     "output_type": "display_data"
    }
   ],
   "source": [
    "# Plot\n",
    "plt.figure(figsize=(12,10), dpi= 80)\n",
    "sns.heatmap(Xsec_train.corr(), xticklabels=Xsec_train.corr().columns, yticklabels=Xsec_train.corr().columns, cmap='RdYlGn', center=0, annot=True)\n",
    " \n",
    "# Decorations\n",
    "plt.title('Correlogram  mtcars', fontsize=22)\n",
    "plt.xticks(fontsize=12)\n",
    "plt.yticks(fontsize=12)"
   ]
  },
  {
   "cell_type": "markdown",
   "metadata": {},
   "source": [
    "### I used normal distribution to fit the CLV, Imbal, logvolume, fwdRet1Bps, pxDir1. According to the pricture, normal distribution is a good fit for CLV, logvolume and fwdRet1Bp. As for mbal and pxDir1, we can see that there is no usual distribution to fit them according to their pdf."
   ]
  },
  {
   "cell_type": "code",
   "execution_count": 823,
   "metadata": {},
   "outputs": [
    {
     "data": {
      "image/png": "[encoded data removed]",
      "text/plain": [
       "<Figure size 432x288 with 1 Axes>"
      ]
     },
     "metadata": {
      "needs_background": "light"
     },
     "output_type": "display_data"
    }
   ],
   "source": [
    "M_S = stats.norm.fit(Xsec_train[\"logvolume\"])                            # 正态拟合的平均值与标准差\n",
    "Xsec_train[\"logvolume\"].plot(kind='kde')                                 # 原本的概率密度分布图\n",
    "\n",
    "normalDistribution = stats.norm(M_S[0], M_S[1])                   # 绘制拟合的正态分布图\n",
    "x = np.linspace(normalDistribution.ppf(0.01), normalDistribution.ppf(0.99), 100)\n",
    "plt.plot(x, normalDistribution.pdf(x), c='orange')\n",
    "plt.title('CLV', size=20)\n",
    "plt.legend(['Origin', 'NormDistribution'])\n",
    "\n",
    "plt.show()"
   ]
  },
  {
   "cell_type": "code",
   "execution_count": 824,
   "metadata": {},
   "outputs": [
    {
     "data": {
      "image/png": "[encoded data removed]",
      "text/plain": [
       "<Figure size 432x288 with 1 Axes>"
      ]
     },
     "metadata": {
      "needs_background": "light"
     },
     "output_type": "display_data"
    }
   ],
   "source": [
    "M_S = stats.norm.fit(Xsec_train[\"CLV\"])                            # 正态拟合的平均值与标准差\n",
    "Xsec_train[\"CLV\"].plot(kind='kde')                                 # 原本的概率密度分布图\n",
    "\n",
    "normalDistribution = stats.norm(M_S[0], M_S[1])                   # 绘制拟合的正态分布图\n",
    "x = np.linspace(normalDistribution.ppf(0.01), normalDistribution.ppf(0.99), 100)\n",
    "plt.plot(x, normalDistribution.pdf(x), c='orange')\n",
    "plt.title('CLV', size=20)\n",
    "plt.legend(['Origin', 'NormDistribution'])\n",
    "\n",
    "plt.show()"
   ]
  },
  {
   "cell_type": "code",
   "execution_count": 825,
   "metadata": {},
   "outputs": [
    {
     "data": {
      "image/png": "[encoded data removed]",
      "text/plain": [
       "<Figure size 432x288 with 1 Axes>"
      ]
     },
     "metadata": {
      "needs_background": "light"
     },
     "output_type": "display_data"
    }
   ],
   "source": [
    "M_S = stats.norm.fit(Xsec_train[\"Imbal\"])                            # 正态拟合的平均值与标准差\n",
    "Xsec_train[\"Imbal\"].plot(kind='kde')                                 # 原本的概率密度分布图\n",
    "\n",
    "normalDistribution = stats.norm(M_S[0], M_S[1])                   # 绘制拟合的正态分布图\n",
    "x = np.linspace(normalDistribution.ppf(0.01), normalDistribution.ppf(0.99), 100)\n",
    "plt.plot(x, normalDistribution.pdf(x), c='orange')\n",
    "plt.title('Imbal', size=20)\n",
    "plt.legend(['Origin', 'NormDistribution'])\n",
    "\n",
    "plt.show()"
   ]
  },
  {
   "cell_type": "code",
   "execution_count": 826,
   "metadata": {},
   "outputs": [
    {
     "data": {
      "image/png": "[encoded data removed]",
      "text/plain": [
       "<Figure size 432x288 with 1 Axes>"
      ]
     },
     "metadata": {
      "needs_background": "light"
     },
     "output_type": "display_data"
    }
   ],
   "source": [
    "M_S = stats.norm.fit(Xsec_train[\"fwdRet1Bps\"])                            # 正态拟合的平均值与标准差\n",
    "Xsec_train[\"fwdRet1Bps\"].plot(kind='kde')                                 # 原本的概率密度分布图\n",
    "\n",
    "normalDistribution = stats.norm(M_S[0], M_S[1])                   # 绘制拟合的正态分布图\n",
    "x = np.linspace(normalDistribution.ppf(0.01), normalDistribution.ppf(0.99), 100)\n",
    "plt.plot(x, normalDistribution.pdf(x), c='orange')\n",
    "plt.title('fwdRet1Bps', size=20)\n",
    "plt.legend(['Origin', 'NormDistribution'])\n",
    "\n",
    "plt.show()"
   ]
  },
  {
   "cell_type": "code",
   "execution_count": 827,
   "metadata": {},
   "outputs": [
    {
     "data": {
      "image/png": "[encoded data removed]",
      "text/plain": [
       "<Figure size 432x288 with 1 Axes>"
      ]
     },
     "metadata": {
      "needs_background": "light"
     },
     "output_type": "display_data"
    }
   ],
   "source": [
    "M_S = stats.norm.fit(Xsec_train[\"pxDir1\"])                            # 正态拟合的平均值与标准差\n",
    "Xsec_train[\"pxDir1\"].plot(kind='kde')                                 # 原本的概率密度分布图\n",
    "\n",
    "normalDistribution = stats.norm(M_S[0], M_S[1])                   # 绘制拟合的正态分布图\n",
    "x = np.linspace(normalDistribution.ppf(0.01), normalDistribution.ppf(0.99), 100)\n",
    "plt.plot(x, normalDistribution.pdf(x), c='orange')\n",
    "plt.title('CLV', size=20)\n",
    "plt.legend(['Origin', 'NormDistribution'])\n",
    "\n",
    "plt.show()"
   ]
  },
  {
   "cell_type": "markdown",
   "metadata": {},
   "source": [
    "## transform data to get X_train, y_train, X_test, y_test"
   ]
  },
  {
   "cell_type": "code",
   "execution_count": 828,
   "metadata": {},
   "outputs": [],
   "source": [
    "n_classes=3\n",
    "def getinput(Xsec_train, Xsec_test):\n",
    "    X_train=np.array(Xsec_train.iloc[:,0:3])\n",
    "    y_train=np.array(Xsec_train.iloc[:,4])\n",
    "    X_test=np.array(Xsec_test.iloc[:,0:3])\n",
    "    y_test=np.array(Xsec_test.iloc[:,4])\n",
    "    return X_train,y_train,X_test,y_test"
   ]
  },
  {
   "cell_type": "code",
   "execution_count": 829,
   "metadata": {},
   "outputs": [],
   "source": [
    "X_train,y_train,X_test,y_test = getinput(Xsec_train,Xsec_test)"
   ]
  },
  {
   "cell_type": "code",
   "execution_count": 830,
   "metadata": {
    "scrolled": true
   },
   "outputs": [],
   "source": [
    "p1=sum(Xsec_train[\"pxDir1\"]==1)/Xsec_train.shape[0]\n",
    "p_1=sum(Xsec_train[\"pxDir1\"]==-1)/Xsec_train.shape[0]\n",
    "p0=1-p1-p_1"
   ]
  },
  {
   "cell_type": "markdown",
   "metadata": {},
   "source": [
    "## baseline model"
   ]
  },
  {
   "cell_type": "code",
   "execution_count": 831,
   "metadata": {},
   "outputs": [
    {
     "data": {
      "text/html": [
       "<div>\n",
       "<style scoped>\n",
       "    .dataframe tbody tr th:only-of-type {\n",
       "        vertical-align: middle;\n",
       "    }\n",
       "\n",
       "    .dataframe tbody tr th {\n",
       "        vertical-align: top;\n",
       "    }\n",
       "\n",
       "    .dataframe thead th {\n",
       "        text-align: right;\n",
       "    }\n",
       "</style>\n",
       "<table border=\"1\" class=\"dataframe\">\n",
       "  <thead>\n",
       "    <tr style=\"text-align: right;\">\n",
       "      <th></th>\n",
       "      <th>Accuracy</th>\n",
       "      <th>Precision</th>\n",
       "      <th>Recall</th>\n",
       "      <th>F1wght</th>\n",
       "      <th>F1micro</th>\n",
       "    </tr>\n",
       "    <tr>\n",
       "      <th>Model</th>\n",
       "      <th></th>\n",
       "      <th></th>\n",
       "      <th></th>\n",
       "      <th></th>\n",
       "      <th></th>\n",
       "    </tr>\n",
       "  </thead>\n",
       "  <tbody>\n",
       "    <tr>\n",
       "      <th>baseline</th>\n",
       "      <td>0.434216</td>\n",
       "      <td>0.367955</td>\n",
       "      <td>0.434216</td>\n",
       "      <td>0.377209</td>\n",
       "      <td>0.434216</td>\n",
       "    </tr>\n",
       "  </tbody>\n",
       "</table>\n",
       "</div>"
      ],
      "text/plain": [
       "          Accuracy  Precision    Recall    F1wght   F1micro\n",
       "Model                                                      \n",
       "baseline  0.434216   0.367955  0.434216  0.377209  0.434216"
      ]
     },
     "execution_count": 831,
     "metadata": {},
     "output_type": "execute_result"
    }
   ],
   "source": [
    "dmy_clf = DummyClassifier(strategy=\"stratified\")\n",
    "dmy_clf.fit(X_train, y_train)\n",
    "y_pred=dmy_clf.predict(X_test)\n",
    "\n",
    "\n",
    "def getoutcome(y_test, y_pred,model):\n",
    "    accuracy=accuracy_score(y_test, y_pred)\n",
    "    precision=precision_score(y_test, y_pred, average='weighted')\n",
    "    recall=recall_score(y_test, y_pred, average='weighted')\n",
    "    F1wght=f1_score(y_test, y_pred, average='weighted')\n",
    "    F1micro=f1_score(y_test, y_pred, average='micro')\n",
    "    classreport=pd.DataFrame({\"Model\":model,\"Accuracy\":accuracy,\"Precision\":precision,\n",
    "                          \"Recall\":recall,\"F1wght\":F1wght,\"F1micro\":F1micro},index=[0])\n",
    "    classreport.set_index([\"Model\"], inplace=True)\n",
    "    return classreport\n",
    "classreportbase=getoutcome(y_test, y_pred,\"baseline\")\n",
    "classreportbase"
   ]
  },
  {
   "cell_type": "markdown",
   "metadata": {},
   "source": [
    "## I use logistic model to predict"
   ]
  },
  {
   "cell_type": "markdown",
   "metadata": {},
   "source": [
    "## logistic model"
   ]
  },
  {
   "cell_type": "code",
   "execution_count": 832,
   "metadata": {},
   "outputs": [
    {
     "name": "stderr",
     "output_type": "stream",
     "text": [
      "D:\\anaconda3\\lib\\site-packages\\sklearn\\metrics\\classification.py:1143: UndefinedMetricWarning: Precision is ill-defined and being set to 0.0 in labels with no predicted samples.\n",
      "  'precision', 'predicted', average, warn_for)\n",
      "D:\\anaconda3\\lib\\site-packages\\sklearn\\metrics\\classification.py:1143: UndefinedMetricWarning: F-score is ill-defined and being set to 0.0 in labels with no predicted samples.\n",
      "  'precision', 'predicted', average, warn_for)\n"
     ]
    },
    {
     "data": {
      "text/html": [
       "<div>\n",
       "<style scoped>\n",
       "    .dataframe tbody tr th:only-of-type {\n",
       "        vertical-align: middle;\n",
       "    }\n",
       "\n",
       "    .dataframe tbody tr th {\n",
       "        vertical-align: top;\n",
       "    }\n",
       "\n",
       "    .dataframe thead th {\n",
       "        text-align: right;\n",
       "    }\n",
       "</style>\n",
       "<table border=\"1\" class=\"dataframe\">\n",
       "  <thead>\n",
       "    <tr style=\"text-align: right;\">\n",
       "      <th></th>\n",
       "      <th>Accuracy</th>\n",
       "      <th>Precision</th>\n",
       "      <th>Recall</th>\n",
       "      <th>F1wght</th>\n",
       "      <th>F1micro</th>\n",
       "    </tr>\n",
       "    <tr>\n",
       "      <th>Model</th>\n",
       "      <th></th>\n",
       "      <th></th>\n",
       "      <th></th>\n",
       "      <th></th>\n",
       "      <th></th>\n",
       "    </tr>\n",
       "  </thead>\n",
       "  <tbody>\n",
       "    <tr>\n",
       "      <th>logistic</th>\n",
       "      <td>0.49968</td>\n",
       "      <td>0.24968</td>\n",
       "      <td>0.49968</td>\n",
       "      <td>0.332977</td>\n",
       "      <td>0.49968</td>\n",
       "    </tr>\n",
       "  </tbody>\n",
       "</table>\n",
       "</div>"
      ],
      "text/plain": [
       "          Accuracy  Precision   Recall    F1wght  F1micro\n",
       "Model                                                    \n",
       "logistic   0.49968    0.24968  0.49968  0.332977  0.49968"
      ]
     },
     "execution_count": 832,
     "metadata": {},
     "output_type": "execute_result"
    }
   ],
   "source": [
    "lgm = LogisticRegression(C=1e-5,solver='lbfgs',  multi_class='multinomial',max_iter=1000,penalty='l2')\n",
    "lgm.fit(X_train,  y_train)\n",
    "y_pred = lgm.predict(X_test)\n",
    "getoutcome(y_test,y_pred,\"logistic\")"
   ]
  },
  {
   "cell_type": "markdown",
   "metadata": {},
   "source": [
    "### Through the outcome, the logistic regression is better than baseline model"
   ]
  },
  {
   "cell_type": "markdown",
   "metadata": {},
   "source": [
    "## Then I use RNN model to predict"
   ]
  },
  {
   "cell_type": "code",
   "execution_count": 833,
   "metadata": {},
   "outputs": [],
   "source": [
    "M=3\n",
    "def getrnntrain(X_train,y_train, X_test):\n",
    "    scaler = MinMaxScaler(feature_range=(-1, 1))\n",
    "    X_train = scaler.fit_transform(X_train)\n",
    "    X_train_ =np.reshape(X_train,[-1,M,1])\n",
    "    X_test = scaler.fit_transform(X_test)\n",
    "    X_test_ =np.reshape(X_test,[-1,M,1])\n",
    "    y= to_categorical(y_train, n_classes)\n",
    "    y = y[:, [2,0,1]] \n",
    "    return X_train_, X_test_,y \n",
    "X_train_rnn, X_test_rnn, y_rnn=getrnntrain(X_train,y_train, X_test)"
   ]
  },
  {
   "cell_type": "code",
   "execution_count": 834,
   "metadata": {},
   "outputs": [
    {
     "name": "stdout",
     "output_type": "stream",
     "text": [
      "_________________________________________________________________\n",
      "Layer (type)                 Output Shape              Param #   \n",
      "=================================================================\n",
      "simple_rnn_77 (SimpleRNN)    (None, 256)               66048     \n",
      "_________________________________________________________________\n",
      "dropout_77 (Dropout)         (None, 256)               0         \n",
      "_________________________________________________________________\n",
      "dense_77 (Dense)             (None, 3)                 771       \n",
      "=================================================================\n",
      "Total params: 66,819\n",
      "Trainable params: 66,819\n",
      "Non-trainable params: 0\n",
      "_________________________________________________________________\n"
     ]
    }
   ],
   "source": [
    "rnn_input_shape=(M,1)\n",
    "rnn1_layers = 1\n",
    "n_units = 256\n",
    "rnn1_drop_rate = 0.4\n",
    "\n",
    "rnn1 = Sequential()\n",
    "rnn1.add(SimpleRNN(input_shape=rnn_input_shape, units=n_units, activation='relu'))\n",
    "rnn1.add(Dropout(rnn1_drop_rate))\n",
    "for i in range(rnn1_layers - 1):\n",
    "    rnn1.add(SimpleRNN(input_shape=rnn_input_shape, units=n_units, activation='relu'))\n",
    "    rnn1.add(Dropout(rnn1_drop_rate))\n",
    "rnn1.add(Dense(n_classes, activation='softmax'))\n",
    "rnn1.summary()\n"
   ]
  },
  {
   "cell_type": "code",
   "execution_count": 835,
   "metadata": {
    "scrolled": false
   },
   "outputs": [
    {
     "name": "stdout",
     "output_type": "stream",
     "text": [
      "Train on 33705 samples, validate on 3746 samples\n",
      "Epoch 1/10\n",
      "33705/33705 [==============================] - 14s 423us/step - loss: 0.7535 - acc: 0.7451 - val_loss: 0.7332 - val_acc: 0.7421\n",
      "Epoch 2/10\n",
      "33705/33705 [==============================] - 1s 30us/step - loss: 0.7064 - acc: 0.7586 - val_loss: 0.7293 - val_acc: 0.7421\n",
      "Epoch 3/10\n",
      "33705/33705 [==============================] - 1s 29us/step - loss: 0.7001 - acc: 0.7586 - val_loss: 0.7165 - val_acc: 0.7421\n",
      "Epoch 4/10\n",
      "33705/33705 [==============================] - 1s 31us/step - loss: 0.6979 - acc: 0.7586 - val_loss: 0.7128 - val_acc: 0.7421\n",
      "Epoch 5/10\n",
      "33705/33705 [==============================] - 1s 29us/step - loss: 0.6944 - acc: 0.7586 - val_loss: 0.7047 - val_acc: 0.7421\n",
      "Epoch 6/10\n",
      "33705/33705 [==============================] - 1s 29us/step - loss: 0.6922 - acc: 0.7587 - val_loss: 0.7044 - val_acc: 0.7424\n",
      "Epoch 7/10\n",
      "33705/33705 [==============================] - 1s 29us/step - loss: 0.6929 - acc: 0.7587 - val_loss: 0.7235 - val_acc: 0.7421\n",
      "Epoch 8/10\n",
      "33705/33705 [==============================] - 1s 29us/step - loss: 0.6900 - acc: 0.7587 - val_loss: 0.7066 - val_acc: 0.7421\n",
      "Epoch 9/10\n",
      "33705/33705 [==============================] - 1s 28us/step - loss: 0.6904 - acc: 0.7586 - val_loss: 0.7009 - val_acc: 0.7424\n",
      "Epoch 10/10\n",
      "33705/33705 [==============================] - 1s 28us/step - loss: 0.6888 - acc: 0.7588 - val_loss: 0.6994 - val_acc: 0.7424\n"
     ]
    }
   ],
   "source": [
    "# compile, fit and evaluate\n",
    "rnn1.compile(optimizer='nadam', loss='categorical_crossentropy', metrics=['accuracy'])\n",
    "\n",
    "rnn1_batch_size = 1000\n",
    "rnn1_epochs = 10\n",
    "rnn1_val_split = 0.1 \n",
    "# create an early stopping callback\n",
    "rnn1_es = EarlyStopping(monitor='val_loss', min_delta=0, patience=3, mode='auto', baseline=None, restore_best_weights=False)\n",
    "\n",
    "rnn1_hist = rnn1.fit(X_train_rnn, y_rnn, batch_size=rnn1_batch_size, epochs=rnn1_epochs, validation_split=rnn1_val_split, callbacks=[rnn1_es], verbose=1)\n",
    "#rnn1_val_score = rnn1.evaluate(X_test, y_test, verbose=0)\n",
    "\n",
    "\n",
    "#print('Test loss score: {0:.4f}'.format(rnn1_val_score[0]))\n",
    "#print('Test accuracy:   {0:.4f}'.format(rnn1_val_score[1]))"
   ]
  },
  {
   "cell_type": "code",
   "execution_count": 836,
   "metadata": {},
   "outputs": [
    {
     "data": {
      "text/html": [
       "<div>\n",
       "<style scoped>\n",
       "    .dataframe tbody tr th:only-of-type {\n",
       "        vertical-align: middle;\n",
       "    }\n",
       "\n",
       "    .dataframe tbody tr th {\n",
       "        vertical-align: top;\n",
       "    }\n",
       "\n",
       "    .dataframe thead th {\n",
       "        text-align: right;\n",
       "    }\n",
       "</style>\n",
       "<table border=\"1\" class=\"dataframe\">\n",
       "  <thead>\n",
       "    <tr style=\"text-align: right;\">\n",
       "      <th></th>\n",
       "      <th>Accuracy</th>\n",
       "      <th>Precision</th>\n",
       "      <th>Recall</th>\n",
       "      <th>F1wght</th>\n",
       "      <th>F1micro</th>\n",
       "    </tr>\n",
       "    <tr>\n",
       "      <th>Model</th>\n",
       "      <th></th>\n",
       "      <th></th>\n",
       "      <th></th>\n",
       "      <th></th>\n",
       "      <th></th>\n",
       "    </tr>\n",
       "  </thead>\n",
       "  <tbody>\n",
       "    <tr>\n",
       "      <th>RNN</th>\n",
       "      <td>0.5</td>\n",
       "      <td>0.441509</td>\n",
       "      <td>0.5</td>\n",
       "      <td>0.335592</td>\n",
       "      <td>0.5</td>\n",
       "    </tr>\n",
       "  </tbody>\n",
       "</table>\n",
       "</div>"
      ],
      "text/plain": [
       "       Accuracy  Precision  Recall    F1wght  F1micro\n",
       "Model                                                \n",
       "RNN         0.5   0.441509     0.5  0.335592      0.5"
      ]
     },
     "execution_count": 836,
     "metadata": {},
     "output_type": "execute_result"
    }
   ],
   "source": [
    "y_pred = rnn1.predict(X_test_rnn)\n",
    "y_pred = np.argmax(y_pred, axis=1)-1\n",
    "getoutcome(y_test, y_pred,\"RNN\")"
   ]
  },
  {
   "cell_type": "markdown",
   "metadata": {},
   "source": [
    "### Above is outcome, we can see that RNN is better than baseline and have the close outcome with logistic regression."
   ]
  },
  {
   "cell_type": "markdown",
   "metadata": {},
   "source": [
    "## I use lastAskSz-lastBidSz as the new feature since the difference implies the unbalance between need and demand, which affects the price change."
   ]
  },
  {
   "cell_type": "code",
   "execution_count": 837,
   "metadata": {},
   "outputs": [],
   "source": [
    "def getsize(spy):\n",
    "    sizespread=spy[\"lastAskSz\"]-spy[\"lastBidSz\"]\n",
    "    sizespread=np.array(sizespread).reshape(-1,1)\n",
    "    return sizespread\n",
    "size=getsize(spy_10sec)"
   ]
  },
  {
   "cell_type": "code",
   "execution_count": 838,
   "metadata": {},
   "outputs": [],
   "source": [
    "size_train=size[0:X_train.shape[0],:]\n",
    "size_test=size[X_train.shape[0]:,:]"
   ]
  },
  {
   "cell_type": "code",
   "execution_count": 839,
   "metadata": {},
   "outputs": [],
   "source": [
    "X_train_new = np.c_[X_train,size_train]\n",
    "X_test_new = np.c_[X_test,size_test]"
   ]
  },
  {
   "cell_type": "markdown",
   "metadata": {},
   "source": [
    "## logistic regression"
   ]
  },
  {
   "cell_type": "code",
   "execution_count": 840,
   "metadata": {},
   "outputs": [
    {
     "name": "stderr",
     "output_type": "stream",
     "text": [
      "D:\\anaconda3\\lib\\site-packages\\sklearn\\metrics\\classification.py:1143: UndefinedMetricWarning: Precision is ill-defined and being set to 0.0 in labels with no predicted samples.\n",
      "  'precision', 'predicted', average, warn_for)\n",
      "D:\\anaconda3\\lib\\site-packages\\sklearn\\metrics\\classification.py:1143: UndefinedMetricWarning: F-score is ill-defined and being set to 0.0 in labels with no predicted samples.\n",
      "  'precision', 'predicted', average, warn_for)\n"
     ]
    },
    {
     "data": {
      "text/html": [
       "<div>\n",
       "<style scoped>\n",
       "    .dataframe tbody tr th:only-of-type {\n",
       "        vertical-align: middle;\n",
       "    }\n",
       "\n",
       "    .dataframe tbody tr th {\n",
       "        vertical-align: top;\n",
       "    }\n",
       "\n",
       "    .dataframe thead th {\n",
       "        text-align: right;\n",
       "    }\n",
       "</style>\n",
       "<table border=\"1\" class=\"dataframe\">\n",
       "  <thead>\n",
       "    <tr style=\"text-align: right;\">\n",
       "      <th></th>\n",
       "      <th>Accuracy</th>\n",
       "      <th>Precision</th>\n",
       "      <th>Recall</th>\n",
       "      <th>F1wght</th>\n",
       "      <th>F1micro</th>\n",
       "    </tr>\n",
       "    <tr>\n",
       "      <th>Model</th>\n",
       "      <th></th>\n",
       "      <th></th>\n",
       "      <th></th>\n",
       "      <th></th>\n",
       "      <th></th>\n",
       "    </tr>\n",
       "  </thead>\n",
       "  <tbody>\n",
       "    <tr>\n",
       "      <th>logistic</th>\n",
       "      <td>0.49968</td>\n",
       "      <td>0.24968</td>\n",
       "      <td>0.49968</td>\n",
       "      <td>0.332977</td>\n",
       "      <td>0.49968</td>\n",
       "    </tr>\n",
       "  </tbody>\n",
       "</table>\n",
       "</div>"
      ],
      "text/plain": [
       "          Accuracy  Precision   Recall    F1wght  F1micro\n",
       "Model                                                    \n",
       "logistic   0.49968    0.24968  0.49968  0.332977  0.49968"
      ]
     },
     "execution_count": 840,
     "metadata": {},
     "output_type": "execute_result"
    }
   ],
   "source": [
    "lgm.fit(X_train_new, y_train)\n",
    "y_pred = lgm.predict(X_test_new)\n",
    "getoutcome(y_test,y_pred,\"logistic\")"
   ]
  },
  {
   "cell_type": "markdown",
   "metadata": {},
   "source": [
    "### The outcome of logistic regression does not change significantly after we add the new feature. However, the outcome of RNN for every minute data impoves."
   ]
  },
  {
   "cell_type": "markdown",
   "metadata": {},
   "source": [
    "## RNN "
   ]
  },
  {
   "cell_type": "code",
   "execution_count": 841,
   "metadata": {},
   "outputs": [
    {
     "name": "stdout",
     "output_type": "stream",
     "text": [
      "_________________________________________________________________\n",
      "Layer (type)                 Output Shape              Param #   \n",
      "=================================================================\n",
      "simple_rnn_78 (SimpleRNN)    (None, 256)               66048     \n",
      "_________________________________________________________________\n",
      "dropout_78 (Dropout)         (None, 256)               0         \n",
      "_________________________________________________________________\n",
      "dense_78 (Dense)             (None, 3)                 771       \n",
      "=================================================================\n",
      "Total params: 66,819\n",
      "Trainable params: 66,819\n",
      "Non-trainable params: 0\n",
      "_________________________________________________________________\n"
     ]
    }
   ],
   "source": [
    "M=4\n",
    "X_train_rnn_new, X_test_rnn_new, y_rnn_new=getrnntrain(X_train_new,y_train, X_test_new)\n",
    "\n",
    "rnn_input_shape=(M,1)\n",
    "rnn1_layers = 1\n",
    "n_units = 256\n",
    "rnn1_drop_rate = 0.4\n",
    "\n",
    "rnn1 = Sequential()\n",
    "rnn1.add(SimpleRNN(input_shape=rnn_input_shape, units=n_units, activation='relu'))\n",
    "rnn1.add(Dropout(rnn1_drop_rate))\n",
    "for i in range(rnn1_layers - 1):\n",
    "    rnn1.add(SimpleRNN(input_shape=rnn_input_shape, units=n_units, activation='relu'))\n",
    "    rnn1.add(Dropout(rnn1_drop_rate))\n",
    "rnn1.add(Dense(n_classes, activation='softmax'))\n",
    "rnn1.summary()"
   ]
  },
  {
   "cell_type": "code",
   "execution_count": 842,
   "metadata": {},
   "outputs": [
    {
     "name": "stdout",
     "output_type": "stream",
     "text": [
      "Train on 33705 samples, validate on 3746 samples\n",
      "Epoch 1/10\n",
      "33705/33705 [==============================] - 15s 435us/step - loss: 0.7536 - acc: 0.7479 - val_loss: 0.7200 - val_acc: 0.7421\n",
      "Epoch 2/10\n",
      "33705/33705 [==============================] - 1s 35us/step - loss: 0.7091 - acc: 0.7587 - val_loss: 0.7135 - val_acc: 0.7421\n",
      "Epoch 3/10\n",
      "33705/33705 [==============================] - 1s 36us/step - loss: 0.7006 - acc: 0.7586 - val_loss: 0.7133 - val_acc: 0.7421\n",
      "Epoch 4/10\n",
      "33705/33705 [==============================] - 1s 34us/step - loss: 0.6956 - acc: 0.7588 - val_loss: 0.7035 - val_acc: 0.7424\n",
      "Epoch 5/10\n",
      "33705/33705 [==============================] - 1s 35us/step - loss: 0.6924 - acc: 0.7586 - val_loss: 0.7062 - val_acc: 0.7427\n",
      "Epoch 6/10\n",
      "33705/33705 [==============================] - 1s 33us/step - loss: 0.6922 - acc: 0.7588 - val_loss: 0.7028 - val_acc: 0.7424\n",
      "Epoch 7/10\n",
      "33705/33705 [==============================] - 1s 34us/step - loss: 0.6885 - acc: 0.7587 - val_loss: 0.7011 - val_acc: 0.7424\n",
      "Epoch 8/10\n",
      "33705/33705 [==============================] - 1s 34us/step - loss: 0.6899 - acc: 0.7586 - val_loss: 0.7063 - val_acc: 0.7424\n",
      "Epoch 9/10\n",
      "33705/33705 [==============================] - 1s 35us/step - loss: 0.6879 - acc: 0.7588 - val_loss: 0.7192 - val_acc: 0.7424\n",
      "Epoch 10/10\n",
      "33705/33705 [==============================] - 1s 36us/step - loss: 0.6858 - acc: 0.7588 - val_loss: 0.7011 - val_acc: 0.7427\n"
     ]
    }
   ],
   "source": [
    "rnn1.compile(optimizer='nadam', loss='categorical_crossentropy', metrics=['accuracy'])\n",
    "# create an early stopping callback\n",
    "rnn1_es = EarlyStopping(monitor='val_loss', min_delta=0, patience=3, mode='auto', baseline=None, restore_best_weights=False)\n",
    "rnn1_hist = rnn1.fit(X_train_rnn_new, y_rnn_new, batch_size=rnn1_batch_size, epochs=rnn1_epochs, validation_split=rnn1_val_split, callbacks=[rnn1_es], verbose=1)"
   ]
  },
  {
   "cell_type": "code",
   "execution_count": 843,
   "metadata": {},
   "outputs": [
    {
     "data": {
      "text/html": [
       "<div>\n",
       "<style scoped>\n",
       "    .dataframe tbody tr th:only-of-type {\n",
       "        vertical-align: middle;\n",
       "    }\n",
       "\n",
       "    .dataframe tbody tr th {\n",
       "        vertical-align: top;\n",
       "    }\n",
       "\n",
       "    .dataframe thead th {\n",
       "        text-align: right;\n",
       "    }\n",
       "</style>\n",
       "<table border=\"1\" class=\"dataframe\">\n",
       "  <thead>\n",
       "    <tr style=\"text-align: right;\">\n",
       "      <th></th>\n",
       "      <th>Accuracy</th>\n",
       "      <th>Precision</th>\n",
       "      <th>Recall</th>\n",
       "      <th>F1wght</th>\n",
       "      <th>F1micro</th>\n",
       "    </tr>\n",
       "    <tr>\n",
       "      <th>Model</th>\n",
       "      <th></th>\n",
       "      <th></th>\n",
       "      <th></th>\n",
       "      <th></th>\n",
       "      <th></th>\n",
       "    </tr>\n",
       "  </thead>\n",
       "  <tbody>\n",
       "    <tr>\n",
       "      <th>RNN</th>\n",
       "      <td>0.499893</td>\n",
       "      <td>0.456733</td>\n",
       "      <td>0.499893</td>\n",
       "      <td>0.335919</td>\n",
       "      <td>0.499893</td>\n",
       "    </tr>\n",
       "  </tbody>\n",
       "</table>\n",
       "</div>"
      ],
      "text/plain": [
       "       Accuracy  Precision    Recall    F1wght   F1micro\n",
       "Model                                                   \n",
       "RNN    0.499893   0.456733  0.499893  0.335919  0.499893"
      ]
     },
     "execution_count": 843,
     "metadata": {},
     "output_type": "execute_result"
    }
   ],
   "source": [
    "y_pred = rnn1.predict(X_test_rnn_new)\n",
    "y_pred = np.argmax(y_pred, axis=1)-1\n",
    "getoutcome(y_test, y_pred,\"RNN\")"
   ]
  },
  {
   "cell_type": "markdown",
   "metadata": {},
   "source": [
    "### The outcome of RNN  does not change significantly after we add the new feature. However, the outcome of RNN for every minute data impoves."
   ]
  },
  {
   "cell_type": "markdown",
   "metadata": {},
   "source": [
    "## Then we get every minute data."
   ]
  },
  {
   "cell_type": "code",
   "execution_count": 844,
   "metadata": {},
   "outputs": [
    {
     "data": {
      "text/html": [
       "<div>\n",
       "<style scoped>\n",
       "    .dataframe tbody tr th:only-of-type {\n",
       "        vertical-align: middle;\n",
       "    }\n",
       "\n",
       "    .dataframe tbody tr th {\n",
       "        vertical-align: top;\n",
       "    }\n",
       "\n",
       "    .dataframe thead th {\n",
       "        text-align: right;\n",
       "    }\n",
       "</style>\n",
       "<table border=\"1\" class=\"dataframe\">\n",
       "  <thead>\n",
       "    <tr style=\"text-align: right;\">\n",
       "      <th></th>\n",
       "      <th>date</th>\n",
       "      <th>time</th>\n",
       "      <th>sym</th>\n",
       "      <th>volume</th>\n",
       "      <th>vwap</th>\n",
       "      <th>lowPx</th>\n",
       "      <th>highPx</th>\n",
       "      <th>lastBidPx</th>\n",
       "      <th>lastAskPx</th>\n",
       "      <th>lastBidSz</th>\n",
       "      <th>lastAskSz</th>\n",
       "    </tr>\n",
       "  </thead>\n",
       "  <tbody>\n",
       "    <tr>\n",
       "      <th>0</th>\n",
       "      <td>2018-06-01</td>\n",
       "      <td>09:30:00</td>\n",
       "      <td>SPY</td>\n",
       "      <td>661687</td>\n",
       "      <td>272.448167</td>\n",
       "      <td>272.320007</td>\n",
       "      <td>272.489990</td>\n",
       "      <td>272.440002</td>\n",
       "      <td>272.459991</td>\n",
       "      <td>100</td>\n",
       "      <td>37</td>\n",
       "    </tr>\n",
       "    <tr>\n",
       "      <th>1</th>\n",
       "      <td>2018-06-01</td>\n",
       "      <td>09:31:00</td>\n",
       "      <td>SPY</td>\n",
       "      <td>360086</td>\n",
       "      <td>272.483874</td>\n",
       "      <td>272.390015</td>\n",
       "      <td>272.559998</td>\n",
       "      <td>272.519989</td>\n",
       "      <td>272.529999</td>\n",
       "      <td>3</td>\n",
       "      <td>12</td>\n",
       "    </tr>\n",
       "    <tr>\n",
       "      <th>2</th>\n",
       "      <td>2018-06-01</td>\n",
       "      <td>09:32:00</td>\n",
       "      <td>SPY</td>\n",
       "      <td>270282</td>\n",
       "      <td>272.513814</td>\n",
       "      <td>272.470001</td>\n",
       "      <td>272.565002</td>\n",
       "      <td>272.470001</td>\n",
       "      <td>272.480011</td>\n",
       "      <td>1</td>\n",
       "      <td>19</td>\n",
       "    </tr>\n",
       "    <tr>\n",
       "      <th>3</th>\n",
       "      <td>2018-06-01</td>\n",
       "      <td>09:33:00</td>\n",
       "      <td>SPY</td>\n",
       "      <td>311647</td>\n",
       "      <td>272.483097</td>\n",
       "      <td>272.450012</td>\n",
       "      <td>272.529999</td>\n",
       "      <td>272.480011</td>\n",
       "      <td>272.489990</td>\n",
       "      <td>26</td>\n",
       "      <td>1</td>\n",
       "    </tr>\n",
       "    <tr>\n",
       "      <th>4</th>\n",
       "      <td>2018-06-01</td>\n",
       "      <td>09:34:00</td>\n",
       "      <td>SPY</td>\n",
       "      <td>222903</td>\n",
       "      <td>272.557897</td>\n",
       "      <td>272.489990</td>\n",
       "      <td>272.619995</td>\n",
       "      <td>272.609985</td>\n",
       "      <td>272.619995</td>\n",
       "      <td>100</td>\n",
       "      <td>50</td>\n",
       "    </tr>\n",
       "  </tbody>\n",
       "</table>\n",
       "</div>"
      ],
      "text/plain": [
       "         date      time  sym  volume        vwap       lowPx      highPx  \\\n",
       "0  2018-06-01  09:30:00  SPY  661687  272.448167  272.320007  272.489990   \n",
       "1  2018-06-01  09:31:00  SPY  360086  272.483874  272.390015  272.559998   \n",
       "2  2018-06-01  09:32:00  SPY  270282  272.513814  272.470001  272.565002   \n",
       "3  2018-06-01  09:33:00  SPY  311647  272.483097  272.450012  272.529999   \n",
       "4  2018-06-01  09:34:00  SPY  222903  272.557897  272.489990  272.619995   \n",
       "\n",
       "    lastBidPx   lastAskPx  lastBidSz  lastAskSz  \n",
       "0  272.440002  272.459991        100         37  \n",
       "1  272.519989  272.529999          3         12  \n",
       "2  272.470001  272.480011          1         19  \n",
       "3  272.480011  272.489990         26          1  \n",
       "4  272.609985  272.619995        100         50  "
      ]
     },
     "execution_count": 844,
     "metadata": {},
     "output_type": "execute_result"
    }
   ],
   "source": [
    "def getmin(spy_10sec):\n",
    "    timesplit=lambda x:x.split(\":\")[2]\n",
    "    time=spy_10sec[\"time\"].apply(timesplit)\n",
    "    in_dex=time[time==\"00\"].index\n",
    "    volume=[]\n",
    "    vwap=[]\n",
    "    lowPx=[]\n",
    "    highPx=[]\n",
    "    lastBidPx=[]\n",
    "    lastAskPx=[]\n",
    "    lastBidSz=[]\n",
    "    lastAskSz=[]\n",
    "    date=[]\n",
    "    time=[]\n",
    "    sym=[]\n",
    "    \n",
    "    for i in range(0,len(in_dex)-1):\n",
    "        sumvolume = sum(spy_10sec.iloc[in_dex[i]:in_dex[i+1],3])\n",
    "        volume.append(sumvolume)\n",
    "        \n",
    "        # vwap\n",
    "        vwapcal=0\n",
    "        for j in range(in_dex[i],in_dex[i+1]):\n",
    "            vwapcal=vwapcal+spy_10sec.iloc[j,4]*spy_10sec.iloc[j,3]\n",
    "        vwapcal=vwapcal/sumvolume\n",
    "        vwap.append(vwapcal)\n",
    "        \n",
    "        # lowPx\n",
    "        getlowPx=min(spy_10sec.iloc[in_dex[i]:in_dex[i+1],5])\n",
    "        lowPx.append(getlowPx)\n",
    "        \n",
    "        # highPx\n",
    "        gethighPx=max(spy_10sec.iloc[in_dex[i]:in_dex[i+1],6])\n",
    "        highPx.append(gethighPx)\n",
    "\n",
    "        #bid and size\n",
    "        lastBidPx.append(spy_10sec.iloc[in_dex[i+1]-1,7])\n",
    "        lastAskPx.append(spy_10sec.iloc[in_dex[i+1]-1,8])\n",
    "        lastBidSz.append(spy_10sec.iloc[in_dex[i+1]-1,9])\n",
    "        lastAskSz.append(spy_10sec.iloc[in_dex[i+1]-1,10])\n",
    "        \n",
    "        #date time sym\n",
    "        date.append(spy_10sec.iloc[in_dex[i],0])\n",
    "        time.append(spy_10sec.iloc[in_dex[i],1])\n",
    "        sym.append(spy_10sec.iloc[in_dex[i],2])\n",
    "        \n",
    "    spy_10min=pd.DataFrame({\"date\":date,\"time\":time,\"sym\":sym,\"volume\":volume,\"vwap\":vwap,\"lowPx\":lowPx,\"highPx\":highPx,\"lastBidPx\":lastBidPx,\n",
    "                            \"lastAskPx\":lastAskPx,\"lastBidSz\":lastBidSz,\"lastAskSz\":lastAskSz})\n",
    "    \n",
    "    return spy_10min\n",
    "        \n",
    "spy_min=getmin(spy_10sec)\n",
    "spy_min.head()"
   ]
  },
  {
   "cell_type": "code",
   "execution_count": 845,
   "metadata": {},
   "outputs": [],
   "source": [
    "Xmin_train,Xmin_test=get_train_test(spy_min)\n",
    "Xmin_train.head()\n",
    "Xmin_test.head()\n",
    "X_train,y_train,X_test,y_test = getinput(Xmin_train,Xmin_test)"
   ]
  },
  {
   "cell_type": "markdown",
   "metadata": {},
   "source": [
    "## The baseline model"
   ]
  },
  {
   "cell_type": "code",
   "execution_count": 846,
   "metadata": {},
   "outputs": [
    {
     "data": {
      "text/html": [
       "<div>\n",
       "<style scoped>\n",
       "    .dataframe tbody tr th:only-of-type {\n",
       "        vertical-align: middle;\n",
       "    }\n",
       "\n",
       "    .dataframe tbody tr th {\n",
       "        vertical-align: top;\n",
       "    }\n",
       "\n",
       "    .dataframe thead th {\n",
       "        text-align: right;\n",
       "    }\n",
       "</style>\n",
       "<table border=\"1\" class=\"dataframe\">\n",
       "  <thead>\n",
       "    <tr style=\"text-align: right;\">\n",
       "      <th></th>\n",
       "      <th>Accuracy</th>\n",
       "      <th>Precision</th>\n",
       "      <th>Recall</th>\n",
       "      <th>F1wght</th>\n",
       "      <th>F1micro</th>\n",
       "    </tr>\n",
       "    <tr>\n",
       "      <th>Model</th>\n",
       "      <th></th>\n",
       "      <th></th>\n",
       "      <th></th>\n",
       "      <th></th>\n",
       "      <th></th>\n",
       "    </tr>\n",
       "  </thead>\n",
       "  <tbody>\n",
       "    <tr>\n",
       "      <th>Baseline</th>\n",
       "      <td>0.317338</td>\n",
       "      <td>0.3482</td>\n",
       "      <td>0.317338</td>\n",
       "      <td>0.323843</td>\n",
       "      <td>0.317338</td>\n",
       "    </tr>\n",
       "  </tbody>\n",
       "</table>\n",
       "</div>"
      ],
      "text/plain": [
       "          Accuracy  Precision    Recall    F1wght   F1micro\n",
       "Model                                                      \n",
       "Baseline  0.317338     0.3482  0.317338  0.323843  0.317338"
      ]
     },
     "execution_count": 846,
     "metadata": {},
     "output_type": "execute_result"
    }
   ],
   "source": [
    "dmy_clf = DummyClassifier(strategy=\"stratified\")\n",
    "dmy_clf.fit(X_train, y_train)\n",
    "y_pred=dmy_clf.predict(X_test)\n",
    "\n",
    "classreportbase=getoutcome(y_test, y_pred,\"Baseline\")\n",
    "classreportbase"
   ]
  },
  {
   "cell_type": "markdown",
   "metadata": {},
   "source": [
    "## logistic model"
   ]
  },
  {
   "cell_type": "code",
   "execution_count": 847,
   "metadata": {},
   "outputs": [
    {
     "name": "stderr",
     "output_type": "stream",
     "text": [
      "D:\\anaconda3\\lib\\site-packages\\sklearn\\metrics\\classification.py:1143: UndefinedMetricWarning: Precision is ill-defined and being set to 0.0 in labels with no predicted samples.\n",
      "  'precision', 'predicted', average, warn_for)\n",
      "D:\\anaconda3\\lib\\site-packages\\sklearn\\metrics\\classification.py:1143: UndefinedMetricWarning: F-score is ill-defined and being set to 0.0 in labels with no predicted samples.\n",
      "  'precision', 'predicted', average, warn_for)\n"
     ]
    },
    {
     "data": {
      "text/html": [
       "<div>\n",
       "<style scoped>\n",
       "    .dataframe tbody tr th:only-of-type {\n",
       "        vertical-align: middle;\n",
       "    }\n",
       "\n",
       "    .dataframe tbody tr th {\n",
       "        vertical-align: top;\n",
       "    }\n",
       "\n",
       "    .dataframe thead th {\n",
       "        text-align: right;\n",
       "    }\n",
       "</style>\n",
       "<table border=\"1\" class=\"dataframe\">\n",
       "  <thead>\n",
       "    <tr style=\"text-align: right;\">\n",
       "      <th></th>\n",
       "      <th>Accuracy</th>\n",
       "      <th>Precision</th>\n",
       "      <th>Recall</th>\n",
       "      <th>F1wght</th>\n",
       "      <th>F1micro</th>\n",
       "    </tr>\n",
       "    <tr>\n",
       "      <th>Model</th>\n",
       "      <th></th>\n",
       "      <th></th>\n",
       "      <th></th>\n",
       "      <th></th>\n",
       "      <th></th>\n",
       "    </tr>\n",
       "  </thead>\n",
       "  <tbody>\n",
       "    <tr>\n",
       "      <th>logistic</th>\n",
       "      <td>0.21881</td>\n",
       "      <td>0.047878</td>\n",
       "      <td>0.21881</td>\n",
       "      <td>0.078565</td>\n",
       "      <td>0.21881</td>\n",
       "    </tr>\n",
       "  </tbody>\n",
       "</table>\n",
       "</div>"
      ],
      "text/plain": [
       "          Accuracy  Precision   Recall    F1wght  F1micro\n",
       "Model                                                    \n",
       "logistic   0.21881   0.047878  0.21881  0.078565  0.21881"
      ]
     },
     "execution_count": 847,
     "metadata": {},
     "output_type": "execute_result"
    }
   ],
   "source": [
    "lgm = LogisticRegression(C=1e-5,solver='lbfgs',  multi_class='multinomial',max_iter=1000,penalty='l2')\n",
    "lgm.fit(X_train,  y_train)\n",
    "y_pred = lgm.predict(X_test)\n",
    "getoutcome(y_test,y_pred,\"logistic\")"
   ]
  },
  {
   "cell_type": "markdown",
   "metadata": {},
   "source": [
    "### The logistic model does not perform well for every minuate data."
   ]
  },
  {
   "cell_type": "markdown",
   "metadata": {},
   "source": [
    "## RNN"
   ]
  },
  {
   "cell_type": "code",
   "execution_count": 848,
   "metadata": {},
   "outputs": [],
   "source": [
    "M=3\n",
    "X_train_rnn, X_test_rnn, y_rnn=getrnntrain(X_train,y_train, X_test)"
   ]
  },
  {
   "cell_type": "code",
   "execution_count": 849,
   "metadata": {},
   "outputs": [
    {
     "name": "stdout",
     "output_type": "stream",
     "text": [
      "_________________________________________________________________\n",
      "Layer (type)                 Output Shape              Param #   \n",
      "=================================================================\n",
      "simple_rnn_79 (SimpleRNN)    (None, 256)               66048     \n",
      "_________________________________________________________________\n",
      "dropout_79 (Dropout)         (None, 256)               0         \n",
      "_________________________________________________________________\n",
      "dense_79 (Dense)             (None, 3)                 771       \n",
      "=================================================================\n",
      "Total params: 66,819\n",
      "Trainable params: 66,819\n",
      "Non-trainable params: 0\n",
      "_________________________________________________________________\n"
     ]
    }
   ],
   "source": [
    "rnn_input_shape=(M,1)\n",
    "rnn1_layers = 1\n",
    "n_units = 256\n",
    "rnn1_drop_rate = 0.4\n",
    "\n",
    "rnn1 = Sequential()\n",
    "rnn1.add(SimpleRNN(input_shape=rnn_input_shape, units=n_units, activation='relu'))\n",
    "rnn1.add(Dropout(rnn1_drop_rate))\n",
    "for i in range(rnn1_layers - 1):\n",
    "    rnn1.add(SimpleRNN(input_shape=rnn_input_shape, units=n_units, activation='relu'))\n",
    "    rnn1.add(Dropout(rnn1_drop_rate))\n",
    "rnn1.add(Dense(n_classes, activation='softmax'))\n",
    "rnn1.summary()"
   ]
  },
  {
   "cell_type": "code",
   "execution_count": 850,
   "metadata": {},
   "outputs": [
    {
     "name": "stdout",
     "output_type": "stream",
     "text": [
      "Train on 5630 samples, validate on 626 samples\n",
      "Epoch 1/10\n",
      "5630/5630 [==============================] - 14s 2ms/step - loss: 1.0900 - acc: 0.3778 - val_loss: 1.0893 - val_acc: 0.3834\n",
      "Epoch 2/10\n",
      "5630/5630 [==============================] - 0s 34us/step - loss: 1.0803 - acc: 0.4103 - val_loss: 1.0881 - val_acc: 0.3866\n",
      "Epoch 3/10\n",
      "5630/5630 [==============================] - 0s 27us/step - loss: 1.0759 - acc: 0.4103 - val_loss: 1.0834 - val_acc: 0.4042\n",
      "Epoch 4/10\n",
      "5630/5630 [==============================] - 0s 27us/step - loss: 1.0746 - acc: 0.4137 - val_loss: 1.0830 - val_acc: 0.3866\n",
      "Epoch 5/10\n",
      "5630/5630 [==============================] - 0s 28us/step - loss: 1.0722 - acc: 0.4206 - val_loss: 1.0823 - val_acc: 0.3994\n",
      "Epoch 6/10\n",
      "5630/5630 [==============================] - 0s 27us/step - loss: 1.0724 - acc: 0.4130 - val_loss: 1.0873 - val_acc: 0.3914\n",
      "Epoch 7/10\n",
      "5630/5630 [==============================] - 0s 27us/step - loss: 1.0722 - acc: 0.4167 - val_loss: 1.0827 - val_acc: 0.3850\n",
      "Epoch 8/10\n",
      "5630/5630 [==============================] - 0s 28us/step - loss: 1.0739 - acc: 0.4096 - val_loss: 1.0818 - val_acc: 0.3946\n",
      "Epoch 9/10\n",
      "5630/5630 [==============================] - 0s 29us/step - loss: 1.0689 - acc: 0.4202 - val_loss: 1.0821 - val_acc: 0.3962\n",
      "Epoch 10/10\n",
      "5630/5630 [==============================] - 0s 27us/step - loss: 1.0690 - acc: 0.4185 - val_loss: 1.0897 - val_acc: 0.3898\n"
     ]
    }
   ],
   "source": [
    "# compile, fit and evaluate\n",
    "rnn1.compile(optimizer='nadam', loss='categorical_crossentropy', metrics=['accuracy'])\n",
    "\n",
    "rnn1_batch_size = 1000\n",
    "rnn1_epochs = 10\n",
    "rnn1_val_split = 0.1 \n",
    "# create an early stopping callback\n",
    "rnn1_es = EarlyStopping(monitor='val_loss', min_delta=0, patience=3, mode='auto', baseline=None, restore_best_weights=False)\n",
    "\n",
    "rnn1_hist = rnn1.fit(X_train_rnn, y_rnn, batch_size=rnn1_batch_size, epochs=rnn1_epochs, validation_split=rnn1_val_split, callbacks=[rnn1_es], verbose=1)\n",
    "#rnn1_val_score = rnn1.evaluate(X_test, y_test, verbose=0)\n"
   ]
  },
  {
   "cell_type": "code",
   "execution_count": 851,
   "metadata": {},
   "outputs": [
    {
     "data": {
      "text/html": [
       "<div>\n",
       "<style scoped>\n",
       "    .dataframe tbody tr th:only-of-type {\n",
       "        vertical-align: middle;\n",
       "    }\n",
       "\n",
       "    .dataframe tbody tr th {\n",
       "        vertical-align: top;\n",
       "    }\n",
       "\n",
       "    .dataframe thead th {\n",
       "        text-align: right;\n",
       "    }\n",
       "</style>\n",
       "<table border=\"1\" class=\"dataframe\">\n",
       "  <thead>\n",
       "    <tr style=\"text-align: right;\">\n",
       "      <th></th>\n",
       "      <th>Accuracy</th>\n",
       "      <th>Precision</th>\n",
       "      <th>Recall</th>\n",
       "      <th>F1wght</th>\n",
       "      <th>F1micro</th>\n",
       "    </tr>\n",
       "    <tr>\n",
       "      <th>Model</th>\n",
       "      <th></th>\n",
       "      <th></th>\n",
       "      <th></th>\n",
       "      <th></th>\n",
       "      <th></th>\n",
       "    </tr>\n",
       "  </thead>\n",
       "  <tbody>\n",
       "    <tr>\n",
       "      <th>RNN</th>\n",
       "      <td>0.324376</td>\n",
       "      <td>0.375051</td>\n",
       "      <td>0.324376</td>\n",
       "      <td>0.270706</td>\n",
       "      <td>0.324376</td>\n",
       "    </tr>\n",
       "  </tbody>\n",
       "</table>\n",
       "</div>"
      ],
      "text/plain": [
       "       Accuracy  Precision    Recall    F1wght   F1micro\n",
       "Model                                                   \n",
       "RNN    0.324376   0.375051  0.324376  0.270706  0.324376"
      ]
     },
     "execution_count": 851,
     "metadata": {},
     "output_type": "execute_result"
    }
   ],
   "source": [
    "y_pred = rnn1.predict(X_test_rnn)\n",
    "y_pred = np.argmax(y_pred, axis=1)-1\n",
    "getoutcome(y_test, y_pred,\"RNN\")"
   ]
  },
  {
   "cell_type": "markdown",
   "metadata": {},
   "source": [
    "### RNN model performs better than baseline model"
   ]
  },
  {
   "cell_type": "markdown",
   "metadata": {},
   "source": [
    "## Add the new feature"
   ]
  },
  {
   "cell_type": "code",
   "execution_count": 852,
   "metadata": {},
   "outputs": [
    {
     "data": {
      "text/plain": [
       "(7819, 1)"
      ]
     },
     "execution_count": 852,
     "metadata": {},
     "output_type": "execute_result"
    }
   ],
   "source": [
    "size=getsize(spy_min)\n",
    "size.shape"
   ]
  },
  {
   "cell_type": "code",
   "execution_count": 853,
   "metadata": {},
   "outputs": [],
   "source": [
    "size_train=size[0:X_train.shape[0],:]\n",
    "size_test=size[X_train.shape[0]:,:]\n",
    "X_train_new = np.c_[X_train,size_train]\n",
    "X_test_new = np.c_[X_test,size_test]"
   ]
  },
  {
   "cell_type": "markdown",
   "metadata": {},
   "source": [
    "## logistic regression "
   ]
  },
  {
   "cell_type": "code",
   "execution_count": 854,
   "metadata": {},
   "outputs": [
    {
     "data": {
      "text/html": [
       "<div>\n",
       "<style scoped>\n",
       "    .dataframe tbody tr th:only-of-type {\n",
       "        vertical-align: middle;\n",
       "    }\n",
       "\n",
       "    .dataframe tbody tr th {\n",
       "        vertical-align: top;\n",
       "    }\n",
       "\n",
       "    .dataframe thead th {\n",
       "        text-align: right;\n",
       "    }\n",
       "</style>\n",
       "<table border=\"1\" class=\"dataframe\">\n",
       "  <thead>\n",
       "    <tr style=\"text-align: right;\">\n",
       "      <th></th>\n",
       "      <th>Accuracy</th>\n",
       "      <th>Precision</th>\n",
       "      <th>Recall</th>\n",
       "      <th>F1wght</th>\n",
       "      <th>F1micro</th>\n",
       "    </tr>\n",
       "    <tr>\n",
       "      <th>Model</th>\n",
       "      <th></th>\n",
       "      <th></th>\n",
       "      <th></th>\n",
       "      <th></th>\n",
       "      <th></th>\n",
       "    </tr>\n",
       "  </thead>\n",
       "  <tbody>\n",
       "    <tr>\n",
       "      <th>logistic</th>\n",
       "      <td>0.21817</td>\n",
       "      <td>0.047799</td>\n",
       "      <td>0.21817</td>\n",
       "      <td>0.078417</td>\n",
       "      <td>0.21817</td>\n",
       "    </tr>\n",
       "  </tbody>\n",
       "</table>\n",
       "</div>"
      ],
      "text/plain": [
       "          Accuracy  Precision   Recall    F1wght  F1micro\n",
       "Model                                                    \n",
       "logistic   0.21817   0.047799  0.21817  0.078417  0.21817"
      ]
     },
     "execution_count": 854,
     "metadata": {},
     "output_type": "execute_result"
    }
   ],
   "source": [
    "lgm.fit(X_train_new, y_train)\n",
    "y_pred = lgm.predict(X_test_new)\n",
    "getoutcome(y_test,y_pred,\"logistic\")"
   ]
  },
  {
   "cell_type": "markdown",
   "metadata": {},
   "source": [
    "### Precision, recall, F1wght, F1micro is better after adding the new feature. "
   ]
  },
  {
   "cell_type": "markdown",
   "metadata": {},
   "source": [
    "## RNN"
   ]
  },
  {
   "cell_type": "code",
   "execution_count": 855,
   "metadata": {},
   "outputs": [
    {
     "name": "stdout",
     "output_type": "stream",
     "text": [
      "_________________________________________________________________\n",
      "Layer (type)                 Output Shape              Param #   \n",
      "=================================================================\n",
      "simple_rnn_80 (SimpleRNN)    (None, 256)               66048     \n",
      "_________________________________________________________________\n",
      "dropout_80 (Dropout)         (None, 256)               0         \n",
      "_________________________________________________________________\n",
      "dense_80 (Dense)             (None, 3)                 771       \n",
      "=================================================================\n",
      "Total params: 66,819\n",
      "Trainable params: 66,819\n",
      "Non-trainable params: 0\n",
      "_________________________________________________________________\n"
     ]
    }
   ],
   "source": [
    "M=4\n",
    "X_train_rnn_new, X_test_rnn_new, y_rnn_new=getrnntrain(X_train_new,y_train, X_test_new)\n",
    "\n",
    "rnn_input_shape=(M,1)\n",
    "rnn1_layers = 1\n",
    "n_units = 256\n",
    "rnn1_drop_rate = 0.4\n",
    "\n",
    "rnn1 = Sequential()\n",
    "rnn1.add(SimpleRNN(input_shape=rnn_input_shape, units=n_units, activation='relu'))\n",
    "rnn1.add(Dropout(rnn1_drop_rate))\n",
    "for i in range(rnn1_layers - 1):\n",
    "    rnn1.add(SimpleRNN(input_shape=rnn_input_shape, units=n_units, activation='relu'))\n",
    "    rnn1.add(Dropout(rnn1_drop_rate))\n",
    "rnn1.add(Dense(n_classes, activation='softmax'))\n",
    "rnn1.summary()"
   ]
  },
  {
   "cell_type": "code",
   "execution_count": 856,
   "metadata": {},
   "outputs": [
    {
     "name": "stdout",
     "output_type": "stream",
     "text": [
      "Train on 5630 samples, validate on 626 samples\n",
      "Epoch 1/10\n",
      "5630/5630 [==============================] - 13s 2ms/step - loss: 1.0847 - acc: 0.3895 - val_loss: 1.0936 - val_acc: 0.3834\n",
      "Epoch 2/10\n",
      "5630/5630 [==============================] - 0s 37us/step - loss: 1.0762 - acc: 0.4078 - val_loss: 1.0847 - val_acc: 0.4105\n",
      "Epoch 3/10\n",
      "5630/5630 [==============================] - 0s 32us/step - loss: 1.0733 - acc: 0.4126 - val_loss: 1.0840 - val_acc: 0.4010\n",
      "Epoch 4/10\n",
      "5630/5630 [==============================] - 0s 32us/step - loss: 1.0711 - acc: 0.4211 - val_loss: 1.0851 - val_acc: 0.3866\n",
      "Epoch 5/10\n",
      "5630/5630 [==============================] - 0s 33us/step - loss: 1.0723 - acc: 0.4187 - val_loss: 1.0873 - val_acc: 0.3786\n",
      "Epoch 6/10\n",
      "5630/5630 [==============================] - 0s 33us/step - loss: 1.0694 - acc: 0.4218 - val_loss: 1.0887 - val_acc: 0.3818\n"
     ]
    }
   ],
   "source": [
    "rnn1.compile(optimizer='nadam', loss='categorical_crossentropy', metrics=['accuracy'])\n",
    "# create an early stopping callback\n",
    "rnn1_es = EarlyStopping(monitor='val_loss', min_delta=0, patience=3, mode='auto', baseline=None, restore_best_weights=False)\n",
    "rnn1_hist = rnn1.fit(X_train_rnn_new, y_rnn_new, batch_size=rnn1_batch_size, epochs=rnn1_epochs, validation_split=rnn1_val_split, callbacks=[rnn1_es], verbose=1)"
   ]
  },
  {
   "cell_type": "code",
   "execution_count": 857,
   "metadata": {},
   "outputs": [
    {
     "data": {
      "text/html": [
       "<div>\n",
       "<style scoped>\n",
       "    .dataframe tbody tr th:only-of-type {\n",
       "        vertical-align: middle;\n",
       "    }\n",
       "\n",
       "    .dataframe tbody tr th {\n",
       "        vertical-align: top;\n",
       "    }\n",
       "\n",
       "    .dataframe thead th {\n",
       "        text-align: right;\n",
       "    }\n",
       "</style>\n",
       "<table border=\"1\" class=\"dataframe\">\n",
       "  <thead>\n",
       "    <tr style=\"text-align: right;\">\n",
       "      <th></th>\n",
       "      <th>Accuracy</th>\n",
       "      <th>Precision</th>\n",
       "      <th>Recall</th>\n",
       "      <th>F1wght</th>\n",
       "      <th>F1micro</th>\n",
       "    </tr>\n",
       "    <tr>\n",
       "      <th>Model</th>\n",
       "      <th></th>\n",
       "      <th></th>\n",
       "      <th></th>\n",
       "      <th></th>\n",
       "      <th></th>\n",
       "    </tr>\n",
       "  </thead>\n",
       "  <tbody>\n",
       "    <tr>\n",
       "      <th>RNN</th>\n",
       "      <td>0.364683</td>\n",
       "      <td>0.395763</td>\n",
       "      <td>0.364683</td>\n",
       "      <td>0.332088</td>\n",
       "      <td>0.364683</td>\n",
       "    </tr>\n",
       "  </tbody>\n",
       "</table>\n",
       "</div>"
      ],
      "text/plain": [
       "       Accuracy  Precision    Recall    F1wght   F1micro\n",
       "Model                                                   \n",
       "RNN    0.364683   0.395763  0.364683  0.332088  0.364683"
      ]
     },
     "execution_count": 857,
     "metadata": {},
     "output_type": "execute_result"
    }
   ],
   "source": [
    "y_pred = rnn1.predict(X_test_rnn_new)\n",
    "y_pred = np.argmax(y_pred, axis=1)-1\n",
    "getoutcome(y_test, y_pred,\"RNN\")"
   ]
  },
  {
   "cell_type": "markdown",
   "metadata": {},
   "source": [
    "### After adding the new feature, the RNN model is much better. The scores improve by about 2% and Precision keeps very close."
   ]
  },
  {
   "cell_type": "markdown",
   "metadata": {},
   "source": [
    "## According to our analysis, RNN model is very robust and performs still well when data varies. Additionally, the new featue lastAskSz-lastBidSz does work.\n"
   ]
  }
 ],
 "metadata": {
  "anaconda-cloud": {},
  "kernelspec": {
   "display_name": "Python 3",
   "language": "python",
   "name": "python3"
  },
  "language_info": {
   "codemirror_mode": {
    "name": "ipython",
    "version": 3
   },
   "file_extension": ".py",
   "mimetype": "text/x-python",
   "name": "python",
   "nbconvert_exporter": "python",
   "pygments_lexer": "ipython3",
   "version": "3.7.1"
  }
 },
 "nbformat": 4,
 "nbformat_minor": 2
}
