{
 "cells": [
  {
   "cell_type": "markdown",
   "metadata": {},
   "source": [
    "#### Name:  Xuan Zhang"
   ]
  },
  {
   "cell_type": "markdown",
   "metadata": {},
   "source": [
    "## Problem \n",
    "\n",
    "Use LSTM to analyze S&P 500 returns over the period 2004-2006.\n",
    "\n",
    "The data file \"stock-treasury-2004_2006.csv\", to be found in the \"Data\" folder, contains the following:  \n",
    "+ TREAS_3M: the yield of the 3-month treasury note in percent (i.e 2.1 means 2.1%)\n",
    "+ Adjusted close price of ten major stocks: GM, F, UTX, CAT, MRK, PFE, IBM, MSFT, C, XOM\n",
    "+ SP: The S&P 500 equity index level at the close of the trading day  \n",
    "\n",
    "**Do the following:**  \n",
    "\n",
    "Use the pandas read_csv function to read the Date and SP columns in a data frame called \"sp_df\".  \n",
    "Rename the \"SP\" column into \"ClosePx\" in the same read_csv call.  \n",
    "Compute the close-to-close index returns as:  $r_t = P_{t+1}/P_t - 1$ and add them as a new column \"DailyRet\".  \n",
    "It is recommended to express all daily returns in basis points (10,000 bps = 100% = 1)\n",
    "\n",
    "We want to train an RNN that looks back $M$ days and forecasts forward $N$ days.  \n",
    "Therefore the RNN will use return sequences of size $M$, and targets of size $N$.  \n",
    "\n",
    "Reformat the return data suitable for RNN processing as follows.  \n",
    "From the \"DailyRet\" column of \"sp_df\", create a data input matrix $X$ containing rows as below:    \n",
    "$$r_0, r_1, r_2, \\ldots, r_{M-1}$$  \n",
    "$$r_1, r_2, r_3, \\ldots, r_{M}$$  \n",
    "$$r_2, r_3, r_4, \\ldots, r_{M+1}$$  \n",
    "$$\\ldots$$\n",
    "From the \"DailyRet\" column of \"sp_df\", create also a target matrix $y$ containing rows as below:\n",
    "$$ r_{M}, r_{M+1}, \\ldots, r_{M+N-1}$$\n",
    "$$ r_{M+1}, r_{M+2}, \\ldots, r_{M+N}$$\n",
    "$$ r_{M+2}, r_{M+3}, \\ldots, r_{M+N+1}$$\n",
    "$$\\ldots$$\n",
    "\n",
    "Set $M=16$ and $N=4$.  \n",
    "Build an RNN with two LSTM cells and train it on the first 607 sequences.  \n",
    "This means that the training set contains returns with the latest date of 2016-05-31.    \n",
    "Use the remaining returns for out-of-sample testing.  \n",
    "This is a regression task, so train the network using mean_squared_error loss.  \n",
    "When connecting the two LSTMs, make sure you set the parameter return_sequences=True on the first LSTM, \n",
    "so that the second can see the sequences.\n",
    "\n",
    "Compute the out-of-sample actual and predicted 2-day, 3-day, ..., N-day return, by summing 1-day forward returns up to this horizon.  \n",
    "N-day return is the return from today's close to the close of the N-th day forward from today.  \n",
    "Calculate and report the RMSE and the correlation between actual and predicted 1-day, 2-day, ..., N-day returns.  \n",
    "Plot the actual and predicted returns in the out-of-sample part.  \n",
    "What do you conclude regarding the quality of the forecasts?\n"
   ]
  },
  {
   "cell_type": "markdown",
   "metadata": {},
   "source": [
    "## Solution "
   ]
  },
  {
   "cell_type": "code",
   "execution_count": 1,
   "metadata": {},
   "outputs": [
    {
     "name": "stderr",
     "output_type": "stream",
     "text": [
      "Using TensorFlow backend.\n"
     ]
    }
   ],
   "source": [
    "%matplotlib inline\n",
    "import numpy as np\n",
    "import pandas as pd\n",
    "import matplotlib.pyplot as plt\n",
    "plt.style.use('ggplot')\n",
    "np.random.seed(42)\n",
    "\n",
    "from keras.datasets import mnist\n",
    "from keras.utils import to_categorical\n",
    "from keras.models import Sequential\n",
    "from keras.layers import Dense, Dropout, Activation\n",
    "from keras.layers import Conv2D, MaxPooling2D, Flatten, SimpleRNN, LSTM\n",
    "from keras.callbacks import EarlyStopping\n",
    "\n",
    "from sklearn.metrics import accuracy_score\n",
    "from sklearn.linear_model import LogisticRegression\n",
    "from sklearn.preprocessing import MinMaxScaler\n"
   ]
  },
  {
   "cell_type": "markdown",
   "metadata": {},
   "source": [
    "## import data"
   ]
  },
  {
   "cell_type": "code",
   "execution_count": 2,
   "metadata": {},
   "outputs": [
    {
     "data": {
      "text/html": [
       "<div>\n",
       "<style scoped>\n",
       "    .dataframe tbody tr th:only-of-type {\n",
       "        vertical-align: middle;\n",
       "    }\n",
       "\n",
       "    .dataframe tbody tr th {\n",
       "        vertical-align: top;\n",
       "    }\n",
       "\n",
       "    .dataframe thead th {\n",
       "        text-align: right;\n",
       "    }\n",
       "</style>\n",
       "<table border=\"1\" class=\"dataframe\">\n",
       "  <thead>\n",
       "    <tr style=\"text-align: right;\">\n",
       "      <th></th>\n",
       "      <th>Date</th>\n",
       "      <th>ClosePx</th>\n",
       "    </tr>\n",
       "  </thead>\n",
       "  <tbody>\n",
       "    <tr>\n",
       "      <th>0</th>\n",
       "      <td>2004-01-02</td>\n",
       "      <td>1108.48</td>\n",
       "    </tr>\n",
       "    <tr>\n",
       "      <th>1</th>\n",
       "      <td>2004-01-05</td>\n",
       "      <td>1122.22</td>\n",
       "    </tr>\n",
       "    <tr>\n",
       "      <th>2</th>\n",
       "      <td>2004-01-06</td>\n",
       "      <td>1123.67</td>\n",
       "    </tr>\n",
       "    <tr>\n",
       "      <th>3</th>\n",
       "      <td>2004-01-07</td>\n",
       "      <td>1126.33</td>\n",
       "    </tr>\n",
       "    <tr>\n",
       "      <th>4</th>\n",
       "      <td>2004-01-08</td>\n",
       "      <td>1131.92</td>\n",
       "    </tr>\n",
       "  </tbody>\n",
       "</table>\n",
       "</div>"
      ],
      "text/plain": [
       "        Date  ClosePx\n",
       "0 2004-01-02  1108.48\n",
       "1 2004-01-05  1122.22\n",
       "2 2004-01-06  1123.67\n",
       "3 2004-01-07  1126.33\n",
       "4 2004-01-08  1131.92"
      ]
     },
     "execution_count": 2,
     "metadata": {},
     "output_type": "execute_result"
    }
   ],
   "source": [
    "plt.style.use('ggplot')\n",
    "M=16\n",
    "N=4\n",
    "\n",
    "sp_df=pd.read_csv(\"stock-treasury-2004_2006.csv\",\n",
    "                  usecols=[0,12],parse_dates=['Date'],header=0,names=['Date','ClosePx'])\n",
    "        \n",
    "sp_df.head()"
   ]
  },
  {
   "cell_type": "code",
   "execution_count": 3,
   "metadata": {},
   "outputs": [
    {
     "data": {
      "text/html": [
       "<div>\n",
       "<style scoped>\n",
       "    .dataframe tbody tr th:only-of-type {\n",
       "        vertical-align: middle;\n",
       "    }\n",
       "\n",
       "    .dataframe tbody tr th {\n",
       "        vertical-align: top;\n",
       "    }\n",
       "\n",
       "    .dataframe thead th {\n",
       "        text-align: right;\n",
       "    }\n",
       "</style>\n",
       "<table border=\"1\" class=\"dataframe\">\n",
       "  <thead>\n",
       "    <tr style=\"text-align: right;\">\n",
       "      <th></th>\n",
       "      <th>Date</th>\n",
       "      <th>ClosePx</th>\n",
       "      <th>DailyRet</th>\n",
       "    </tr>\n",
       "  </thead>\n",
       "  <tbody>\n",
       "    <tr>\n",
       "      <th>0</th>\n",
       "      <td>2004-01-02</td>\n",
       "      <td>1108.48</td>\n",
       "      <td>123.953522</td>\n",
       "    </tr>\n",
       "    <tr>\n",
       "      <th>1</th>\n",
       "      <td>2004-01-05</td>\n",
       "      <td>1122.22</td>\n",
       "      <td>12.920818</td>\n",
       "    </tr>\n",
       "    <tr>\n",
       "      <th>2</th>\n",
       "      <td>2004-01-06</td>\n",
       "      <td>1123.67</td>\n",
       "      <td>23.672431</td>\n",
       "    </tr>\n",
       "    <tr>\n",
       "      <th>3</th>\n",
       "      <td>2004-01-07</td>\n",
       "      <td>1126.33</td>\n",
       "      <td>49.630215</td>\n",
       "    </tr>\n",
       "    <tr>\n",
       "      <th>4</th>\n",
       "      <td>2004-01-08</td>\n",
       "      <td>1131.92</td>\n",
       "      <td>-88.875539</td>\n",
       "    </tr>\n",
       "  </tbody>\n",
       "</table>\n",
       "</div>"
      ],
      "text/plain": [
       "        Date  ClosePx    DailyRet\n",
       "0 2004-01-02  1108.48  123.953522\n",
       "1 2004-01-05  1122.22   12.920818\n",
       "2 2004-01-06  1123.67   23.672431\n",
       "3 2004-01-07  1126.33   49.630215\n",
       "4 2004-01-08  1131.92  -88.875539"
      ]
     },
     "execution_count": 3,
     "metadata": {},
     "output_type": "execute_result"
    }
   ],
   "source": [
    "sp_df = sp_df.assign(DailyRet=10000 * (sp_df.ClosePx.shift(periods=-1)/ sp_df.ClosePx - 1))\n",
    "sp_df.head()"
   ]
  },
  {
   "cell_type": "code",
   "execution_count": 4,
   "metadata": {},
   "outputs": [
    {
     "data": {
      "text/html": [
       "<div>\n",
       "<style scoped>\n",
       "    .dataframe tbody tr th:only-of-type {\n",
       "        vertical-align: middle;\n",
       "    }\n",
       "\n",
       "    .dataframe tbody tr th {\n",
       "        vertical-align: top;\n",
       "    }\n",
       "\n",
       "    .dataframe thead th {\n",
       "        text-align: right;\n",
       "    }\n",
       "</style>\n",
       "<table border=\"1\" class=\"dataframe\">\n",
       "  <thead>\n",
       "    <tr style=\"text-align: right;\">\n",
       "      <th></th>\n",
       "      <th>Date</th>\n",
       "      <th>ClosePx</th>\n",
       "      <th>DailyRet</th>\n",
       "    </tr>\n",
       "  </thead>\n",
       "  <tbody>\n",
       "    <tr>\n",
       "      <th>668</th>\n",
       "      <td>2006-08-28</td>\n",
       "      <td>1301.78</td>\n",
       "      <td>19.204474</td>\n",
       "    </tr>\n",
       "    <tr>\n",
       "      <th>669</th>\n",
       "      <td>2006-08-29</td>\n",
       "      <td>1304.28</td>\n",
       "      <td>8.357101</td>\n",
       "    </tr>\n",
       "    <tr>\n",
       "      <th>670</th>\n",
       "      <td>2006-08-30</td>\n",
       "      <td>1305.37</td>\n",
       "      <td>-11.874028</td>\n",
       "    </tr>\n",
       "    <tr>\n",
       "      <th>671</th>\n",
       "      <td>2006-08-31</td>\n",
       "      <td>1303.82</td>\n",
       "      <td>55.145649</td>\n",
       "    </tr>\n",
       "    <tr>\n",
       "      <th>672</th>\n",
       "      <td>2006-09-01</td>\n",
       "      <td>1311.01</td>\n",
       "      <td>NaN</td>\n",
       "    </tr>\n",
       "  </tbody>\n",
       "</table>\n",
       "</div>"
      ],
      "text/plain": [
       "          Date  ClosePx   DailyRet\n",
       "668 2006-08-28  1301.78  19.204474\n",
       "669 2006-08-29  1304.28   8.357101\n",
       "670 2006-08-30  1305.37 -11.874028\n",
       "671 2006-08-31  1303.82  55.145649\n",
       "672 2006-09-01  1311.01        NaN"
      ]
     },
     "execution_count": 4,
     "metadata": {},
     "output_type": "execute_result"
    }
   ],
   "source": [
    "sp_df.tail()"
   ]
  },
  {
   "cell_type": "markdown",
   "metadata": {},
   "source": [
    "## rescale train data"
   ]
  },
  {
   "cell_type": "code",
   "execution_count": 6,
   "metadata": {},
   "outputs": [],
   "source": [
    "traindata=np.array(sp_df.DailyRet)[0:607].reshape(-1,1)\n",
    "scaler = MinMaxScaler(feature_range=(-1, 1))\n",
    "traindata = scaler.fit_transform(traindata)\n",
    "traindata=pd.Series(np.squeeze(traindata))\n",
    "X_trainoriginal=traindata"
   ]
  },
  {
   "cell_type": "code",
   "execution_count": 336,
   "metadata": {
    "scrolled": true
   },
   "outputs": [
    {
     "data": {
      "text/plain": [
       "(588, 16, 1)"
      ]
     },
     "execution_count": 336,
     "metadata": {},
     "output_type": "execute_result"
    }
   ],
   "source": [
    "X_train = np.array([X_trainoriginal[0:M]])\n",
    "for i in range(1,(len(X_trainoriginal)-M+1-N)):\n",
    "    xadd = np.array([X_trainoriginal[i:i+M]])\n",
    "    X_train=np.vstack((X_train,xadd))\n",
    "X_train = X_train.reshape((-1, M, 1))\n",
    "X_train.shape"
   ]
  },
  {
   "cell_type": "code",
   "execution_count": 337,
   "metadata": {},
   "outputs": [
    {
     "data": {
      "text/plain": [
       "(588, 4)"
      ]
     },
     "execution_count": 337,
     "metadata": {},
     "output_type": "execute_result"
    }
   ],
   "source": [
    "y_train = np.array([X_trainoriginal[M:M+N]])\n",
    "for i in range(M+1,(len(X_trainoriginal)-N+1)):\n",
    "    xadd = np.array([X_trainoriginal[i:i+N]])\n",
    "    y_train=np.vstack((y_train,xadd))\n",
    "y_train.shape"
   ]
  },
  {
   "cell_type": "code",
   "execution_count": 338,
   "metadata": {},
   "outputs": [
    {
     "data": {
      "text/plain": [
       "array([[-0.75215881,  0.22510419, -0.17511201,  0.15480958],\n",
       "       [ 0.22510419, -0.17511201,  0.15480958, -0.00140475],\n",
       "       [-0.17511201,  0.15480958, -0.00140475, -0.47691249],\n",
       "       ...,\n",
       "       [ 0.04616983,  0.56039631,  0.26347798, -0.86986174],\n",
       "       [ 0.56039631,  0.26347798, -0.86986174,  0.38919919],\n",
       "       [ 0.26347798, -0.86986174,  0.38919919,  0.60917362]])"
      ]
     },
     "execution_count": 338,
     "metadata": {},
     "output_type": "execute_result"
    }
   ],
   "source": [
    "y_train"
   ]
  },
  {
   "cell_type": "code",
   "execution_count": 339,
   "metadata": {},
   "outputs": [],
   "source": [
    "X_train = X_train.reshape((-1, M, 1))\n",
    "y_train = y_train.reshape((-1, N))"
   ]
  },
  {
   "cell_type": "markdown",
   "metadata": {},
   "source": [
    "## construct model"
   ]
  },
  {
   "cell_type": "code",
   "execution_count": 340,
   "metadata": {},
   "outputs": [],
   "source": [
    "model = Sequential()\n",
    "model.add(LSTM(50, input_shape=(X_train.shape[1], X_train.shape[2]),return_sequences=True,activation='linear'))\n",
    "model.add(LSTM(50, input_shape=(X_train.shape[1], X_train.shape[2])))\n",
    "model.add(Dense(N))"
   ]
  },
  {
   "cell_type": "code",
   "execution_count": 341,
   "metadata": {},
   "outputs": [
    {
     "name": "stdout",
     "output_type": "stream",
     "text": [
      "_________________________________________________________________\n",
      "Layer (type)                 Output Shape              Param #   \n",
      "=================================================================\n",
      "lstm_13 (LSTM)               (None, 16, 50)            10400     \n",
      "_________________________________________________________________\n",
      "lstm_14 (LSTM)               (None, 50)                20200     \n",
      "_________________________________________________________________\n",
      "dense_7 (Dense)              (None, 4)                 204       \n",
      "=================================================================\n",
      "Total params: 30,804\n",
      "Trainable params: 30,804\n",
      "Non-trainable params: 0\n",
      "_________________________________________________________________\n"
     ]
    }
   ],
   "source": [
    "model.summary()"
   ]
  },
  {
   "cell_type": "code",
   "execution_count": 342,
   "metadata": {},
   "outputs": [],
   "source": [
    "model.compile(loss='mean_squared_error', optimizer='nadam', metrics=['accuracy'])"
   ]
  },
  {
   "cell_type": "code",
   "execution_count": 343,
   "metadata": {},
   "outputs": [
    {
     "name": "stdout",
     "output_type": "stream",
     "text": [
      "Train on 529 samples, validate on 59 samples\n",
      "Epoch 1/100\n",
      "529/529 [==============================] - 4s 7ms/step - loss: 0.1240 - acc: 0.2476 - val_loss: 0.1091 - val_acc: 0.2373\n",
      "Epoch 2/100\n",
      "529/529 [==============================] - 0s 358us/step - loss: 0.1236 - acc: 0.2571 - val_loss: 0.1079 - val_acc: 0.2373\n",
      "Epoch 3/100\n",
      "529/529 [==============================] - 0s 364us/step - loss: 0.1236 - acc: 0.2552 - val_loss: 0.1084 - val_acc: 0.2542\n",
      "Epoch 4/100\n",
      "529/529 [==============================] - 0s 371us/step - loss: 0.1234 - acc: 0.2439 - val_loss: 0.1080 - val_acc: 0.2542\n",
      "Epoch 5/100\n",
      "529/529 [==============================] - 0s 366us/step - loss: 0.1235 - acc: 0.2231 - val_loss: 0.1080 - val_acc: 0.2542\n",
      "Epoch 6/100\n",
      "529/529 [==============================] - 0s 368us/step - loss: 0.1234 - acc: 0.2363 - val_loss: 0.1079 - val_acc: 0.2542\n",
      "Epoch 7/100\n",
      "529/529 [==============================] - 0s 370us/step - loss: 0.1233 - acc: 0.2382 - val_loss: 0.1078 - val_acc: 0.2542\n",
      "Epoch 8/100\n",
      "529/529 [==============================] - 0s 377us/step - loss: 0.1233 - acc: 0.2382 - val_loss: 0.1080 - val_acc: 0.2373\n",
      "Epoch 9/100\n",
      "529/529 [==============================] - 0s 368us/step - loss: 0.1232 - acc: 0.2325 - val_loss: 0.1077 - val_acc: 0.2542\n",
      "Epoch 10/100\n",
      "529/529 [==============================] - 0s 368us/step - loss: 0.1233 - acc: 0.2439 - val_loss: 0.1079 - val_acc: 0.2542\n",
      "Epoch 11/100\n",
      "529/529 [==============================] - 0s 358us/step - loss: 0.1233 - acc: 0.2401 - val_loss: 0.1083 - val_acc: 0.2712\n",
      "Epoch 12/100\n",
      "529/529 [==============================] - 0s 349us/step - loss: 0.1233 - acc: 0.2193 - val_loss: 0.1085 - val_acc: 0.2373\n",
      "Epoch 13/100\n",
      "529/529 [==============================] - 0s 368us/step - loss: 0.1233 - acc: 0.2401 - val_loss: 0.1077 - val_acc: 0.2373\n",
      "Epoch 14/100\n",
      "529/529 [==============================] - 0s 371us/step - loss: 0.1232 - acc: 0.2439 - val_loss: 0.1078 - val_acc: 0.2373\n",
      "Epoch 15/100\n",
      "529/529 [==============================] - 0s 381us/step - loss: 0.1232 - acc: 0.2363 - val_loss: 0.1085 - val_acc: 0.2034\n",
      "Epoch 16/100\n",
      "529/529 [==============================] - 0s 375us/step - loss: 0.1233 - acc: 0.2420 - val_loss: 0.1080 - val_acc: 0.2542\n",
      "Epoch 17/100\n",
      "529/529 [==============================] - 0s 375us/step - loss: 0.1231 - acc: 0.2325 - val_loss: 0.1077 - val_acc: 0.2203\n",
      "Epoch 18/100\n",
      "529/529 [==============================] - 0s 388us/step - loss: 0.1231 - acc: 0.2514 - val_loss: 0.1080 - val_acc: 0.2373\n",
      "Epoch 19/100\n",
      "529/529 [==============================] - 0s 371us/step - loss: 0.1231 - acc: 0.2533 - val_loss: 0.1079 - val_acc: 0.2712\n",
      "Epoch 20/100\n",
      "529/529 [==============================] - 0s 371us/step - loss: 0.1230 - acc: 0.2420 - val_loss: 0.1078 - val_acc: 0.2881\n",
      "Epoch 21/100\n",
      "529/529 [==============================] - 0s 359us/step - loss: 0.1231 - acc: 0.2647 - val_loss: 0.1076 - val_acc: 0.2203\n",
      "Epoch 22/100\n",
      "529/529 [==============================] - 0s 364us/step - loss: 0.1231 - acc: 0.2533 - val_loss: 0.1076 - val_acc: 0.2542\n",
      "Epoch 23/100\n",
      "529/529 [==============================] - 0s 377us/step - loss: 0.1229 - acc: 0.2609 - val_loss: 0.1077 - val_acc: 0.2373\n",
      "Epoch 24/100\n",
      "529/529 [==============================] - 0s 377us/step - loss: 0.1231 - acc: 0.2250 - val_loss: 0.1091 - val_acc: 0.2712\n",
      "Epoch 25/100\n",
      "529/529 [==============================] - 0s 379us/step - loss: 0.1230 - acc: 0.2495 - val_loss: 0.1077 - val_acc: 0.2034\n",
      "Epoch 26/100\n",
      "529/529 [==============================] - 0s 371us/step - loss: 0.1228 - acc: 0.2628 - val_loss: 0.1083 - val_acc: 0.2203\n",
      "Epoch 27/100\n",
      "529/529 [==============================] - 0s 386us/step - loss: 0.1229 - acc: 0.2628 - val_loss: 0.1082 - val_acc: 0.2373\n",
      "Epoch 28/100\n",
      "529/529 [==============================] - 0s 379us/step - loss: 0.1226 - acc: 0.2363 - val_loss: 0.1071 - val_acc: 0.2712\n",
      "Epoch 29/100\n",
      "529/529 [==============================] - 0s 379us/step - loss: 0.1233 - acc: 0.2533 - val_loss: 0.1081 - val_acc: 0.2881\n",
      "Epoch 30/100\n",
      "529/529 [==============================] - 0s 375us/step - loss: 0.1229 - acc: 0.2571 - val_loss: 0.1078 - val_acc: 0.3051\n",
      "Epoch 31/100\n",
      "529/529 [==============================] - 0s 368us/step - loss: 0.1228 - acc: 0.2609 - val_loss: 0.1077 - val_acc: 0.3559\n",
      "Epoch 32/100\n",
      "529/529 [==============================] - 0s 375us/step - loss: 0.1226 - acc: 0.2684 - val_loss: 0.1076 - val_acc: 0.2712\n",
      "Epoch 33/100\n",
      "529/529 [==============================] - 0s 375us/step - loss: 0.1227 - acc: 0.2439 - val_loss: 0.1084 - val_acc: 0.3051\n",
      "Epoch 34/100\n",
      "529/529 [==============================] - 0s 394us/step - loss: 0.1231 - acc: 0.2382 - val_loss: 0.1084 - val_acc: 0.2712\n",
      "Epoch 35/100\n",
      "529/529 [==============================] - 0s 377us/step - loss: 0.1229 - acc: 0.2647 - val_loss: 0.1083 - val_acc: 0.2881\n",
      "Epoch 36/100\n",
      "529/529 [==============================] - 0s 377us/step - loss: 0.1227 - acc: 0.2552 - val_loss: 0.1087 - val_acc: 0.2034\n",
      "Epoch 37/100\n",
      "529/529 [==============================] - 0s 403us/step - loss: 0.1226 - acc: 0.2268 - val_loss: 0.1075 - val_acc: 0.2542\n",
      "Epoch 38/100\n",
      "529/529 [==============================] - 0s 388us/step - loss: 0.1225 - acc: 0.2344 - val_loss: 0.1074 - val_acc: 0.3051\n",
      "Epoch 39/100\n",
      "529/529 [==============================] - 0s 383us/step - loss: 0.1225 - acc: 0.2798 - val_loss: 0.1072 - val_acc: 0.3390\n",
      "Epoch 40/100\n",
      "529/529 [==============================] - 0s 397us/step - loss: 0.1224 - acc: 0.2382 - val_loss: 0.1090 - val_acc: 0.2034\n",
      "Epoch 41/100\n",
      "529/529 [==============================] - 0s 377us/step - loss: 0.1220 - acc: 0.2344 - val_loss: 0.1080 - val_acc: 0.2203\n",
      "Epoch 42/100\n",
      "529/529 [==============================] - 0s 369us/step - loss: 0.1219 - acc: 0.2552 - val_loss: 0.1074 - val_acc: 0.2712\n",
      "Epoch 43/100\n",
      "529/529 [==============================] - 0s 396us/step - loss: 0.1218 - acc: 0.2571 - val_loss: 0.1087 - val_acc: 0.2542\n",
      "Epoch 44/100\n",
      "529/529 [==============================] - 0s 390us/step - loss: 0.1218 - acc: 0.2590 - val_loss: 0.1083 - val_acc: 0.2881\n",
      "Epoch 45/100\n",
      "529/529 [==============================] - 0s 392us/step - loss: 0.1216 - acc: 0.2647 - val_loss: 0.1076 - val_acc: 0.2203\n",
      "Epoch 46/100\n",
      "529/529 [==============================] - 0s 387us/step - loss: 0.1212 - acc: 0.2552 - val_loss: 0.1090 - val_acc: 0.2542\n",
      "Epoch 47/100\n",
      "529/529 [==============================] - 0s 392us/step - loss: 0.1219 - acc: 0.2533 - val_loss: 0.1079 - val_acc: 0.2542\n",
      "Epoch 48/100\n",
      "529/529 [==============================] - 0s 407us/step - loss: 0.1211 - acc: 0.2665 - val_loss: 0.1082 - val_acc: 0.2203\n",
      "Epoch 49/100\n",
      "529/529 [==============================] - 0s 436us/step - loss: 0.1214 - acc: 0.2590 - val_loss: 0.1080 - val_acc: 0.2373\n",
      "Epoch 50/100\n",
      "529/529 [==============================] - 0s 567us/step - loss: 0.1209 - acc: 0.2514 - val_loss: 0.1081 - val_acc: 0.2542\n",
      "Epoch 51/100\n",
      "529/529 [==============================] - 0s 615us/step - loss: 0.1207 - acc: 0.2665 - val_loss: 0.1090 - val_acc: 0.2203\n",
      "Epoch 52/100\n",
      "529/529 [==============================] - 0s 583us/step - loss: 0.1204 - acc: 0.2268 - val_loss: 0.1081 - val_acc: 0.2203\n",
      "Epoch 53/100\n",
      "529/529 [==============================] - 0s 577us/step - loss: 0.1200 - acc: 0.2590 - val_loss: 0.1088 - val_acc: 0.2542\n",
      "Epoch 54/100\n",
      "529/529 [==============================] - 0s 581us/step - loss: 0.1202 - acc: 0.2628 - val_loss: 0.1080 - val_acc: 0.3051\n",
      "Epoch 55/100\n",
      "529/529 [==============================] - 0s 598us/step - loss: 0.1198 - acc: 0.2665 - val_loss: 0.1072 - val_acc: 0.2203\n",
      "Epoch 56/100\n",
      "529/529 [==============================] - 0s 573us/step - loss: 0.1194 - acc: 0.2628 - val_loss: 0.1083 - val_acc: 0.2373\n",
      "Epoch 57/100\n",
      "529/529 [==============================] - 0s 579us/step - loss: 0.1188 - acc: 0.2836 - val_loss: 0.1082 - val_acc: 0.2373\n",
      "Epoch 58/100\n",
      "529/529 [==============================] - 0s 679us/step - loss: 0.1184 - acc: 0.2665 - val_loss: 0.1078 - val_acc: 0.2712\n",
      "Epoch 59/100\n",
      "529/529 [==============================] - 0s 813us/step - loss: 0.1177 - acc: 0.2892 - val_loss: 0.1084 - val_acc: 0.2203\n",
      "Epoch 60/100\n",
      "529/529 [==============================] - 0s 866us/step - loss: 0.1172 - acc: 0.2892 - val_loss: 0.1078 - val_acc: 0.2373\n"
     ]
    },
    {
     "name": "stdout",
     "output_type": "stream",
     "text": [
      "Epoch 61/100\n",
      "529/529 [==============================] - 0s 848us/step - loss: 0.1167 - acc: 0.3006 - val_loss: 0.1080 - val_acc: 0.2373\n",
      "Epoch 62/100\n",
      "529/529 [==============================] - 0s 670us/step - loss: 0.1151 - acc: 0.3214 - val_loss: 0.1085 - val_acc: 0.2881\n",
      "Epoch 63/100\n",
      "529/529 [==============================] - 0s 784us/step - loss: 0.1156 - acc: 0.3176 - val_loss: 0.1080 - val_acc: 0.2712\n",
      "Epoch 64/100\n",
      "529/529 [==============================] - 0s 795us/step - loss: 0.1142 - acc: 0.3119 - val_loss: 0.1115 - val_acc: 0.3051\n",
      "Epoch 65/100\n",
      "529/529 [==============================] - 0s 865us/step - loss: 0.1137 - acc: 0.3327 - val_loss: 0.1117 - val_acc: 0.2712\n",
      "Epoch 66/100\n",
      "529/529 [==============================] - 0s 873us/step - loss: 0.1119 - acc: 0.3308 - val_loss: 0.1188 - val_acc: 0.2203\n",
      "Epoch 67/100\n",
      "529/529 [==============================] - 0s 625us/step - loss: 0.1118 - acc: 0.3308 - val_loss: 0.1124 - val_acc: 0.2881\n",
      "Epoch 68/100\n",
      "529/529 [==============================] - 0s 639us/step - loss: 0.1107 - acc: 0.3611 - val_loss: 0.1116 - val_acc: 0.2881\n",
      "Epoch 69/100\n",
      "529/529 [==============================] - 0s 638us/step - loss: 0.1110 - acc: 0.3403 - val_loss: 0.1209 - val_acc: 0.2881\n",
      "Epoch 70/100\n",
      "529/529 [==============================] - 0s 646us/step - loss: 0.1085 - acc: 0.3440 - val_loss: 0.1103 - val_acc: 0.2203\n",
      "Epoch 71/100\n",
      "529/529 [==============================] - 0s 650us/step - loss: 0.1084 - acc: 0.3516 - val_loss: 0.1226 - val_acc: 0.2034\n",
      "Epoch 72/100\n",
      "529/529 [==============================] - 0s 605us/step - loss: 0.1062 - acc: 0.3724 - val_loss: 0.1241 - val_acc: 0.2373\n",
      "Epoch 73/100\n",
      "529/529 [==============================] - 0s 583us/step - loss: 0.1117 - acc: 0.3629 - val_loss: 0.1122 - val_acc: 0.2542\n",
      "Epoch 74/100\n",
      "529/529 [==============================] - 0s 657us/step - loss: 0.1077 - acc: 0.3611 - val_loss: 0.1202 - val_acc: 0.2373\n",
      "Epoch 75/100\n",
      "529/529 [==============================] - 0s 600us/step - loss: 0.1057 - acc: 0.3573 - val_loss: 0.1138 - val_acc: 0.2542\n",
      "Epoch 76/100\n",
      "529/529 [==============================] - 0s 600us/step - loss: 0.1071 - acc: 0.3403 - val_loss: 0.1356 - val_acc: 0.2542\n",
      "Epoch 77/100\n",
      "529/529 [==============================] - 0s 582us/step - loss: 0.1039 - acc: 0.3629 - val_loss: 0.1278 - val_acc: 0.1695\n",
      "Epoch 78/100\n",
      "529/529 [==============================] - 0s 588us/step - loss: 0.1036 - acc: 0.3800 - val_loss: 0.1295 - val_acc: 0.1525\n",
      "Epoch 79/100\n",
      "529/529 [==============================] - 0s 554us/step - loss: 0.1020 - acc: 0.3705 - val_loss: 0.1321 - val_acc: 0.2034\n",
      "Epoch 80/100\n",
      "529/529 [==============================] - 0s 583us/step - loss: 0.1008 - acc: 0.3648 - val_loss: 0.1267 - val_acc: 0.2542\n",
      "Epoch 81/100\n",
      "529/529 [==============================] - 0s 594us/step - loss: 0.1011 - acc: 0.3592 - val_loss: 0.1290 - val_acc: 0.1695\n",
      "Epoch 82/100\n",
      "529/529 [==============================] - 0s 569us/step - loss: 0.0998 - acc: 0.3686 - val_loss: 0.1203 - val_acc: 0.2034\n",
      "Epoch 83/100\n",
      "529/529 [==============================] - 0s 579us/step - loss: 0.0977 - acc: 0.4008 - val_loss: 0.1241 - val_acc: 0.2203\n",
      "Epoch 84/100\n",
      "529/529 [==============================] - ETA: 0s - loss: 0.0975 - acc: 0.390 - 0s 594us/step - loss: 0.0980 - acc: 0.3894 - val_loss: 0.1293 - val_acc: 0.2034\n",
      "Epoch 85/100\n",
      "529/529 [==============================] - 0s 551us/step - loss: 0.0956 - acc: 0.4064 - val_loss: 0.1491 - val_acc: 0.2881\n",
      "Epoch 86/100\n",
      "529/529 [==============================] - 0s 603us/step - loss: 0.0957 - acc: 0.3913 - val_loss: 0.1358 - val_acc: 0.1695\n",
      "Epoch 87/100\n",
      "529/529 [==============================] - 0s 588us/step - loss: 0.0937 - acc: 0.4216 - val_loss: 0.1272 - val_acc: 0.1695\n",
      "Epoch 88/100\n",
      "529/529 [==============================] - 0s 588us/step - loss: 0.0927 - acc: 0.4197 - val_loss: 0.1414 - val_acc: 0.1356\n",
      "Epoch 89/100\n",
      "529/529 [==============================] - 0s 607us/step - loss: 0.0906 - acc: 0.4197 - val_loss: 0.1264 - val_acc: 0.1695\n",
      "Epoch 90/100\n",
      "529/529 [==============================] - 0s 594us/step - loss: 0.0901 - acc: 0.4253 - val_loss: 0.1477 - val_acc: 0.3051\n",
      "Epoch 91/100\n",
      "529/529 [==============================] - 0s 589us/step - loss: 0.0921 - acc: 0.4386 - val_loss: 0.1390 - val_acc: 0.1186\n",
      "Epoch 92/100\n",
      "529/529 [==============================] - 0s 563us/step - loss: 0.0870 - acc: 0.4612 - val_loss: 0.1364 - val_acc: 0.1864\n",
      "Epoch 93/100\n",
      "529/529 [==============================] - 0s 613us/step - loss: 0.0858 - acc: 0.4631 - val_loss: 0.1402 - val_acc: 0.1695\n",
      "Epoch 94/100\n",
      "529/529 [==============================] - 0s 644us/step - loss: 0.0840 - acc: 0.4802 - val_loss: 0.1445 - val_acc: 0.1525\n",
      "Epoch 95/100\n",
      "529/529 [==============================] - 0s 652us/step - loss: 0.0831 - acc: 0.4745 - val_loss: 0.1445 - val_acc: 0.2034\n",
      "Epoch 96/100\n",
      "529/529 [==============================] - 0s 659us/step - loss: 0.0828 - acc: 0.4802 - val_loss: 0.1474 - val_acc: 0.2712\n",
      "Epoch 97/100\n",
      "529/529 [==============================] - 0s 605us/step - loss: 0.0814 - acc: 0.4745 - val_loss: 0.1468 - val_acc: 0.1864\n",
      "Epoch 98/100\n",
      "529/529 [==============================] - 0s 573us/step - loss: 0.0814 - acc: 0.4877 - val_loss: 0.1469 - val_acc: 0.2034\n",
      "Epoch 99/100\n",
      "529/529 [==============================] - 0s 622us/step - loss: 0.0781 - acc: 0.4839 - val_loss: 0.1412 - val_acc: 0.2034\n",
      "Epoch 100/100\n",
      "529/529 [==============================] - 0s 606us/step - loss: 0.0789 - acc: 0.5123 - val_loss: 0.1395 - val_acc: 0.2203\n"
     ]
    }
   ],
   "source": [
    "history = model.fit(X_train, y_train, epochs=100, batch_size=72, validation_split=0.1, verbose=1)"
   ]
  },
  {
   "cell_type": "markdown",
   "metadata": {},
   "source": [
    "## rescale test data"
   ]
  },
  {
   "cell_type": "code",
   "execution_count": 344,
   "metadata": {},
   "outputs": [],
   "source": [
    "testdata=np.array(sp_df.DailyRet)[607:len(sp_df)-1].reshape(-1,1)\n",
    "scaler = MinMaxScaler(feature_range=(-1, 1))\n",
    "testdata = scaler.fit_transform(testdata)\n",
    "testdata=pd.Series(np.squeeze(testdata))"
   ]
  },
  {
   "cell_type": "code",
   "execution_count": 345,
   "metadata": {},
   "outputs": [
    {
     "data": {
      "text/plain": [
       "0    0.003536\n",
       "1   -1.000000\n",
       "2   -0.153473\n",
       "3   -0.405191\n",
       "4   -0.023656\n",
       "dtype: float64"
      ]
     },
     "execution_count": 345,
     "metadata": {},
     "output_type": "execute_result"
    }
   ],
   "source": [
    "X_testoriginal=testdata\n",
    "X_testoriginal.reset_index(inplace=True,drop=True)\n",
    "X_testoriginal.head()"
   ]
  },
  {
   "cell_type": "code",
   "execution_count": 346,
   "metadata": {},
   "outputs": [
    {
     "data": {
      "text/plain": [
       "(45, 16, 1)"
      ]
     },
     "execution_count": 346,
     "metadata": {},
     "output_type": "execute_result"
    }
   ],
   "source": [
    "X_test = np.array([X_testoriginal[0:M]])\n",
    "for i in range(1,(len(X_testoriginal)-M-N)):\n",
    "    xadd = np.array([X_testoriginal[i:i+M]])\n",
    "    X_test=np.vstack((X_test,xadd))\n",
    "X_test = X_test.reshape((-1, M, 1))\n",
    "X_test.shape"
   ]
  },
  {
   "cell_type": "code",
   "execution_count": 347,
   "metadata": {},
   "outputs": [
    {
     "data": {
      "text/plain": [
       "(45, 4)"
      ]
     },
     "execution_count": 347,
     "metadata": {},
     "output_type": "execute_result"
    }
   ],
   "source": [
    "y_test = np.array([X_testoriginal[M:M+N]])\n",
    "for i in range(M+1,(len(X_testoriginal)-N)):\n",
    "    xadd = np.array([X_testoriginal[i:i+N]])\n",
    "    y_test=np.vstack((y_test,xadd))\n",
    "y_test.shape"
   ]
  },
  {
   "cell_type": "markdown",
   "metadata": {},
   "source": [
    "## test score and loss"
   ]
  },
  {
   "cell_type": "code",
   "execution_count": 348,
   "metadata": {},
   "outputs": [
    {
     "name": "stdout",
     "output_type": "stream",
     "text": [
      "Test loss score: 0.2315\n",
      "Test accuracy:   0.2222\n"
     ]
    }
   ],
   "source": [
    "test_val_score = model.evaluate(X_test, y_test, verbose=0)\n",
    "print('Test loss score: {0:.4f}'.format(test_val_score[0]))\n",
    "print('Test accuracy:   {0:.4f}'.format(test_val_score[1]))"
   ]
  },
  {
   "cell_type": "markdown",
   "metadata": {},
   "source": [
    "## make predictions"
   ]
  },
  {
   "cell_type": "code",
   "execution_count": 349,
   "metadata": {},
   "outputs": [
    {
     "data": {
      "text/plain": [
       "(45, 4)"
      ]
     },
     "execution_count": 349,
     "metadata": {},
     "output_type": "execute_result"
    }
   ],
   "source": [
    "y_pred = model.predict(X_test)\n",
    "y_pred.shape"
   ]
  },
  {
   "cell_type": "markdown",
   "metadata": {},
   "source": [
    "## transform scaled test data to original state"
   ]
  },
  {
   "cell_type": "code",
   "execution_count": 350,
   "metadata": {},
   "outputs": [],
   "source": [
    "y_pred = scaler.inverse_transform(y_pred)\n",
    "y_test = scaler.inverse_transform(y_test)"
   ]
  },
  {
   "cell_type": "markdown",
   "metadata": {},
   "source": [
    "## Calculate 1 day, 2 day, 3 day, 4 day returns"
   ]
  },
  {
   "cell_type": "code",
   "execution_count": 351,
   "metadata": {},
   "outputs": [],
   "source": [
    "y_predcumsum=np.cumsum(y_pred,axis=1) \n",
    "y_testcumsum=np.cumsum(y_test,axis=1) "
   ]
  },
  {
   "cell_type": "markdown",
   "metadata": {},
   "source": [
    "## RMSE and Correlation"
   ]
  },
  {
   "cell_type": "code",
   "execution_count": 352,
   "metadata": {},
   "outputs": [
    {
     "name": "stdout",
     "output_type": "stream",
     "text": [
      "The 1 day rmse is is 99.155141, corr is -0.021979\n",
      "The 2 day rmse is is 145.391972, corr is 0.067523\n",
      "The 3 day rmse is is 167.667202, corr is -0.111708\n",
      "The 4 day rmse is is 180.300575, corr is -0.143005\n"
     ]
    }
   ],
   "source": [
    "from sklearn import metrics\n",
    "rmselist=[]\n",
    "corrlist=[]\n",
    "for i in range(N):\n",
    "    rmse=np.sqrt(metrics.mean_squared_error(y_predcumsum[:,i], y_testcumsum[:,i]))\n",
    "    rmselist.append(rmse)\n",
    "    corr=np.corrcoef(y_predcumsum[:,i], y_testcumsum[:,i])[0,1]\n",
    "    corrlist.append(corr)\n",
    "    print(\"The %d day rmse is is %f, corr is %f\" % (i+1,rmse,corr))\n"
   ]
  },
  {
   "cell_type": "markdown",
   "metadata": {},
   "source": [
    "## plot of predict and actual data"
   ]
  },
  {
   "cell_type": "code",
   "execution_count": 329,
   "metadata": {},
   "outputs": [
    {
     "data": {
      "image/png": "[encoded data removed]",
      "text/plain": [
       "<Figure size 1080x648 with 4 Axes>"
      ]
     },
     "metadata": {},
     "output_type": "display_data"
    }
   ],
   "source": [
    "plt.figure(1,figsize=(15,9)) \n",
    "for i in range(N):\n",
    "    plt.subplot(2,2,i+1) #要生成两行两列，这是第一个图plt.subplot('行','列','编号')\n",
    "    plt.plot(y_predcumsum[:,i])\n",
    "    plt.plot(y_testcumsum[:,i])\n",
    "    plt.legend([\"y_predcumsum\",\"y_actualcumsum\"],loc =4)\n",
    "    titlename=''.join([str(i+1),\"-Day\"])\n",
    "    plt.title(titlename)\n",
    "plt.show()"
   ]
  },
  {
   "cell_type": "markdown",
   "metadata": {},
   "source": [
    "## What do you conclude regarding the quality of the forecasts?"
   ]
  },
  {
   "cell_type": "markdown",
   "metadata": {},
   "source": [
    "### According to correlation, the prediction and the actual data don't have strong linear correlation. According to rmse, the prediciton errors are a little big. According to plot above, the predction have the similar trend with actual data."
   ]
  }
 ],
 "metadata": {
  "anaconda-cloud": {},
  "kernelspec": {
   "display_name": "Python 3",
   "language": "python",
   "name": "python3"
  },
  "language_info": {
   "codemirror_mode": {
    "name": "ipython",
    "version": 3
   },
   "file_extension": ".py",
   "mimetype": "text/x-python",
   "name": "python",
   "nbconvert_exporter": "python",
   "pygments_lexer": "ipython3",
   "version": "3.7.1"
  }
 },
 "nbformat": 4,
 "nbformat_minor": 2
}
